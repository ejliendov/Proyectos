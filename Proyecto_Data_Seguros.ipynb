{
  "nbformat": 4,
  "nbformat_minor": 0,
  "metadata": {
    "colab": {
      "name": "Proyecto2_Data_Seguros.ipynb",
      "provenance": [],
      "collapsed_sections": [],
      "toc_visible": true,
      "authorship_tag": "ABX9TyN6s71ylf/M16gbdp1kOJfv",
      "include_colab_link": true
    },
    "kernelspec": {
      "name": "python3",
      "display_name": "Python 3"
    },
    "language_info": {
      "name": "python"
    }
  },
  "cells": [
    {
      "cell_type": "markdown",
      "metadata": {
        "id": "view-in-github",
        "colab_type": "text"
      },
      "source": [
        "<a href=\"https://colab.research.google.com/github/ejliendov/PythonBasics/blob/main/Proyecto_Data_Seguros.ipynb\" target=\"_parent\"><img src=\"https://colab.research.google.com/assets/colab-badge.svg\" alt=\"Open In Colab\"/></a>"
      ]
    },
    {
      "cell_type": "markdown",
      "metadata": {
        "id": "XOPzWhzIAZTH"
      },
      "source": [
        "# Montando el volumen"
      ]
    },
    {
      "cell_type": "code",
      "metadata": {
        "colab": {
          "base_uri": "https://localhost:8080/"
        },
        "id": "xAvDvOJG-qwE",
        "outputId": "d5363635-0cb9-447a-cb84-8ec1d3cc8bc1"
      },
      "source": [
        "# Montando el volumen\n",
        "from google.colab import drive\n",
        "drive.mount('/content/drive')"
      ],
      "execution_count": 78,
      "outputs": [
        {
          "output_type": "stream",
          "name": "stdout",
          "text": [
            "Drive already mounted at /content/drive; to attempt to forcibly remount, call drive.mount(\"/content/drive\", force_remount=True).\n"
          ]
        }
      ]
    },
    {
      "cell_type": "markdown",
      "metadata": {
        "id": "okRoFDmpuuIZ"
      },
      "source": [
        "# Importando librerías"
      ]
    },
    {
      "cell_type": "code",
      "metadata": {
        "id": "cPZZvE82BcLQ"
      },
      "source": [
        "import pandas as pd\n",
        "import numpy as np\n",
        "import matplotlib.pyplot as plt\n",
        "import missingno\n",
        "import seaborn as sb\n",
        "from sklearn.model_selection import train_test_split\n",
        "from sklearn.preprocessing import StandardScaler\n",
        "from sklearn.ensemble import RandomForestClassifier\n",
        "from sklearn.linear_model import LogisticRegression\n",
        "from sklearn.neighbors import KNeighborsClassifier\n",
        "from sklearn.model_selection import GridSearchCV\n",
        "from sklearn.model_selection import ParameterGrid"
      ],
      "execution_count": 133,
      "outputs": []
    },
    {
      "cell_type": "markdown",
      "metadata": {
        "id": "1yRPvqPUuxIp"
      },
      "source": [
        "# Cargando el dataset"
      ]
    },
    {
      "cell_type": "code",
      "metadata": {
        "id": "4_fqgsOPAnyg"
      },
      "source": [
        "# Cargando el dataset\n",
        "filename = '/content/drive/MyDrive/Coding Dojo/Libro2.xlsx'\n",
        "df = pd.read_excel(filename)"
      ],
      "execution_count": 80,
      "outputs": []
    },
    {
      "cell_type": "markdown",
      "metadata": {
        "id": "PwylSBOLBsSu"
      },
      "source": [
        "# Explorando el dataset"
      ]
    },
    {
      "cell_type": "code",
      "metadata": {
        "colab": {
          "base_uri": "https://localhost:8080/",
          "height": 453
        },
        "id": "eNVWhOqTBZVe",
        "outputId": "b207b11f-1f5c-4165-8f23-9f04a35dbba2"
      },
      "source": [
        "df.head(10)"
      ],
      "execution_count": 81,
      "outputs": [
        {
          "output_type": "execute_result",
          "data": {
            "text/html": [
              "<div>\n",
              "<style scoped>\n",
              "    .dataframe tbody tr th:only-of-type {\n",
              "        vertical-align: middle;\n",
              "    }\n",
              "\n",
              "    .dataframe tbody tr th {\n",
              "        vertical-align: top;\n",
              "    }\n",
              "\n",
              "    .dataframe thead th {\n",
              "        text-align: right;\n",
              "    }\n",
              "</style>\n",
              "<table border=\"1\" class=\"dataframe\">\n",
              "  <thead>\n",
              "    <tr style=\"text-align: right;\">\n",
              "      <th></th>\n",
              "      <th>NUM_POLIZA</th>\n",
              "      <th>INICIO_POLIZA</th>\n",
              "      <th>FIN_POLIZA</th>\n",
              "      <th>NOM_MARCA</th>\n",
              "      <th>NOM_MODELO</th>\n",
              "      <th>A?O_MODELO</th>\n",
              "      <th>NOM_USO_VEHI</th>\n",
              "      <th>COD_MON</th>\n",
              "      <th>NOM_TIP_VEHI</th>\n",
              "      <th>TIPO_EMISION</th>\n",
              "      <th>Suma de PRIMA BRUTA (COLONIZADA)</th>\n",
              "      <th>ANULADA</th>\n",
              "      <th>SA CRC</th>\n",
              "      <th>SINIESTRO</th>\n",
              "      <th>MONTO_SINIESTRO_CRC</th>\n",
              "    </tr>\n",
              "  </thead>\n",
              "  <tbody>\n",
              "    <tr>\n",
              "      <th>0</th>\n",
              "      <td>3021710100651</td>\n",
              "      <td>2017-04-18</td>\n",
              "      <td>2018-04-18</td>\n",
              "      <td>TOYOTA</td>\n",
              "      <td>LAND CRUISER</td>\n",
              "      <td>2008</td>\n",
              "      <td>PARTICULAR</td>\n",
              "      <td>1</td>\n",
              "      <td>PICK UP</td>\n",
              "      <td>RENOVADAS</td>\n",
              "      <td>0.0</td>\n",
              "      <td>0</td>\n",
              "      <td>17000000.0</td>\n",
              "      <td>0</td>\n",
              "      <td>NaN</td>\n",
              "    </tr>\n",
              "    <tr>\n",
              "      <th>1</th>\n",
              "      <td>3021710100652</td>\n",
              "      <td>2017-03-28</td>\n",
              "      <td>2018-03-28</td>\n",
              "      <td>JEEP</td>\n",
              "      <td>RENEGADE</td>\n",
              "      <td>2017</td>\n",
              "      <td>PARTICULAR</td>\n",
              "      <td>1</td>\n",
              "      <td>AUTOMOVIL</td>\n",
              "      <td>RENOVADAS</td>\n",
              "      <td>0.0</td>\n",
              "      <td>0</td>\n",
              "      <td>16000000.0</td>\n",
              "      <td>0</td>\n",
              "      <td>NaN</td>\n",
              "    </tr>\n",
              "    <tr>\n",
              "      <th>2</th>\n",
              "      <td>3021710100653</td>\n",
              "      <td>2017-07-11</td>\n",
              "      <td>2018-07-11</td>\n",
              "      <td>KIA</td>\n",
              "      <td>FORTE 1.6M/T</td>\n",
              "      <td>2017</td>\n",
              "      <td>PARTICULAR</td>\n",
              "      <td>1</td>\n",
              "      <td>AUTOMOVIL</td>\n",
              "      <td>RENOVADAS</td>\n",
              "      <td>0.0</td>\n",
              "      <td>0</td>\n",
              "      <td>13500000.0</td>\n",
              "      <td>0</td>\n",
              "      <td>NaN</td>\n",
              "    </tr>\n",
              "    <tr>\n",
              "      <th>3</th>\n",
              "      <td>3021710100654</td>\n",
              "      <td>2017-07-18</td>\n",
              "      <td>2018-07-18</td>\n",
              "      <td>CHEVROLET</td>\n",
              "      <td>SPARK</td>\n",
              "      <td>2008</td>\n",
              "      <td>PARTICULAR</td>\n",
              "      <td>1</td>\n",
              "      <td>AUTOMOVIL</td>\n",
              "      <td>RENOVADAS</td>\n",
              "      <td>0.0</td>\n",
              "      <td>0</td>\n",
              "      <td>3500000.0</td>\n",
              "      <td>0</td>\n",
              "      <td>NaN</td>\n",
              "    </tr>\n",
              "    <tr>\n",
              "      <th>4</th>\n",
              "      <td>3021710100655</td>\n",
              "      <td>2017-07-13</td>\n",
              "      <td>2018-07-13</td>\n",
              "      <td>HYUNDAI</td>\n",
              "      <td>ACCENT</td>\n",
              "      <td>2012</td>\n",
              "      <td>PARTICULAR</td>\n",
              "      <td>1</td>\n",
              "      <td>AUTOMOVIL</td>\n",
              "      <td>RENOVADAS</td>\n",
              "      <td>39872.3</td>\n",
              "      <td>0</td>\n",
              "      <td>8000000.0</td>\n",
              "      <td>0</td>\n",
              "      <td>NaN</td>\n",
              "    </tr>\n",
              "    <tr>\n",
              "      <th>5</th>\n",
              "      <td>3021710100656</td>\n",
              "      <td>2017-07-20</td>\n",
              "      <td>2018-07-20</td>\n",
              "      <td>JEEP</td>\n",
              "      <td>CHEROKEE</td>\n",
              "      <td>2008</td>\n",
              "      <td>PARTICULAR</td>\n",
              "      <td>1</td>\n",
              "      <td>PICK UP</td>\n",
              "      <td>RENOVADAS</td>\n",
              "      <td>0.0</td>\n",
              "      <td>0</td>\n",
              "      <td>8700000.0</td>\n",
              "      <td>0</td>\n",
              "      <td>NaN</td>\n",
              "    </tr>\n",
              "    <tr>\n",
              "      <th>6</th>\n",
              "      <td>3021710100657</td>\n",
              "      <td>2017-07-20</td>\n",
              "      <td>2018-07-20</td>\n",
              "      <td>TOYOTA</td>\n",
              "      <td>HILUX</td>\n",
              "      <td>2016</td>\n",
              "      <td>PARTICULAR</td>\n",
              "      <td>1</td>\n",
              "      <td>PICK UP</td>\n",
              "      <td>RENOVADAS</td>\n",
              "      <td>0.0</td>\n",
              "      <td>0</td>\n",
              "      <td>15000000.0</td>\n",
              "      <td>0</td>\n",
              "      <td>NaN</td>\n",
              "    </tr>\n",
              "    <tr>\n",
              "      <th>7</th>\n",
              "      <td>3021710100658</td>\n",
              "      <td>2017-07-15</td>\n",
              "      <td>2018-07-15</td>\n",
              "      <td>MG</td>\n",
              "      <td>MG GS</td>\n",
              "      <td>2017</td>\n",
              "      <td>PARTICULAR</td>\n",
              "      <td>1</td>\n",
              "      <td>AUTOMOVIL</td>\n",
              "      <td>RENOVADAS</td>\n",
              "      <td>-4655.4</td>\n",
              "      <td>0</td>\n",
              "      <td>15764000.0</td>\n",
              "      <td>0</td>\n",
              "      <td>NaN</td>\n",
              "    </tr>\n",
              "    <tr>\n",
              "      <th>8</th>\n",
              "      <td>3021710100659</td>\n",
              "      <td>2017-07-20</td>\n",
              "      <td>2018-07-20</td>\n",
              "      <td>TOYOTA</td>\n",
              "      <td>COROLLA</td>\n",
              "      <td>2015</td>\n",
              "      <td>PARTICULAR</td>\n",
              "      <td>1</td>\n",
              "      <td>AUTOMOVIL</td>\n",
              "      <td>RENOVADAS</td>\n",
              "      <td>0.0</td>\n",
              "      <td>0</td>\n",
              "      <td>12500000.0</td>\n",
              "      <td>0</td>\n",
              "      <td>NaN</td>\n",
              "    </tr>\n",
              "    <tr>\n",
              "      <th>9</th>\n",
              "      <td>3021710100660</td>\n",
              "      <td>2017-07-13</td>\n",
              "      <td>2018-07-13</td>\n",
              "      <td>HYUNDAI</td>\n",
              "      <td>ACCENT</td>\n",
              "      <td>2012</td>\n",
              "      <td>PARTICULAR</td>\n",
              "      <td>1</td>\n",
              "      <td>AUTOMOVIL</td>\n",
              "      <td>RENOVADAS</td>\n",
              "      <td>0.0</td>\n",
              "      <td>0</td>\n",
              "      <td>8000000.0</td>\n",
              "      <td>0</td>\n",
              "      <td>NaN</td>\n",
              "    </tr>\n",
              "  </tbody>\n",
              "</table>\n",
              "</div>"
            ],
            "text/plain": [
              "      NUM_POLIZA INICIO_POLIZA  ... SINIESTRO MONTO_SINIESTRO_CRC\n",
              "0  3021710100651    2017-04-18  ...         0                 NaN\n",
              "1  3021710100652    2017-03-28  ...         0                 NaN\n",
              "2  3021710100653    2017-07-11  ...         0                 NaN\n",
              "3  3021710100654    2017-07-18  ...         0                 NaN\n",
              "4  3021710100655    2017-07-13  ...         0                 NaN\n",
              "5  3021710100656    2017-07-20  ...         0                 NaN\n",
              "6  3021710100657    2017-07-20  ...         0                 NaN\n",
              "7  3021710100658    2017-07-15  ...         0                 NaN\n",
              "8  3021710100659    2017-07-20  ...         0                 NaN\n",
              "9  3021710100660    2017-07-13  ...         0                 NaN\n",
              "\n",
              "[10 rows x 15 columns]"
            ]
          },
          "metadata": {},
          "execution_count": 81
        }
      ]
    },
    {
      "cell_type": "markdown",
      "metadata": {
        "id": "ifFlH6DC9Ui5"
      },
      "source": [
        "\n",
        "\n",
        "---\n",
        "\n",
        "\n",
        "Estamos ante un dataset de una empresa de seguros. Es un dataset que contiene \n",
        "información de pólizas de automóvil y algunas de sus características básicas como marca, modelo, año del vehículo, uso del vehículo, tipo de vehículo, etc.\n",
        "Adicionalmente, tenemos informacipon sobre si la póliza ha tenido siniestro o no, durante le periodo evauado, y el monto de este siniestro.\n",
        "\n",
        "\n",
        "---\n",
        "\n",
        "\n",
        "\n"
      ]
    },
    {
      "cell_type": "code",
      "metadata": {
        "colab": {
          "base_uri": "https://localhost:8080/",
          "height": 318
        },
        "id": "Zc9OI_HYBxVS",
        "outputId": "3b9fed37-43b9-46a1-f97e-c3c87ec2ed55"
      },
      "source": [
        "df.describe()"
      ],
      "execution_count": 82,
      "outputs": [
        {
          "output_type": "execute_result",
          "data": {
            "text/html": [
              "<div>\n",
              "<style scoped>\n",
              "    .dataframe tbody tr th:only-of-type {\n",
              "        vertical-align: middle;\n",
              "    }\n",
              "\n",
              "    .dataframe tbody tr th {\n",
              "        vertical-align: top;\n",
              "    }\n",
              "\n",
              "    .dataframe thead th {\n",
              "        text-align: right;\n",
              "    }\n",
              "</style>\n",
              "<table border=\"1\" class=\"dataframe\">\n",
              "  <thead>\n",
              "    <tr style=\"text-align: right;\">\n",
              "      <th></th>\n",
              "      <th>NUM_POLIZA</th>\n",
              "      <th>A?O_MODELO</th>\n",
              "      <th>COD_MON</th>\n",
              "      <th>Suma de PRIMA BRUTA (COLONIZADA)</th>\n",
              "      <th>ANULADA</th>\n",
              "      <th>SA CRC</th>\n",
              "      <th>SINIESTRO</th>\n",
              "      <th>MONTO_SINIESTRO_CRC</th>\n",
              "    </tr>\n",
              "  </thead>\n",
              "  <tbody>\n",
              "    <tr>\n",
              "      <th>count</th>\n",
              "      <td>7.640000e+02</td>\n",
              "      <td>764.000000</td>\n",
              "      <td>764.000000</td>\n",
              "      <td>7.640000e+02</td>\n",
              "      <td>764.000000</td>\n",
              "      <td>7.640000e+02</td>\n",
              "      <td>764.000000</td>\n",
              "      <td>1.000000e+02</td>\n",
              "    </tr>\n",
              "    <tr>\n",
              "      <th>mean</th>\n",
              "      <td>3.021784e+12</td>\n",
              "      <td>2012.879581</td>\n",
              "      <td>1.075916</td>\n",
              "      <td>3.365931e+05</td>\n",
              "      <td>0.082461</td>\n",
              "      <td>1.066544e+07</td>\n",
              "      <td>0.091623</td>\n",
              "      <td>6.628560e+05</td>\n",
              "    </tr>\n",
              "    <tr>\n",
              "      <th>std</th>\n",
              "      <td>5.550503e+07</td>\n",
              "      <td>3.458975</td>\n",
              "      <td>0.265038</td>\n",
              "      <td>4.415966e+05</td>\n",
              "      <td>0.275246</td>\n",
              "      <td>6.621134e+06</td>\n",
              "      <td>0.288682</td>\n",
              "      <td>9.809802e+05</td>\n",
              "    </tr>\n",
              "    <tr>\n",
              "      <th>min</th>\n",
              "      <td>3.021710e+12</td>\n",
              "      <td>2003.000000</td>\n",
              "      <td>1.000000</td>\n",
              "      <td>-8.607406e+05</td>\n",
              "      <td>0.000000</td>\n",
              "      <td>2.500000e+06</td>\n",
              "      <td>0.000000</td>\n",
              "      <td>0.000000e+00</td>\n",
              "    </tr>\n",
              "    <tr>\n",
              "      <th>25%</th>\n",
              "      <td>3.021710e+12</td>\n",
              "      <td>2010.000000</td>\n",
              "      <td>1.000000</td>\n",
              "      <td>5.108220e+04</td>\n",
              "      <td>0.000000</td>\n",
              "      <td>6.000000e+06</td>\n",
              "      <td>0.000000</td>\n",
              "      <td>0.000000e+00</td>\n",
              "    </tr>\n",
              "    <tr>\n",
              "      <th>50%</th>\n",
              "      <td>3.021810e+12</td>\n",
              "      <td>2013.000000</td>\n",
              "      <td>1.000000</td>\n",
              "      <td>3.206582e+05</td>\n",
              "      <td>0.000000</td>\n",
              "      <td>8.500000e+06</td>\n",
              "      <td>0.000000</td>\n",
              "      <td>5.457435e+05</td>\n",
              "    </tr>\n",
              "    <tr>\n",
              "      <th>75%</th>\n",
              "      <td>3.021810e+12</td>\n",
              "      <td>2016.000000</td>\n",
              "      <td>1.000000</td>\n",
              "      <td>5.570431e+05</td>\n",
              "      <td>0.000000</td>\n",
              "      <td>1.448350e+07</td>\n",
              "      <td>0.000000</td>\n",
              "      <td>7.000000e+05</td>\n",
              "    </tr>\n",
              "    <tr>\n",
              "      <th>max</th>\n",
              "      <td>3.021910e+12</td>\n",
              "      <td>2019.000000</td>\n",
              "      <td>2.000000</td>\n",
              "      <td>3.481276e+06</td>\n",
              "      <td>1.000000</td>\n",
              "      <td>6.152640e+07</td>\n",
              "      <td>1.000000</td>\n",
              "      <td>7.500000e+06</td>\n",
              "    </tr>\n",
              "  </tbody>\n",
              "</table>\n",
              "</div>"
            ],
            "text/plain": [
              "         NUM_POLIZA   A?O_MODELO  ...   SINIESTRO  MONTO_SINIESTRO_CRC\n",
              "count  7.640000e+02   764.000000  ...  764.000000         1.000000e+02\n",
              "mean   3.021784e+12  2012.879581  ...    0.091623         6.628560e+05\n",
              "std    5.550503e+07     3.458975  ...    0.288682         9.809802e+05\n",
              "min    3.021710e+12  2003.000000  ...    0.000000         0.000000e+00\n",
              "25%    3.021710e+12  2010.000000  ...    0.000000         0.000000e+00\n",
              "50%    3.021810e+12  2013.000000  ...    0.000000         5.457435e+05\n",
              "75%    3.021810e+12  2016.000000  ...    0.000000         7.000000e+05\n",
              "max    3.021910e+12  2019.000000  ...    1.000000         7.500000e+06\n",
              "\n",
              "[8 rows x 8 columns]"
            ]
          },
          "metadata": {},
          "execution_count": 82
        }
      ]
    },
    {
      "cell_type": "code",
      "metadata": {
        "colab": {
          "base_uri": "https://localhost:8080/"
        },
        "id": "ieT8foyu3fDy",
        "outputId": "80fd35c9-c6d4-4043-e3d6-13bece298ab9"
      },
      "source": [
        "df.info()"
      ],
      "execution_count": 83,
      "outputs": [
        {
          "output_type": "stream",
          "name": "stdout",
          "text": [
            "<class 'pandas.core.frame.DataFrame'>\n",
            "RangeIndex: 764 entries, 0 to 763\n",
            "Data columns (total 15 columns):\n",
            " #   Column                            Non-Null Count  Dtype         \n",
            "---  ------                            --------------  -----         \n",
            " 0   NUM_POLIZA                        764 non-null    int64         \n",
            " 1   INICIO_POLIZA                     764 non-null    datetime64[ns]\n",
            " 2   FIN_POLIZA                        764 non-null    datetime64[ns]\n",
            " 3   NOM_MARCA                         764 non-null    object        \n",
            " 4   NOM_MODELO                        764 non-null    object        \n",
            " 5   A?O_MODELO                        764 non-null    int64         \n",
            " 6   NOM_USO_VEHI                      764 non-null    object        \n",
            " 7   COD_MON                           764 non-null    int64         \n",
            " 8   NOM_TIP_VEHI                      764 non-null    object        \n",
            " 9   TIPO_EMISION                      764 non-null    object        \n",
            " 10  Suma de PRIMA BRUTA (COLONIZADA)  764 non-null    float64       \n",
            " 11  ANULADA                           764 non-null    int64         \n",
            " 12  SA CRC                            764 non-null    float64       \n",
            " 13  SINIESTRO                         764 non-null    int64         \n",
            " 14  MONTO_SINIESTRO_CRC               100 non-null    float64       \n",
            "dtypes: datetime64[ns](2), float64(3), int64(5), object(5)\n",
            "memory usage: 89.7+ KB\n"
          ]
        }
      ]
    },
    {
      "cell_type": "code",
      "metadata": {
        "id": "tvkNIkOhD1ol",
        "colab": {
          "base_uri": "https://localhost:8080/"
        },
        "outputId": "61875e4e-ee81-4c6c-8806-2b581eabeade"
      },
      "source": [
        "df.isnull().sum()"
      ],
      "execution_count": 84,
      "outputs": [
        {
          "output_type": "execute_result",
          "data": {
            "text/plain": [
              "NUM_POLIZA                            0\n",
              "INICIO_POLIZA                         0\n",
              "FIN_POLIZA                            0\n",
              "NOM_MARCA                             0\n",
              "NOM_MODELO                            0\n",
              "A?O_MODELO                            0\n",
              "NOM_USO_VEHI                          0\n",
              "COD_MON                               0\n",
              "NOM_TIP_VEHI                          0\n",
              "TIPO_EMISION                          0\n",
              "Suma de PRIMA BRUTA (COLONIZADA)      0\n",
              "ANULADA                               0\n",
              "SA CRC                                0\n",
              "SINIESTRO                             0\n",
              "MONTO_SINIESTRO_CRC                 664\n",
              "dtype: int64"
            ]
          },
          "metadata": {},
          "execution_count": 84
        }
      ]
    },
    {
      "cell_type": "markdown",
      "metadata": {
        "id": "9HglQqE7K3H3"
      },
      "source": [
        "Aquí notamos que hay valores faltantes en en el campo 'MONTO_SINIESTROS_CRC'\n",
        "\n",
        "---\n",
        "Pero, en este caso de este dataset esos valores faltantes no son tal. Son simplemente aquellas pólizas que no tienen siniestros y por lo tanto no tienen monto de siniestros. De tal manera que estos valores que parecen 'faltantes' son realmente valores en cero. por lo tanto, procederemos a rellenar estos valores con ceros."
      ]
    },
    {
      "cell_type": "code",
      "metadata": {
        "colab": {
          "base_uri": "https://localhost:8080/",
          "height": 531
        },
        "id": "e93K7eVp6pIM",
        "outputId": "0e29ff92-2bd8-46d6-a95f-2c0be75cac8f"
      },
      "source": [
        "# Renombramos nuestro dataframe para conservar el original\n",
        "df1 = df.fillna(0)\n",
        "df1"
      ],
      "execution_count": 85,
      "outputs": [
        {
          "output_type": "execute_result",
          "data": {
            "text/html": [
              "<div>\n",
              "<style scoped>\n",
              "    .dataframe tbody tr th:only-of-type {\n",
              "        vertical-align: middle;\n",
              "    }\n",
              "\n",
              "    .dataframe tbody tr th {\n",
              "        vertical-align: top;\n",
              "    }\n",
              "\n",
              "    .dataframe thead th {\n",
              "        text-align: right;\n",
              "    }\n",
              "</style>\n",
              "<table border=\"1\" class=\"dataframe\">\n",
              "  <thead>\n",
              "    <tr style=\"text-align: right;\">\n",
              "      <th></th>\n",
              "      <th>NUM_POLIZA</th>\n",
              "      <th>INICIO_POLIZA</th>\n",
              "      <th>FIN_POLIZA</th>\n",
              "      <th>NOM_MARCA</th>\n",
              "      <th>NOM_MODELO</th>\n",
              "      <th>A?O_MODELO</th>\n",
              "      <th>NOM_USO_VEHI</th>\n",
              "      <th>COD_MON</th>\n",
              "      <th>NOM_TIP_VEHI</th>\n",
              "      <th>TIPO_EMISION</th>\n",
              "      <th>Suma de PRIMA BRUTA (COLONIZADA)</th>\n",
              "      <th>ANULADA</th>\n",
              "      <th>SA CRC</th>\n",
              "      <th>SINIESTRO</th>\n",
              "      <th>MONTO_SINIESTRO_CRC</th>\n",
              "    </tr>\n",
              "  </thead>\n",
              "  <tbody>\n",
              "    <tr>\n",
              "      <th>0</th>\n",
              "      <td>3021710100651</td>\n",
              "      <td>2017-04-18</td>\n",
              "      <td>2018-04-18</td>\n",
              "      <td>TOYOTA</td>\n",
              "      <td>LAND CRUISER</td>\n",
              "      <td>2008</td>\n",
              "      <td>PARTICULAR</td>\n",
              "      <td>1</td>\n",
              "      <td>PICK UP</td>\n",
              "      <td>RENOVADAS</td>\n",
              "      <td>0.0</td>\n",
              "      <td>0</td>\n",
              "      <td>17000000.0</td>\n",
              "      <td>0</td>\n",
              "      <td>0.0</td>\n",
              "    </tr>\n",
              "    <tr>\n",
              "      <th>1</th>\n",
              "      <td>3021710100652</td>\n",
              "      <td>2017-03-28</td>\n",
              "      <td>2018-03-28</td>\n",
              "      <td>JEEP</td>\n",
              "      <td>RENEGADE</td>\n",
              "      <td>2017</td>\n",
              "      <td>PARTICULAR</td>\n",
              "      <td>1</td>\n",
              "      <td>AUTOMOVIL</td>\n",
              "      <td>RENOVADAS</td>\n",
              "      <td>0.0</td>\n",
              "      <td>0</td>\n",
              "      <td>16000000.0</td>\n",
              "      <td>0</td>\n",
              "      <td>0.0</td>\n",
              "    </tr>\n",
              "    <tr>\n",
              "      <th>2</th>\n",
              "      <td>3021710100653</td>\n",
              "      <td>2017-07-11</td>\n",
              "      <td>2018-07-11</td>\n",
              "      <td>KIA</td>\n",
              "      <td>FORTE 1.6M/T</td>\n",
              "      <td>2017</td>\n",
              "      <td>PARTICULAR</td>\n",
              "      <td>1</td>\n",
              "      <td>AUTOMOVIL</td>\n",
              "      <td>RENOVADAS</td>\n",
              "      <td>0.0</td>\n",
              "      <td>0</td>\n",
              "      <td>13500000.0</td>\n",
              "      <td>0</td>\n",
              "      <td>0.0</td>\n",
              "    </tr>\n",
              "    <tr>\n",
              "      <th>3</th>\n",
              "      <td>3021710100654</td>\n",
              "      <td>2017-07-18</td>\n",
              "      <td>2018-07-18</td>\n",
              "      <td>CHEVROLET</td>\n",
              "      <td>SPARK</td>\n",
              "      <td>2008</td>\n",
              "      <td>PARTICULAR</td>\n",
              "      <td>1</td>\n",
              "      <td>AUTOMOVIL</td>\n",
              "      <td>RENOVADAS</td>\n",
              "      <td>0.0</td>\n",
              "      <td>0</td>\n",
              "      <td>3500000.0</td>\n",
              "      <td>0</td>\n",
              "      <td>0.0</td>\n",
              "    </tr>\n",
              "    <tr>\n",
              "      <th>4</th>\n",
              "      <td>3021710100655</td>\n",
              "      <td>2017-07-13</td>\n",
              "      <td>2018-07-13</td>\n",
              "      <td>HYUNDAI</td>\n",
              "      <td>ACCENT</td>\n",
              "      <td>2012</td>\n",
              "      <td>PARTICULAR</td>\n",
              "      <td>1</td>\n",
              "      <td>AUTOMOVIL</td>\n",
              "      <td>RENOVADAS</td>\n",
              "      <td>39872.3</td>\n",
              "      <td>0</td>\n",
              "      <td>8000000.0</td>\n",
              "      <td>0</td>\n",
              "      <td>0.0</td>\n",
              "    </tr>\n",
              "    <tr>\n",
              "      <th>...</th>\n",
              "      <td>...</td>\n",
              "      <td>...</td>\n",
              "      <td>...</td>\n",
              "      <td>...</td>\n",
              "      <td>...</td>\n",
              "      <td>...</td>\n",
              "      <td>...</td>\n",
              "      <td>...</td>\n",
              "      <td>...</td>\n",
              "      <td>...</td>\n",
              "      <td>...</td>\n",
              "      <td>...</td>\n",
              "      <td>...</td>\n",
              "      <td>...</td>\n",
              "      <td>...</td>\n",
              "    </tr>\n",
              "    <tr>\n",
              "      <th>759</th>\n",
              "      <td>3021910102411</td>\n",
              "      <td>2019-02-28</td>\n",
              "      <td>2020-02-28</td>\n",
              "      <td>TOYOTA</td>\n",
              "      <td>YARIS</td>\n",
              "      <td>2007</td>\n",
              "      <td>PARTICULAR</td>\n",
              "      <td>1</td>\n",
              "      <td>AUTOMOVIL</td>\n",
              "      <td>NUEVAS</td>\n",
              "      <td>-253258.1</td>\n",
              "      <td>1</td>\n",
              "      <td>4300000.0</td>\n",
              "      <td>0</td>\n",
              "      <td>0.0</td>\n",
              "    </tr>\n",
              "    <tr>\n",
              "      <th>760</th>\n",
              "      <td>3021910102413</td>\n",
              "      <td>2019-02-28</td>\n",
              "      <td>2020-02-28</td>\n",
              "      <td>HYUNDAI</td>\n",
              "      <td>ACCENT</td>\n",
              "      <td>2008</td>\n",
              "      <td>PARTICULAR</td>\n",
              "      <td>1</td>\n",
              "      <td>AUTOMOVIL</td>\n",
              "      <td>NUEVAS</td>\n",
              "      <td>-257957.5</td>\n",
              "      <td>1</td>\n",
              "      <td>4000000.0</td>\n",
              "      <td>0</td>\n",
              "      <td>0.0</td>\n",
              "    </tr>\n",
              "    <tr>\n",
              "      <th>761</th>\n",
              "      <td>3021910102420</td>\n",
              "      <td>2019-03-05</td>\n",
              "      <td>2020-03-05</td>\n",
              "      <td>CHEVROLET</td>\n",
              "      <td>CAPTIVA</td>\n",
              "      <td>2013</td>\n",
              "      <td>PARTICULAR</td>\n",
              "      <td>1</td>\n",
              "      <td>AUTOMOVIL</td>\n",
              "      <td>NUEVAS</td>\n",
              "      <td>-320195.3</td>\n",
              "      <td>1</td>\n",
              "      <td>8500000.0</td>\n",
              "      <td>0</td>\n",
              "      <td>0.0</td>\n",
              "    </tr>\n",
              "    <tr>\n",
              "      <th>762</th>\n",
              "      <td>3021910102519</td>\n",
              "      <td>2019-04-09</td>\n",
              "      <td>2020-04-09</td>\n",
              "      <td>MITSUBISHI</td>\n",
              "      <td>L200</td>\n",
              "      <td>2016</td>\n",
              "      <td>PARTICULAR</td>\n",
              "      <td>1</td>\n",
              "      <td>CARGA LIVIANA</td>\n",
              "      <td>NUEVAS</td>\n",
              "      <td>0.0</td>\n",
              "      <td>1</td>\n",
              "      <td>17000000.0</td>\n",
              "      <td>0</td>\n",
              "      <td>0.0</td>\n",
              "    </tr>\n",
              "    <tr>\n",
              "      <th>763</th>\n",
              "      <td>3021910102693</td>\n",
              "      <td>2019-04-28</td>\n",
              "      <td>2020-04-25</td>\n",
              "      <td>HYUNDAI</td>\n",
              "      <td>TUCSON</td>\n",
              "      <td>2016</td>\n",
              "      <td>PARTICULAR</td>\n",
              "      <td>1</td>\n",
              "      <td>AUTOMOVIL</td>\n",
              "      <td>NUEVAS</td>\n",
              "      <td>0.0</td>\n",
              "      <td>1</td>\n",
              "      <td>8000000.0</td>\n",
              "      <td>0</td>\n",
              "      <td>0.0</td>\n",
              "    </tr>\n",
              "  </tbody>\n",
              "</table>\n",
              "<p>764 rows × 15 columns</p>\n",
              "</div>"
            ],
            "text/plain": [
              "        NUM_POLIZA INICIO_POLIZA  ... SINIESTRO MONTO_SINIESTRO_CRC\n",
              "0    3021710100651    2017-04-18  ...         0                 0.0\n",
              "1    3021710100652    2017-03-28  ...         0                 0.0\n",
              "2    3021710100653    2017-07-11  ...         0                 0.0\n",
              "3    3021710100654    2017-07-18  ...         0                 0.0\n",
              "4    3021710100655    2017-07-13  ...         0                 0.0\n",
              "..             ...           ...  ...       ...                 ...\n",
              "759  3021910102411    2019-02-28  ...         0                 0.0\n",
              "760  3021910102413    2019-02-28  ...         0                 0.0\n",
              "761  3021910102420    2019-03-05  ...         0                 0.0\n",
              "762  3021910102519    2019-04-09  ...         0                 0.0\n",
              "763  3021910102693    2019-04-28  ...         0                 0.0\n",
              "\n",
              "[764 rows x 15 columns]"
            ]
          },
          "metadata": {},
          "execution_count": 85
        }
      ]
    },
    {
      "cell_type": "code",
      "metadata": {
        "colab": {
          "base_uri": "https://localhost:8080/"
        },
        "id": "f70KzG5Q8M7J",
        "outputId": "d5ca898b-bbe4-4b53-d72a-d52795b5f97f"
      },
      "source": [
        "df1.isnull().sum()"
      ],
      "execution_count": 86,
      "outputs": [
        {
          "output_type": "execute_result",
          "data": {
            "text/plain": [
              "NUM_POLIZA                          0\n",
              "INICIO_POLIZA                       0\n",
              "FIN_POLIZA                          0\n",
              "NOM_MARCA                           0\n",
              "NOM_MODELO                          0\n",
              "A?O_MODELO                          0\n",
              "NOM_USO_VEHI                        0\n",
              "COD_MON                             0\n",
              "NOM_TIP_VEHI                        0\n",
              "TIPO_EMISION                        0\n",
              "Suma de PRIMA BRUTA (COLONIZADA)    0\n",
              "ANULADA                             0\n",
              "SA CRC                              0\n",
              "SINIESTRO                           0\n",
              "MONTO_SINIESTRO_CRC                 0\n",
              "dtype: int64"
            ]
          },
          "metadata": {},
          "execution_count": 86
        }
      ]
    },
    {
      "cell_type": "markdown",
      "metadata": {
        "id": "1DW7mACL8S0y"
      },
      "source": [
        "Ya hemos rellenado los valores faltantes de nuestro dataset.\n",
        "\n",
        "---\n",
        "\n",
        "Adicionalmente, vemos que los nombres que el dataset trae por defecto son un poco largos, por lo tanto vamos a renombrar las columnas para simplificar el proceso de escritura de código.\n"
      ]
    },
    {
      "cell_type": "code",
      "metadata": {
        "colab": {
          "base_uri": "https://localhost:8080/",
          "height": 496
        },
        "id": "j7PwCCvTBF7d",
        "outputId": "998edcef-e67a-4b8a-8156-7cded36d6a75"
      },
      "source": [
        "df2 = df1.rename(columns={'NUM_POLIZA':'poliza','INICIO_POLIZA':'inicio','FIN_POLIZA':'fin','NOM_MARCA':'marca',\n",
        "                          'NOM_MODELO':'modelo','A?O_MODELO':'ano','NOM_USO_VEHI':'uso','COD_MON':'mon',\n",
        "                          'NOM_TIP_VEHI':'tipo_veh','TIPO_EMISION':'tipo_emi',\n",
        "                          'Suma de PRIMA BRUTA (COLONIZADA)':'prima_crc','ANULADA':'anu','SA CRC':'sa_crc',\n",
        "                          'SINIESTRO':'sini','MONTO_SINIESTRO_CRC':'monto_sin_crc'})\n",
        "df2"
      ],
      "execution_count": 87,
      "outputs": [
        {
          "output_type": "execute_result",
          "data": {
            "text/html": [
              "<div>\n",
              "<style scoped>\n",
              "    .dataframe tbody tr th:only-of-type {\n",
              "        vertical-align: middle;\n",
              "    }\n",
              "\n",
              "    .dataframe tbody tr th {\n",
              "        vertical-align: top;\n",
              "    }\n",
              "\n",
              "    .dataframe thead th {\n",
              "        text-align: right;\n",
              "    }\n",
              "</style>\n",
              "<table border=\"1\" class=\"dataframe\">\n",
              "  <thead>\n",
              "    <tr style=\"text-align: right;\">\n",
              "      <th></th>\n",
              "      <th>poliza</th>\n",
              "      <th>inicio</th>\n",
              "      <th>fin</th>\n",
              "      <th>marca</th>\n",
              "      <th>modelo</th>\n",
              "      <th>ano</th>\n",
              "      <th>uso</th>\n",
              "      <th>mon</th>\n",
              "      <th>tipo_veh</th>\n",
              "      <th>tipo_emi</th>\n",
              "      <th>prima_crc</th>\n",
              "      <th>anu</th>\n",
              "      <th>sa_crc</th>\n",
              "      <th>sini</th>\n",
              "      <th>monto_sin_crc</th>\n",
              "    </tr>\n",
              "  </thead>\n",
              "  <tbody>\n",
              "    <tr>\n",
              "      <th>0</th>\n",
              "      <td>3021710100651</td>\n",
              "      <td>2017-04-18</td>\n",
              "      <td>2018-04-18</td>\n",
              "      <td>TOYOTA</td>\n",
              "      <td>LAND CRUISER</td>\n",
              "      <td>2008</td>\n",
              "      <td>PARTICULAR</td>\n",
              "      <td>1</td>\n",
              "      <td>PICK UP</td>\n",
              "      <td>RENOVADAS</td>\n",
              "      <td>0.0</td>\n",
              "      <td>0</td>\n",
              "      <td>17000000.0</td>\n",
              "      <td>0</td>\n",
              "      <td>0.0</td>\n",
              "    </tr>\n",
              "    <tr>\n",
              "      <th>1</th>\n",
              "      <td>3021710100652</td>\n",
              "      <td>2017-03-28</td>\n",
              "      <td>2018-03-28</td>\n",
              "      <td>JEEP</td>\n",
              "      <td>RENEGADE</td>\n",
              "      <td>2017</td>\n",
              "      <td>PARTICULAR</td>\n",
              "      <td>1</td>\n",
              "      <td>AUTOMOVIL</td>\n",
              "      <td>RENOVADAS</td>\n",
              "      <td>0.0</td>\n",
              "      <td>0</td>\n",
              "      <td>16000000.0</td>\n",
              "      <td>0</td>\n",
              "      <td>0.0</td>\n",
              "    </tr>\n",
              "    <tr>\n",
              "      <th>2</th>\n",
              "      <td>3021710100653</td>\n",
              "      <td>2017-07-11</td>\n",
              "      <td>2018-07-11</td>\n",
              "      <td>KIA</td>\n",
              "      <td>FORTE 1.6M/T</td>\n",
              "      <td>2017</td>\n",
              "      <td>PARTICULAR</td>\n",
              "      <td>1</td>\n",
              "      <td>AUTOMOVIL</td>\n",
              "      <td>RENOVADAS</td>\n",
              "      <td>0.0</td>\n",
              "      <td>0</td>\n",
              "      <td>13500000.0</td>\n",
              "      <td>0</td>\n",
              "      <td>0.0</td>\n",
              "    </tr>\n",
              "    <tr>\n",
              "      <th>3</th>\n",
              "      <td>3021710100654</td>\n",
              "      <td>2017-07-18</td>\n",
              "      <td>2018-07-18</td>\n",
              "      <td>CHEVROLET</td>\n",
              "      <td>SPARK</td>\n",
              "      <td>2008</td>\n",
              "      <td>PARTICULAR</td>\n",
              "      <td>1</td>\n",
              "      <td>AUTOMOVIL</td>\n",
              "      <td>RENOVADAS</td>\n",
              "      <td>0.0</td>\n",
              "      <td>0</td>\n",
              "      <td>3500000.0</td>\n",
              "      <td>0</td>\n",
              "      <td>0.0</td>\n",
              "    </tr>\n",
              "    <tr>\n",
              "      <th>4</th>\n",
              "      <td>3021710100655</td>\n",
              "      <td>2017-07-13</td>\n",
              "      <td>2018-07-13</td>\n",
              "      <td>HYUNDAI</td>\n",
              "      <td>ACCENT</td>\n",
              "      <td>2012</td>\n",
              "      <td>PARTICULAR</td>\n",
              "      <td>1</td>\n",
              "      <td>AUTOMOVIL</td>\n",
              "      <td>RENOVADAS</td>\n",
              "      <td>39872.3</td>\n",
              "      <td>0</td>\n",
              "      <td>8000000.0</td>\n",
              "      <td>0</td>\n",
              "      <td>0.0</td>\n",
              "    </tr>\n",
              "    <tr>\n",
              "      <th>...</th>\n",
              "      <td>...</td>\n",
              "      <td>...</td>\n",
              "      <td>...</td>\n",
              "      <td>...</td>\n",
              "      <td>...</td>\n",
              "      <td>...</td>\n",
              "      <td>...</td>\n",
              "      <td>...</td>\n",
              "      <td>...</td>\n",
              "      <td>...</td>\n",
              "      <td>...</td>\n",
              "      <td>...</td>\n",
              "      <td>...</td>\n",
              "      <td>...</td>\n",
              "      <td>...</td>\n",
              "    </tr>\n",
              "    <tr>\n",
              "      <th>759</th>\n",
              "      <td>3021910102411</td>\n",
              "      <td>2019-02-28</td>\n",
              "      <td>2020-02-28</td>\n",
              "      <td>TOYOTA</td>\n",
              "      <td>YARIS</td>\n",
              "      <td>2007</td>\n",
              "      <td>PARTICULAR</td>\n",
              "      <td>1</td>\n",
              "      <td>AUTOMOVIL</td>\n",
              "      <td>NUEVAS</td>\n",
              "      <td>-253258.1</td>\n",
              "      <td>1</td>\n",
              "      <td>4300000.0</td>\n",
              "      <td>0</td>\n",
              "      <td>0.0</td>\n",
              "    </tr>\n",
              "    <tr>\n",
              "      <th>760</th>\n",
              "      <td>3021910102413</td>\n",
              "      <td>2019-02-28</td>\n",
              "      <td>2020-02-28</td>\n",
              "      <td>HYUNDAI</td>\n",
              "      <td>ACCENT</td>\n",
              "      <td>2008</td>\n",
              "      <td>PARTICULAR</td>\n",
              "      <td>1</td>\n",
              "      <td>AUTOMOVIL</td>\n",
              "      <td>NUEVAS</td>\n",
              "      <td>-257957.5</td>\n",
              "      <td>1</td>\n",
              "      <td>4000000.0</td>\n",
              "      <td>0</td>\n",
              "      <td>0.0</td>\n",
              "    </tr>\n",
              "    <tr>\n",
              "      <th>761</th>\n",
              "      <td>3021910102420</td>\n",
              "      <td>2019-03-05</td>\n",
              "      <td>2020-03-05</td>\n",
              "      <td>CHEVROLET</td>\n",
              "      <td>CAPTIVA</td>\n",
              "      <td>2013</td>\n",
              "      <td>PARTICULAR</td>\n",
              "      <td>1</td>\n",
              "      <td>AUTOMOVIL</td>\n",
              "      <td>NUEVAS</td>\n",
              "      <td>-320195.3</td>\n",
              "      <td>1</td>\n",
              "      <td>8500000.0</td>\n",
              "      <td>0</td>\n",
              "      <td>0.0</td>\n",
              "    </tr>\n",
              "    <tr>\n",
              "      <th>762</th>\n",
              "      <td>3021910102519</td>\n",
              "      <td>2019-04-09</td>\n",
              "      <td>2020-04-09</td>\n",
              "      <td>MITSUBISHI</td>\n",
              "      <td>L200</td>\n",
              "      <td>2016</td>\n",
              "      <td>PARTICULAR</td>\n",
              "      <td>1</td>\n",
              "      <td>CARGA LIVIANA</td>\n",
              "      <td>NUEVAS</td>\n",
              "      <td>0.0</td>\n",
              "      <td>1</td>\n",
              "      <td>17000000.0</td>\n",
              "      <td>0</td>\n",
              "      <td>0.0</td>\n",
              "    </tr>\n",
              "    <tr>\n",
              "      <th>763</th>\n",
              "      <td>3021910102693</td>\n",
              "      <td>2019-04-28</td>\n",
              "      <td>2020-04-25</td>\n",
              "      <td>HYUNDAI</td>\n",
              "      <td>TUCSON</td>\n",
              "      <td>2016</td>\n",
              "      <td>PARTICULAR</td>\n",
              "      <td>1</td>\n",
              "      <td>AUTOMOVIL</td>\n",
              "      <td>NUEVAS</td>\n",
              "      <td>0.0</td>\n",
              "      <td>1</td>\n",
              "      <td>8000000.0</td>\n",
              "      <td>0</td>\n",
              "      <td>0.0</td>\n",
              "    </tr>\n",
              "  </tbody>\n",
              "</table>\n",
              "<p>764 rows × 15 columns</p>\n",
              "</div>"
            ],
            "text/plain": [
              "            poliza     inicio        fin  ...      sa_crc sini  monto_sin_crc\n",
              "0    3021710100651 2017-04-18 2018-04-18  ...  17000000.0    0            0.0\n",
              "1    3021710100652 2017-03-28 2018-03-28  ...  16000000.0    0            0.0\n",
              "2    3021710100653 2017-07-11 2018-07-11  ...  13500000.0    0            0.0\n",
              "3    3021710100654 2017-07-18 2018-07-18  ...   3500000.0    0            0.0\n",
              "4    3021710100655 2017-07-13 2018-07-13  ...   8000000.0    0            0.0\n",
              "..             ...        ...        ...  ...         ...  ...            ...\n",
              "759  3021910102411 2019-02-28 2020-02-28  ...   4300000.0    0            0.0\n",
              "760  3021910102413 2019-02-28 2020-02-28  ...   4000000.0    0            0.0\n",
              "761  3021910102420 2019-03-05 2020-03-05  ...   8500000.0    0            0.0\n",
              "762  3021910102519 2019-04-09 2020-04-09  ...  17000000.0    0            0.0\n",
              "763  3021910102693 2019-04-28 2020-04-25  ...   8000000.0    0            0.0\n",
              "\n",
              "[764 rows x 15 columns]"
            ]
          },
          "metadata": {},
          "execution_count": 87
        }
      ]
    },
    {
      "cell_type": "code",
      "metadata": {
        "colab": {
          "base_uri": "https://localhost:8080/",
          "height": 527
        },
        "id": "s_tWZGeM0wTu",
        "outputId": "0295c38f-6f4b-4cd0-d895-760aef38fb39"
      },
      "source": [
        "#Transformamos el campo 'poliza' en el índice del dataset\n",
        "df2 = df2.set_index('poliza')\n",
        "df2"
      ],
      "execution_count": 88,
      "outputs": [
        {
          "output_type": "execute_result",
          "data": {
            "text/html": [
              "<div>\n",
              "<style scoped>\n",
              "    .dataframe tbody tr th:only-of-type {\n",
              "        vertical-align: middle;\n",
              "    }\n",
              "\n",
              "    .dataframe tbody tr th {\n",
              "        vertical-align: top;\n",
              "    }\n",
              "\n",
              "    .dataframe thead th {\n",
              "        text-align: right;\n",
              "    }\n",
              "</style>\n",
              "<table border=\"1\" class=\"dataframe\">\n",
              "  <thead>\n",
              "    <tr style=\"text-align: right;\">\n",
              "      <th></th>\n",
              "      <th>inicio</th>\n",
              "      <th>fin</th>\n",
              "      <th>marca</th>\n",
              "      <th>modelo</th>\n",
              "      <th>ano</th>\n",
              "      <th>uso</th>\n",
              "      <th>mon</th>\n",
              "      <th>tipo_veh</th>\n",
              "      <th>tipo_emi</th>\n",
              "      <th>prima_crc</th>\n",
              "      <th>anu</th>\n",
              "      <th>sa_crc</th>\n",
              "      <th>sini</th>\n",
              "      <th>monto_sin_crc</th>\n",
              "    </tr>\n",
              "    <tr>\n",
              "      <th>poliza</th>\n",
              "      <th></th>\n",
              "      <th></th>\n",
              "      <th></th>\n",
              "      <th></th>\n",
              "      <th></th>\n",
              "      <th></th>\n",
              "      <th></th>\n",
              "      <th></th>\n",
              "      <th></th>\n",
              "      <th></th>\n",
              "      <th></th>\n",
              "      <th></th>\n",
              "      <th></th>\n",
              "      <th></th>\n",
              "    </tr>\n",
              "  </thead>\n",
              "  <tbody>\n",
              "    <tr>\n",
              "      <th>3021710100651</th>\n",
              "      <td>2017-04-18</td>\n",
              "      <td>2018-04-18</td>\n",
              "      <td>TOYOTA</td>\n",
              "      <td>LAND CRUISER</td>\n",
              "      <td>2008</td>\n",
              "      <td>PARTICULAR</td>\n",
              "      <td>1</td>\n",
              "      <td>PICK UP</td>\n",
              "      <td>RENOVADAS</td>\n",
              "      <td>0.0</td>\n",
              "      <td>0</td>\n",
              "      <td>17000000.0</td>\n",
              "      <td>0</td>\n",
              "      <td>0.0</td>\n",
              "    </tr>\n",
              "    <tr>\n",
              "      <th>3021710100652</th>\n",
              "      <td>2017-03-28</td>\n",
              "      <td>2018-03-28</td>\n",
              "      <td>JEEP</td>\n",
              "      <td>RENEGADE</td>\n",
              "      <td>2017</td>\n",
              "      <td>PARTICULAR</td>\n",
              "      <td>1</td>\n",
              "      <td>AUTOMOVIL</td>\n",
              "      <td>RENOVADAS</td>\n",
              "      <td>0.0</td>\n",
              "      <td>0</td>\n",
              "      <td>16000000.0</td>\n",
              "      <td>0</td>\n",
              "      <td>0.0</td>\n",
              "    </tr>\n",
              "    <tr>\n",
              "      <th>3021710100653</th>\n",
              "      <td>2017-07-11</td>\n",
              "      <td>2018-07-11</td>\n",
              "      <td>KIA</td>\n",
              "      <td>FORTE 1.6M/T</td>\n",
              "      <td>2017</td>\n",
              "      <td>PARTICULAR</td>\n",
              "      <td>1</td>\n",
              "      <td>AUTOMOVIL</td>\n",
              "      <td>RENOVADAS</td>\n",
              "      <td>0.0</td>\n",
              "      <td>0</td>\n",
              "      <td>13500000.0</td>\n",
              "      <td>0</td>\n",
              "      <td>0.0</td>\n",
              "    </tr>\n",
              "    <tr>\n",
              "      <th>3021710100654</th>\n",
              "      <td>2017-07-18</td>\n",
              "      <td>2018-07-18</td>\n",
              "      <td>CHEVROLET</td>\n",
              "      <td>SPARK</td>\n",
              "      <td>2008</td>\n",
              "      <td>PARTICULAR</td>\n",
              "      <td>1</td>\n",
              "      <td>AUTOMOVIL</td>\n",
              "      <td>RENOVADAS</td>\n",
              "      <td>0.0</td>\n",
              "      <td>0</td>\n",
              "      <td>3500000.0</td>\n",
              "      <td>0</td>\n",
              "      <td>0.0</td>\n",
              "    </tr>\n",
              "    <tr>\n",
              "      <th>3021710100655</th>\n",
              "      <td>2017-07-13</td>\n",
              "      <td>2018-07-13</td>\n",
              "      <td>HYUNDAI</td>\n",
              "      <td>ACCENT</td>\n",
              "      <td>2012</td>\n",
              "      <td>PARTICULAR</td>\n",
              "      <td>1</td>\n",
              "      <td>AUTOMOVIL</td>\n",
              "      <td>RENOVADAS</td>\n",
              "      <td>39872.3</td>\n",
              "      <td>0</td>\n",
              "      <td>8000000.0</td>\n",
              "      <td>0</td>\n",
              "      <td>0.0</td>\n",
              "    </tr>\n",
              "    <tr>\n",
              "      <th>...</th>\n",
              "      <td>...</td>\n",
              "      <td>...</td>\n",
              "      <td>...</td>\n",
              "      <td>...</td>\n",
              "      <td>...</td>\n",
              "      <td>...</td>\n",
              "      <td>...</td>\n",
              "      <td>...</td>\n",
              "      <td>...</td>\n",
              "      <td>...</td>\n",
              "      <td>...</td>\n",
              "      <td>...</td>\n",
              "      <td>...</td>\n",
              "      <td>...</td>\n",
              "    </tr>\n",
              "    <tr>\n",
              "      <th>3021910102411</th>\n",
              "      <td>2019-02-28</td>\n",
              "      <td>2020-02-28</td>\n",
              "      <td>TOYOTA</td>\n",
              "      <td>YARIS</td>\n",
              "      <td>2007</td>\n",
              "      <td>PARTICULAR</td>\n",
              "      <td>1</td>\n",
              "      <td>AUTOMOVIL</td>\n",
              "      <td>NUEVAS</td>\n",
              "      <td>-253258.1</td>\n",
              "      <td>1</td>\n",
              "      <td>4300000.0</td>\n",
              "      <td>0</td>\n",
              "      <td>0.0</td>\n",
              "    </tr>\n",
              "    <tr>\n",
              "      <th>3021910102413</th>\n",
              "      <td>2019-02-28</td>\n",
              "      <td>2020-02-28</td>\n",
              "      <td>HYUNDAI</td>\n",
              "      <td>ACCENT</td>\n",
              "      <td>2008</td>\n",
              "      <td>PARTICULAR</td>\n",
              "      <td>1</td>\n",
              "      <td>AUTOMOVIL</td>\n",
              "      <td>NUEVAS</td>\n",
              "      <td>-257957.5</td>\n",
              "      <td>1</td>\n",
              "      <td>4000000.0</td>\n",
              "      <td>0</td>\n",
              "      <td>0.0</td>\n",
              "    </tr>\n",
              "    <tr>\n",
              "      <th>3021910102420</th>\n",
              "      <td>2019-03-05</td>\n",
              "      <td>2020-03-05</td>\n",
              "      <td>CHEVROLET</td>\n",
              "      <td>CAPTIVA</td>\n",
              "      <td>2013</td>\n",
              "      <td>PARTICULAR</td>\n",
              "      <td>1</td>\n",
              "      <td>AUTOMOVIL</td>\n",
              "      <td>NUEVAS</td>\n",
              "      <td>-320195.3</td>\n",
              "      <td>1</td>\n",
              "      <td>8500000.0</td>\n",
              "      <td>0</td>\n",
              "      <td>0.0</td>\n",
              "    </tr>\n",
              "    <tr>\n",
              "      <th>3021910102519</th>\n",
              "      <td>2019-04-09</td>\n",
              "      <td>2020-04-09</td>\n",
              "      <td>MITSUBISHI</td>\n",
              "      <td>L200</td>\n",
              "      <td>2016</td>\n",
              "      <td>PARTICULAR</td>\n",
              "      <td>1</td>\n",
              "      <td>CARGA LIVIANA</td>\n",
              "      <td>NUEVAS</td>\n",
              "      <td>0.0</td>\n",
              "      <td>1</td>\n",
              "      <td>17000000.0</td>\n",
              "      <td>0</td>\n",
              "      <td>0.0</td>\n",
              "    </tr>\n",
              "    <tr>\n",
              "      <th>3021910102693</th>\n",
              "      <td>2019-04-28</td>\n",
              "      <td>2020-04-25</td>\n",
              "      <td>HYUNDAI</td>\n",
              "      <td>TUCSON</td>\n",
              "      <td>2016</td>\n",
              "      <td>PARTICULAR</td>\n",
              "      <td>1</td>\n",
              "      <td>AUTOMOVIL</td>\n",
              "      <td>NUEVAS</td>\n",
              "      <td>0.0</td>\n",
              "      <td>1</td>\n",
              "      <td>8000000.0</td>\n",
              "      <td>0</td>\n",
              "      <td>0.0</td>\n",
              "    </tr>\n",
              "  </tbody>\n",
              "</table>\n",
              "<p>764 rows × 14 columns</p>\n",
              "</div>"
            ],
            "text/plain": [
              "                  inicio        fin  ... sini monto_sin_crc\n",
              "poliza                               ...                   \n",
              "3021710100651 2017-04-18 2018-04-18  ...    0           0.0\n",
              "3021710100652 2017-03-28 2018-03-28  ...    0           0.0\n",
              "3021710100653 2017-07-11 2018-07-11  ...    0           0.0\n",
              "3021710100654 2017-07-18 2018-07-18  ...    0           0.0\n",
              "3021710100655 2017-07-13 2018-07-13  ...    0           0.0\n",
              "...                  ...        ...  ...  ...           ...\n",
              "3021910102411 2019-02-28 2020-02-28  ...    0           0.0\n",
              "3021910102413 2019-02-28 2020-02-28  ...    0           0.0\n",
              "3021910102420 2019-03-05 2020-03-05  ...    0           0.0\n",
              "3021910102519 2019-04-09 2020-04-09  ...    0           0.0\n",
              "3021910102693 2019-04-28 2020-04-25  ...    0           0.0\n",
              "\n",
              "[764 rows x 14 columns]"
            ]
          },
          "metadata": {},
          "execution_count": 88
        }
      ]
    },
    {
      "cell_type": "markdown",
      "metadata": {
        "id": "mamQo_UtDnGh"
      },
      "source": [
        "# Objetivo del estudio"
      ]
    },
    {
      "cell_type": "markdown",
      "metadata": {
        "id": "8wGVoZyADpo8"
      },
      "source": [
        "El objetivo de este estudio es predecir si una póliza será anulada o no, y con ello determinar si la información en el dataset es suficiente para realizar una predicción eficiente o si por el contrario es necesario incluir más variables que aporten más información para lograr este objetivo, lo cual podría ser una de las conclusiones del estudio."
      ]
    },
    {
      "cell_type": "markdown",
      "metadata": {
        "id": "1YUEzz8CQEOJ"
      },
      "source": [
        "# Análisis Exploratorio Inicial"
      ]
    },
    {
      "cell_type": "code",
      "metadata": {
        "colab": {
          "base_uri": "https://localhost:8080/",
          "height": 947
        },
        "id": "_EyLWtIzZ46_",
        "outputId": "d2a8ec74-d713-4f03-ff1e-c5482cf3cc42"
      },
      "source": [
        "df2.loc[:,:].hist(bins=25,\n",
        "                 figsize=(16,16),\n",
        "                 xlabelsize='10',\n",
        "                 ylabelsize='10',xrot=-15);"
      ],
      "execution_count": 89,
      "outputs": [
        {
          "output_type": "display_data",
          "data": {
            "image/png": "[encoded data removed]",
            "text/plain": [
              "<Figure size 1152x1152 with 9 Axes>"
            ]
          },
          "metadata": {}
        }
      ]
    },
    {
      "cell_type": "markdown",
      "metadata": {
        "id": "Uav0hInOaVJe"
      },
      "source": [
        "La batería de gráficos anterior nos proporciona la siguiente información:\n",
        "\n",
        "\n",
        "*   Tenemos 2 valores para la moneda, por lo tanto debemos decidir el tratamiento a utilizar con ellas.\n",
        "*   En las primas tenemos valores negativos. Se asumen que deben corresponder a los casos en que las pólizas fueron anuladas y la prima fue devuelta, por lo cual aparece el monto en negativo. Debemo decidir el trtamiento a usar en estos casos.\n",
        "*   Vemos pocas pólizas anuladas, caso similar a los siniestros: pocas pólizas con siniestros.\n",
        "\n",
        "\n",
        "---\n"
      ]
    },
    {
      "cell_type": "markdown",
      "metadata": {
        "id": "Bfs_DBEJIOOb"
      },
      "source": [
        "Exploremos cada uno de los campos del datatset, su composición y distribución para ver qué información información descriptiva nos brindan:"
      ]
    },
    {
      "cell_type": "code",
      "metadata": {
        "colab": {
          "base_uri": "https://localhost:8080/",
          "height": 405
        },
        "id": "av4HrpWyJ3pL",
        "outputId": "0aa11581-eaef-4e17-b5e3-8eadf79a8ff8"
      },
      "source": [
        "# Graficando 'anulaciones'\n",
        "plot_anu = df2['anu'].value_counts().plot(kind='pie', autopct='%.2f', title='% anulaciones')\n",
        "# Reducir el tamaño del gráfico para guardarlo\n",
        "plt.tight_layout()"
      ],
      "execution_count": 90,
      "outputs": [
        {
          "output_type": "display_data",
          "data": {
            "image/png": "[encoded data removed]",
            "text/plain": [
              "<Figure size 576x396 with 1 Axes>"
            ]
          },
          "metadata": {}
        }
      ]
    },
    {
      "cell_type": "markdown",
      "metadata": {
        "id": "y74tnTukJ_dy"
      },
      "source": [
        "\n",
        "\n",
        "---\n",
        "\n",
        "\n",
        "Vemos que el porcentaje de anulación de es 8.25%.\n",
        "\n",
        "Esta dato es importante porque es justamente lo que queremos predecir.\n",
        "\n",
        "\n",
        "---"
      ]
    },
    {
      "cell_type": "code",
      "metadata": {
        "colab": {
          "base_uri": "https://localhost:8080/",
          "height": 405
        },
        "id": "1AfNibc-IMTj",
        "outputId": "6a9dfb1d-9d0d-4fbf-fc45-e6c53b3f6d76"
      },
      "source": [
        "# Graficando 'uso'\n",
        "plot_uso = df2['uso'].value_counts().plot(kind='pie', autopct='%.2f', title='% uso')\n",
        "# Reducir el tamaño del gráfico para guardarlo\n",
        "plt.tight_layout()"
      ],
      "execution_count": 91,
      "outputs": [
        {
          "output_type": "display_data",
          "data": {
            "image/png": "[encoded data removed]",
            "text/plain": [
              "<Figure size 576x396 with 1 Axes>"
            ]
          },
          "metadata": {}
        }
      ]
    },
    {
      "cell_type": "markdown",
      "metadata": {
        "id": "IYkJQkmrIu5a"
      },
      "source": [
        "Practicamente todas las pólizas son de uso 'particular' 99.35%"
      ]
    },
    {
      "cell_type": "code",
      "metadata": {
        "colab": {
          "base_uri": "https://localhost:8080/",
          "height": 405
        },
        "id": "KusYZbPOI03i",
        "outputId": "a72d22d3-948d-4ae0-8e5f-9f7e77c3aa42"
      },
      "source": [
        "# Graficando 'tipo_veh'\n",
        "plot_tipo = df2['tipo_veh'].value_counts().plot(kind='pie', autopct='%.2f', title='% tipo de vehículo')\n",
        "# Reducir el tamaño del gráfico para guardarlo\n",
        "plt.tight_layout()"
      ],
      "execution_count": 92,
      "outputs": [
        {
          "output_type": "display_data",
          "data": {
            "image/png": "[encoded data removed]",
            "text/plain": [
              "<Figure size 576x396 with 1 Axes>"
            ]
          },
          "metadata": {}
        }
      ]
    },
    {
      "cell_type": "markdown",
      "metadata": {
        "id": "5vG-EBlBJPmH"
      },
      "source": [
        "\n",
        "*   86.91% Automoviles\n",
        "*   11.78% Pick-up\n",
        "\n"
      ]
    },
    {
      "cell_type": "code",
      "metadata": {
        "colab": {
          "base_uri": "https://localhost:8080/",
          "height": 405
        },
        "id": "k0GEqHNqJd5C",
        "outputId": "94d62a4b-6d6d-4475-c11f-1060fc2d7955"
      },
      "source": [
        "# Graficando 'tipo_emi'\n",
        "plot_emi = df2['tipo_emi'].value_counts().plot(kind='pie', autopct='%.2f', title='% tipo emisión')\n",
        "# Reducir el tamaño del gráfico para guardarlo\n",
        "plt.tight_layout()"
      ],
      "execution_count": 93,
      "outputs": [
        {
          "output_type": "display_data",
          "data": {
            "image/png": "[encoded data removed]",
            "text/plain": [
              "<Figure size 576x396 with 1 Axes>"
            ]
          },
          "metadata": {}
        }
      ]
    },
    {
      "cell_type": "markdown",
      "metadata": {
        "id": "-aJYDKRGJpjW"
      },
      "source": [
        "Vemos que 94.24% de las pólizas son renovaciones y 5.76% son pólizas nuevas"
      ]
    },
    {
      "cell_type": "markdown",
      "metadata": {
        "id": "pCvft8WrX6Bc"
      },
      "source": [
        "# Análisis Exploratorio (Cont.)\n",
        "\n",
        "---\n",
        "\n"
      ]
    },
    {
      "cell_type": "markdown",
      "metadata": {
        "id": "9upwIaJ3bn9f"
      },
      "source": [
        "Una cosa que notamos en el dataset es que tenemos las variables de fecha 'inicio' y 'fin' de la póliza, las cuales podemos restar para obtener la duración en días de las pólizas. Este dato podría servirnos para nuestro objetivo ya que intuitivamente podríamos presumir que la duración de una póliza puede tener influencia en si a la larga esta pólizas es anulada o no."
      ]
    },
    {
      "cell_type": "code",
      "metadata": {
        "colab": {
          "base_uri": "https://localhost:8080/",
          "height": 292
        },
        "id": "nw-iPcOBV9UA",
        "outputId": "a6527bf5-1d52-49d7-c901-82b18ed409b0"
      },
      "source": [
        "# Creamos la variable 'duracion'\n",
        "df2['duracion'] = df2['fin']-df2['inicio']\n",
        "df2.head()"
      ],
      "execution_count": 94,
      "outputs": [
        {
          "output_type": "execute_result",
          "data": {
            "text/html": [
              "<div>\n",
              "<style scoped>\n",
              "    .dataframe tbody tr th:only-of-type {\n",
              "        vertical-align: middle;\n",
              "    }\n",
              "\n",
              "    .dataframe tbody tr th {\n",
              "        vertical-align: top;\n",
              "    }\n",
              "\n",
              "    .dataframe thead th {\n",
              "        text-align: right;\n",
              "    }\n",
              "</style>\n",
              "<table border=\"1\" class=\"dataframe\">\n",
              "  <thead>\n",
              "    <tr style=\"text-align: right;\">\n",
              "      <th></th>\n",
              "      <th>inicio</th>\n",
              "      <th>fin</th>\n",
              "      <th>marca</th>\n",
              "      <th>modelo</th>\n",
              "      <th>ano</th>\n",
              "      <th>uso</th>\n",
              "      <th>mon</th>\n",
              "      <th>tipo_veh</th>\n",
              "      <th>tipo_emi</th>\n",
              "      <th>prima_crc</th>\n",
              "      <th>anu</th>\n",
              "      <th>sa_crc</th>\n",
              "      <th>sini</th>\n",
              "      <th>monto_sin_crc</th>\n",
              "      <th>duracion</th>\n",
              "    </tr>\n",
              "    <tr>\n",
              "      <th>poliza</th>\n",
              "      <th></th>\n",
              "      <th></th>\n",
              "      <th></th>\n",
              "      <th></th>\n",
              "      <th></th>\n",
              "      <th></th>\n",
              "      <th></th>\n",
              "      <th></th>\n",
              "      <th></th>\n",
              "      <th></th>\n",
              "      <th></th>\n",
              "      <th></th>\n",
              "      <th></th>\n",
              "      <th></th>\n",
              "      <th></th>\n",
              "    </tr>\n",
              "  </thead>\n",
              "  <tbody>\n",
              "    <tr>\n",
              "      <th>3021710100651</th>\n",
              "      <td>2017-04-18</td>\n",
              "      <td>2018-04-18</td>\n",
              "      <td>TOYOTA</td>\n",
              "      <td>LAND CRUISER</td>\n",
              "      <td>2008</td>\n",
              "      <td>PARTICULAR</td>\n",
              "      <td>1</td>\n",
              "      <td>PICK UP</td>\n",
              "      <td>RENOVADAS</td>\n",
              "      <td>0.0</td>\n",
              "      <td>0</td>\n",
              "      <td>17000000.0</td>\n",
              "      <td>0</td>\n",
              "      <td>0.0</td>\n",
              "      <td>365 days</td>\n",
              "    </tr>\n",
              "    <tr>\n",
              "      <th>3021710100652</th>\n",
              "      <td>2017-03-28</td>\n",
              "      <td>2018-03-28</td>\n",
              "      <td>JEEP</td>\n",
              "      <td>RENEGADE</td>\n",
              "      <td>2017</td>\n",
              "      <td>PARTICULAR</td>\n",
              "      <td>1</td>\n",
              "      <td>AUTOMOVIL</td>\n",
              "      <td>RENOVADAS</td>\n",
              "      <td>0.0</td>\n",
              "      <td>0</td>\n",
              "      <td>16000000.0</td>\n",
              "      <td>0</td>\n",
              "      <td>0.0</td>\n",
              "      <td>365 days</td>\n",
              "    </tr>\n",
              "    <tr>\n",
              "      <th>3021710100653</th>\n",
              "      <td>2017-07-11</td>\n",
              "      <td>2018-07-11</td>\n",
              "      <td>KIA</td>\n",
              "      <td>FORTE 1.6M/T</td>\n",
              "      <td>2017</td>\n",
              "      <td>PARTICULAR</td>\n",
              "      <td>1</td>\n",
              "      <td>AUTOMOVIL</td>\n",
              "      <td>RENOVADAS</td>\n",
              "      <td>0.0</td>\n",
              "      <td>0</td>\n",
              "      <td>13500000.0</td>\n",
              "      <td>0</td>\n",
              "      <td>0.0</td>\n",
              "      <td>365 days</td>\n",
              "    </tr>\n",
              "    <tr>\n",
              "      <th>3021710100654</th>\n",
              "      <td>2017-07-18</td>\n",
              "      <td>2018-07-18</td>\n",
              "      <td>CHEVROLET</td>\n",
              "      <td>SPARK</td>\n",
              "      <td>2008</td>\n",
              "      <td>PARTICULAR</td>\n",
              "      <td>1</td>\n",
              "      <td>AUTOMOVIL</td>\n",
              "      <td>RENOVADAS</td>\n",
              "      <td>0.0</td>\n",
              "      <td>0</td>\n",
              "      <td>3500000.0</td>\n",
              "      <td>0</td>\n",
              "      <td>0.0</td>\n",
              "      <td>365 days</td>\n",
              "    </tr>\n",
              "    <tr>\n",
              "      <th>3021710100655</th>\n",
              "      <td>2017-07-13</td>\n",
              "      <td>2018-07-13</td>\n",
              "      <td>HYUNDAI</td>\n",
              "      <td>ACCENT</td>\n",
              "      <td>2012</td>\n",
              "      <td>PARTICULAR</td>\n",
              "      <td>1</td>\n",
              "      <td>AUTOMOVIL</td>\n",
              "      <td>RENOVADAS</td>\n",
              "      <td>39872.3</td>\n",
              "      <td>0</td>\n",
              "      <td>8000000.0</td>\n",
              "      <td>0</td>\n",
              "      <td>0.0</td>\n",
              "      <td>365 days</td>\n",
              "    </tr>\n",
              "  </tbody>\n",
              "</table>\n",
              "</div>"
            ],
            "text/plain": [
              "                  inicio        fin      marca  ... sini  monto_sin_crc duracion\n",
              "poliza                                          ...                             \n",
              "3021710100651 2017-04-18 2018-04-18     TOYOTA  ...    0            0.0 365 days\n",
              "3021710100652 2017-03-28 2018-03-28       JEEP  ...    0            0.0 365 days\n",
              "3021710100653 2017-07-11 2018-07-11        KIA  ...    0            0.0 365 days\n",
              "3021710100654 2017-07-18 2018-07-18  CHEVROLET  ...    0            0.0 365 days\n",
              "3021710100655 2017-07-13 2018-07-13    HYUNDAI  ...    0            0.0 365 days\n",
              "\n",
              "[5 rows x 15 columns]"
            ]
          },
          "metadata": {},
          "execution_count": 94
        }
      ]
    },
    {
      "cell_type": "code",
      "metadata": {
        "colab": {
          "base_uri": "https://localhost:8080/",
          "height": 771
        },
        "id": "fCxYx69YFVgs",
        "outputId": "e8d55ebc-3694-497d-cef1-ee4020fd089c"
      },
      "source": [
        "pd.crosstab(df2.duracion, df2.anu, margins=True)"
      ],
      "execution_count": 95,
      "outputs": [
        {
          "output_type": "execute_result",
          "data": {
            "text/html": [
              "<div>\n",
              "<style scoped>\n",
              "    .dataframe tbody tr th:only-of-type {\n",
              "        vertical-align: middle;\n",
              "    }\n",
              "\n",
              "    .dataframe tbody tr th {\n",
              "        vertical-align: top;\n",
              "    }\n",
              "\n",
              "    .dataframe thead th {\n",
              "        text-align: right;\n",
              "    }\n",
              "</style>\n",
              "<table border=\"1\" class=\"dataframe\">\n",
              "  <thead>\n",
              "    <tr style=\"text-align: right;\">\n",
              "      <th>anu</th>\n",
              "      <th>0</th>\n",
              "      <th>1</th>\n",
              "      <th>All</th>\n",
              "    </tr>\n",
              "    <tr>\n",
              "      <th>duracion</th>\n",
              "      <th></th>\n",
              "      <th></th>\n",
              "      <th></th>\n",
              "    </tr>\n",
              "  </thead>\n",
              "  <tbody>\n",
              "    <tr>\n",
              "      <th>91 days 00:00:00</th>\n",
              "      <td>2</td>\n",
              "      <td>0</td>\n",
              "      <td>2</td>\n",
              "    </tr>\n",
              "    <tr>\n",
              "      <th>150 days 00:00:00</th>\n",
              "      <td>3</td>\n",
              "      <td>0</td>\n",
              "      <td>3</td>\n",
              "    </tr>\n",
              "    <tr>\n",
              "      <th>162 days 00:00:00</th>\n",
              "      <td>2</td>\n",
              "      <td>0</td>\n",
              "      <td>2</td>\n",
              "    </tr>\n",
              "    <tr>\n",
              "      <th>181 days 00:00:00</th>\n",
              "      <td>13</td>\n",
              "      <td>0</td>\n",
              "      <td>13</td>\n",
              "    </tr>\n",
              "    <tr>\n",
              "      <th>183 days 00:00:00</th>\n",
              "      <td>4</td>\n",
              "      <td>0</td>\n",
              "      <td>4</td>\n",
              "    </tr>\n",
              "    <tr>\n",
              "      <th>206 days 00:00:00</th>\n",
              "      <td>1</td>\n",
              "      <td>0</td>\n",
              "      <td>1</td>\n",
              "    </tr>\n",
              "    <tr>\n",
              "      <th>212 days 00:00:00</th>\n",
              "      <td>3</td>\n",
              "      <td>0</td>\n",
              "      <td>3</td>\n",
              "    </tr>\n",
              "    <tr>\n",
              "      <th>220 days 00:00:00</th>\n",
              "      <td>2</td>\n",
              "      <td>0</td>\n",
              "      <td>2</td>\n",
              "    </tr>\n",
              "    <tr>\n",
              "      <th>243 days 00:00:00</th>\n",
              "      <td>1</td>\n",
              "      <td>0</td>\n",
              "      <td>1</td>\n",
              "    </tr>\n",
              "    <tr>\n",
              "      <th>258 days 00:00:00</th>\n",
              "      <td>1</td>\n",
              "      <td>0</td>\n",
              "      <td>1</td>\n",
              "    </tr>\n",
              "    <tr>\n",
              "      <th>273 days 00:00:00</th>\n",
              "      <td>5</td>\n",
              "      <td>0</td>\n",
              "      <td>5</td>\n",
              "    </tr>\n",
              "    <tr>\n",
              "      <th>274 days 00:00:00</th>\n",
              "      <td>2</td>\n",
              "      <td>0</td>\n",
              "      <td>2</td>\n",
              "    </tr>\n",
              "    <tr>\n",
              "      <th>275 days 00:00:00</th>\n",
              "      <td>3</td>\n",
              "      <td>0</td>\n",
              "      <td>3</td>\n",
              "    </tr>\n",
              "    <tr>\n",
              "      <th>304 days 00:00:00</th>\n",
              "      <td>5</td>\n",
              "      <td>0</td>\n",
              "      <td>5</td>\n",
              "    </tr>\n",
              "    <tr>\n",
              "      <th>306 days 00:00:00</th>\n",
              "      <td>3</td>\n",
              "      <td>0</td>\n",
              "      <td>3</td>\n",
              "    </tr>\n",
              "    <tr>\n",
              "      <th>318 days 00:00:00</th>\n",
              "      <td>1</td>\n",
              "      <td>0</td>\n",
              "      <td>1</td>\n",
              "    </tr>\n",
              "    <tr>\n",
              "      <th>334 days 00:00:00</th>\n",
              "      <td>12</td>\n",
              "      <td>0</td>\n",
              "      <td>12</td>\n",
              "    </tr>\n",
              "    <tr>\n",
              "      <th>335 days 00:00:00</th>\n",
              "      <td>1</td>\n",
              "      <td>0</td>\n",
              "      <td>1</td>\n",
              "    </tr>\n",
              "    <tr>\n",
              "      <th>363 days 00:00:00</th>\n",
              "      <td>1</td>\n",
              "      <td>1</td>\n",
              "      <td>2</td>\n",
              "    </tr>\n",
              "    <tr>\n",
              "      <th>365 days 00:00:00</th>\n",
              "      <td>636</td>\n",
              "      <td>45</td>\n",
              "      <td>681</td>\n",
              "    </tr>\n",
              "    <tr>\n",
              "      <th>366 days 00:00:00</th>\n",
              "      <td>0</td>\n",
              "      <td>17</td>\n",
              "      <td>17</td>\n",
              "    </tr>\n",
              "    <tr>\n",
              "      <th>All</th>\n",
              "      <td>701</td>\n",
              "      <td>63</td>\n",
              "      <td>764</td>\n",
              "    </tr>\n",
              "  </tbody>\n",
              "</table>\n",
              "</div>"
            ],
            "text/plain": [
              "anu                  0   1  All\n",
              "duracion                       \n",
              "91 days 00:00:00     2   0    2\n",
              "150 days 00:00:00    3   0    3\n",
              "162 days 00:00:00    2   0    2\n",
              "181 days 00:00:00   13   0   13\n",
              "183 days 00:00:00    4   0    4\n",
              "206 days 00:00:00    1   0    1\n",
              "212 days 00:00:00    3   0    3\n",
              "220 days 00:00:00    2   0    2\n",
              "243 days 00:00:00    1   0    1\n",
              "258 days 00:00:00    1   0    1\n",
              "273 days 00:00:00    5   0    5\n",
              "274 days 00:00:00    2   0    2\n",
              "275 days 00:00:00    3   0    3\n",
              "304 days 00:00:00    5   0    5\n",
              "306 days 00:00:00    3   0    3\n",
              "318 days 00:00:00    1   0    1\n",
              "334 days 00:00:00   12   0   12\n",
              "335 days 00:00:00    1   0    1\n",
              "363 days 00:00:00    1   1    2\n",
              "365 days 00:00:00  636  45  681\n",
              "366 days 00:00:00    0  17   17\n",
              "All                701  63  764"
            ]
          },
          "metadata": {},
          "execution_count": 95
        }
      ]
    },
    {
      "cell_type": "markdown",
      "metadata": {
        "id": "KOo9CfLGGLZe"
      },
      "source": [
        "Vemos que la mayoría de las pólizas anuladas tienen 365 días o más de duración, excepto 1 que tuvo 363 días de duración. Estos resultados muestran que la presunción que hacíamos anteriormente probablemente no es válida y la duración de la póliza puede no influir en si la póliza es anulada o no. "
      ]
    },
    {
      "cell_type": "code",
      "metadata": {
        "colab": {
          "base_uri": "https://localhost:8080/",
          "height": 405
        },
        "id": "96Z_52CaHKkL",
        "outputId": "c23800f1-fbfa-4207-fbd4-f471d95b522a"
      },
      "source": [
        "# Graficando 'duracion'\n",
        "plot_dur = df2['duracion'].value_counts().plot(kind='pie', autopct='%.2f', title='% duracion')\n",
        "# Reducir el tamaño del gráfico para guardarlo\n",
        "plt.tight_layout()"
      ],
      "execution_count": 96,
      "outputs": [
        {
          "output_type": "display_data",
          "data": {
            "image/png": "[encoded data removed]",
            "text/plain": [
              "<Figure size 576x396 with 1 Axes>"
            ]
          },
          "metadata": {}
        }
      ]
    },
    {
      "cell_type": "markdown",
      "metadata": {
        "id": "78R5rAfsHhHL"
      },
      "source": [
        "*   El 89.14% de las pólizas tienen una 'duracion' de 365 días.\n",
        "*   Luego, el 2.23% tienen una duración de 366 días.\n",
        "*   El resto de las pólizas tienen una 'duración' inferior a 365 días\n",
        "\n",
        "Dados estos resultados podríamos dividir esta variables en pólizas e 1 año (duración de 365 y 366 días) y pólizas menor a 1 año y ver si esta nueva variable categorizada genera algún efecto en el algoritmo de clasificación que usaremos más adelante.\n",
        "\n"
      ]
    },
    {
      "cell_type": "code",
      "metadata": {
        "colab": {
          "base_uri": "https://localhost:8080/",
          "height": 175
        },
        "id": "C9HqDP8AOu7U",
        "outputId": "90f4ce79-e70b-4a36-de80-a0c15e57e7d5"
      },
      "source": [
        "# Creamos la variable y 'anual'\n",
        "from datetime import datetime, timedelta\n",
        "\n",
        "df2['anual'] = np.where(df2['duracion']<timedelta(days=365), 0, 1)\n",
        "pd.crosstab(df2.anual, df2.anu, margins=True)"
      ],
      "execution_count": 97,
      "outputs": [
        {
          "output_type": "execute_result",
          "data": {
            "text/html": [
              "<div>\n",
              "<style scoped>\n",
              "    .dataframe tbody tr th:only-of-type {\n",
              "        vertical-align: middle;\n",
              "    }\n",
              "\n",
              "    .dataframe tbody tr th {\n",
              "        vertical-align: top;\n",
              "    }\n",
              "\n",
              "    .dataframe thead th {\n",
              "        text-align: right;\n",
              "    }\n",
              "</style>\n",
              "<table border=\"1\" class=\"dataframe\">\n",
              "  <thead>\n",
              "    <tr style=\"text-align: right;\">\n",
              "      <th>anu</th>\n",
              "      <th>0</th>\n",
              "      <th>1</th>\n",
              "      <th>All</th>\n",
              "    </tr>\n",
              "    <tr>\n",
              "      <th>anual</th>\n",
              "      <th></th>\n",
              "      <th></th>\n",
              "      <th></th>\n",
              "    </tr>\n",
              "  </thead>\n",
              "  <tbody>\n",
              "    <tr>\n",
              "      <th>0</th>\n",
              "      <td>65</td>\n",
              "      <td>1</td>\n",
              "      <td>66</td>\n",
              "    </tr>\n",
              "    <tr>\n",
              "      <th>1</th>\n",
              "      <td>636</td>\n",
              "      <td>62</td>\n",
              "      <td>698</td>\n",
              "    </tr>\n",
              "    <tr>\n",
              "      <th>All</th>\n",
              "      <td>701</td>\n",
              "      <td>63</td>\n",
              "      <td>764</td>\n",
              "    </tr>\n",
              "  </tbody>\n",
              "</table>\n",
              "</div>"
            ],
            "text/plain": [
              "anu      0   1  All\n",
              "anual              \n",
              "0       65   1   66\n",
              "1      636  62  698\n",
              "All    701  63  764"
            ]
          },
          "metadata": {},
          "execution_count": 97
        }
      ]
    },
    {
      "cell_type": "code",
      "metadata": {
        "colab": {
          "base_uri": "https://localhost:8080/",
          "height": 405
        },
        "id": "7Xgwr8GtYGCK",
        "outputId": "85c8246c-fb6f-46e8-bb18-35032e3c9c4a"
      },
      "source": [
        "plot_anual = pd.crosstab(df2.anual, df2.anu, normalize='index').plot(kind='bar', title='% Anual vs Anulada')\n",
        "# Reducir el tamaño del gráfico para guardarlo\n",
        "plt.tight_layout()"
      ],
      "execution_count": 98,
      "outputs": [
        {
          "output_type": "display_data",
          "data": {
            "image/png": "[encoded data removed]",
            "text/plain": [
              "<Figure size 576x396 with 1 Axes>"
            ]
          },
          "metadata": {}
        }
      ]
    },
    {
      "cell_type": "code",
      "metadata": {
        "colab": {
          "base_uri": "https://localhost:8080/",
          "height": 1000
        },
        "id": "LVAihQyXGu0Z",
        "outputId": "8c9a2b04-b951-4da1-a883-d37e47ad1b2c"
      },
      "source": [
        "pd.crosstab(df2.marca, df2.anu, margins=True, normalize='index')"
      ],
      "execution_count": 99,
      "outputs": [
        {
          "output_type": "execute_result",
          "data": {
            "text/html": [
              "<div>\n",
              "<style scoped>\n",
              "    .dataframe tbody tr th:only-of-type {\n",
              "        vertical-align: middle;\n",
              "    }\n",
              "\n",
              "    .dataframe tbody tr th {\n",
              "        vertical-align: top;\n",
              "    }\n",
              "\n",
              "    .dataframe thead th {\n",
              "        text-align: right;\n",
              "    }\n",
              "</style>\n",
              "<table border=\"1\" class=\"dataframe\">\n",
              "  <thead>\n",
              "    <tr style=\"text-align: right;\">\n",
              "      <th>anu</th>\n",
              "      <th>0</th>\n",
              "      <th>1</th>\n",
              "    </tr>\n",
              "    <tr>\n",
              "      <th>marca</th>\n",
              "      <th></th>\n",
              "      <th></th>\n",
              "    </tr>\n",
              "  </thead>\n",
              "  <tbody>\n",
              "    <tr>\n",
              "      <th>AUDI</th>\n",
              "      <td>1.000000</td>\n",
              "      <td>0.000000</td>\n",
              "    </tr>\n",
              "    <tr>\n",
              "      <th>BAIC</th>\n",
              "      <td>1.000000</td>\n",
              "      <td>0.000000</td>\n",
              "    </tr>\n",
              "    <tr>\n",
              "      <th>BMW</th>\n",
              "      <td>1.000000</td>\n",
              "      <td>0.000000</td>\n",
              "    </tr>\n",
              "    <tr>\n",
              "      <th>CHANGAN</th>\n",
              "      <td>1.000000</td>\n",
              "      <td>0.000000</td>\n",
              "    </tr>\n",
              "    <tr>\n",
              "      <th>CHEVROLET</th>\n",
              "      <td>0.793103</td>\n",
              "      <td>0.206897</td>\n",
              "    </tr>\n",
              "    <tr>\n",
              "      <th>CITROEN</th>\n",
              "      <td>1.000000</td>\n",
              "      <td>0.000000</td>\n",
              "    </tr>\n",
              "    <tr>\n",
              "      <th>DAIHATSU</th>\n",
              "      <td>1.000000</td>\n",
              "      <td>0.000000</td>\n",
              "    </tr>\n",
              "    <tr>\n",
              "      <th>DODGE</th>\n",
              "      <td>1.000000</td>\n",
              "      <td>0.000000</td>\n",
              "    </tr>\n",
              "    <tr>\n",
              "      <th>FIAT</th>\n",
              "      <td>1.000000</td>\n",
              "      <td>0.000000</td>\n",
              "    </tr>\n",
              "    <tr>\n",
              "      <th>FORD</th>\n",
              "      <td>1.000000</td>\n",
              "      <td>0.000000</td>\n",
              "    </tr>\n",
              "    <tr>\n",
              "      <th>GEELY</th>\n",
              "      <td>1.000000</td>\n",
              "      <td>0.000000</td>\n",
              "    </tr>\n",
              "    <tr>\n",
              "      <th>HONDA</th>\n",
              "      <td>1.000000</td>\n",
              "      <td>0.000000</td>\n",
              "    </tr>\n",
              "    <tr>\n",
              "      <th>HYUNDAI</th>\n",
              "      <td>0.884354</td>\n",
              "      <td>0.115646</td>\n",
              "    </tr>\n",
              "    <tr>\n",
              "      <th>INFINITI</th>\n",
              "      <td>1.000000</td>\n",
              "      <td>0.000000</td>\n",
              "    </tr>\n",
              "    <tr>\n",
              "      <th>ISUZU</th>\n",
              "      <td>1.000000</td>\n",
              "      <td>0.000000</td>\n",
              "    </tr>\n",
              "    <tr>\n",
              "      <th>JEEP</th>\n",
              "      <td>1.000000</td>\n",
              "      <td>0.000000</td>\n",
              "    </tr>\n",
              "    <tr>\n",
              "      <th>KIA</th>\n",
              "      <td>0.881356</td>\n",
              "      <td>0.118644</td>\n",
              "    </tr>\n",
              "    <tr>\n",
              "      <th>LAND ROVER</th>\n",
              "      <td>1.000000</td>\n",
              "      <td>0.000000</td>\n",
              "    </tr>\n",
              "    <tr>\n",
              "      <th>LEXUS</th>\n",
              "      <td>1.000000</td>\n",
              "      <td>0.000000</td>\n",
              "    </tr>\n",
              "    <tr>\n",
              "      <th>MAZDA</th>\n",
              "      <td>0.866667</td>\n",
              "      <td>0.133333</td>\n",
              "    </tr>\n",
              "    <tr>\n",
              "      <th>MERCEDES BENZ</th>\n",
              "      <td>1.000000</td>\n",
              "      <td>0.000000</td>\n",
              "    </tr>\n",
              "    <tr>\n",
              "      <th>MG</th>\n",
              "      <td>1.000000</td>\n",
              "      <td>0.000000</td>\n",
              "    </tr>\n",
              "    <tr>\n",
              "      <th>MINI</th>\n",
              "      <td>1.000000</td>\n",
              "      <td>0.000000</td>\n",
              "    </tr>\n",
              "    <tr>\n",
              "      <th>MITSUBISHI</th>\n",
              "      <td>0.966667</td>\n",
              "      <td>0.033333</td>\n",
              "    </tr>\n",
              "    <tr>\n",
              "      <th>NISSAN</th>\n",
              "      <td>0.972222</td>\n",
              "      <td>0.027778</td>\n",
              "    </tr>\n",
              "    <tr>\n",
              "      <th>RANGE</th>\n",
              "      <td>0.000000</td>\n",
              "      <td>1.000000</td>\n",
              "    </tr>\n",
              "    <tr>\n",
              "      <th>RENAULT</th>\n",
              "      <td>1.000000</td>\n",
              "      <td>0.000000</td>\n",
              "    </tr>\n",
              "    <tr>\n",
              "      <th>SANGYONG</th>\n",
              "      <td>1.000000</td>\n",
              "      <td>0.000000</td>\n",
              "    </tr>\n",
              "    <tr>\n",
              "      <th>SUBARU</th>\n",
              "      <td>1.000000</td>\n",
              "      <td>0.000000</td>\n",
              "    </tr>\n",
              "    <tr>\n",
              "      <th>SUZUKI</th>\n",
              "      <td>0.906667</td>\n",
              "      <td>0.093333</td>\n",
              "    </tr>\n",
              "    <tr>\n",
              "      <th>TOYOTA</th>\n",
              "      <td>0.875817</td>\n",
              "      <td>0.124183</td>\n",
              "    </tr>\n",
              "    <tr>\n",
              "      <th>VOLKSWAGEN</th>\n",
              "      <td>1.000000</td>\n",
              "      <td>0.000000</td>\n",
              "    </tr>\n",
              "    <tr>\n",
              "      <th>VOLVO</th>\n",
              "      <td>1.000000</td>\n",
              "      <td>0.000000</td>\n",
              "    </tr>\n",
              "    <tr>\n",
              "      <th>All</th>\n",
              "      <td>0.917539</td>\n",
              "      <td>0.082461</td>\n",
              "    </tr>\n",
              "  </tbody>\n",
              "</table>\n",
              "</div>"
            ],
            "text/plain": [
              "anu                   0         1\n",
              "marca                            \n",
              "AUDI           1.000000  0.000000\n",
              "BAIC           1.000000  0.000000\n",
              "BMW            1.000000  0.000000\n",
              "CHANGAN        1.000000  0.000000\n",
              "CHEVROLET      0.793103  0.206897\n",
              "CITROEN        1.000000  0.000000\n",
              "DAIHATSU       1.000000  0.000000\n",
              "DODGE          1.000000  0.000000\n",
              "FIAT           1.000000  0.000000\n",
              "FORD           1.000000  0.000000\n",
              "GEELY          1.000000  0.000000\n",
              "HONDA          1.000000  0.000000\n",
              "HYUNDAI        0.884354  0.115646\n",
              "INFINITI       1.000000  0.000000\n",
              "ISUZU          1.000000  0.000000\n",
              "JEEP           1.000000  0.000000\n",
              "KIA            0.881356  0.118644\n",
              "LAND ROVER     1.000000  0.000000\n",
              "LEXUS          1.000000  0.000000\n",
              "MAZDA          0.866667  0.133333\n",
              "MERCEDES BENZ  1.000000  0.000000\n",
              "MG             1.000000  0.000000\n",
              "MINI           1.000000  0.000000\n",
              "MITSUBISHI     0.966667  0.033333\n",
              "NISSAN         0.972222  0.027778\n",
              "RANGE          0.000000  1.000000\n",
              "RENAULT        1.000000  0.000000\n",
              "SANGYONG       1.000000  0.000000\n",
              "SUBARU         1.000000  0.000000\n",
              "SUZUKI         0.906667  0.093333\n",
              "TOYOTA         0.875817  0.124183\n",
              "VOLKSWAGEN     1.000000  0.000000\n",
              "VOLVO          1.000000  0.000000\n",
              "All            0.917539  0.082461"
            ]
          },
          "metadata": {},
          "execution_count": 99
        }
      ]
    },
    {
      "cell_type": "code",
      "metadata": {
        "id": "1NalDmMFbihv",
        "colab": {
          "base_uri": "https://localhost:8080/",
          "height": 1000
        },
        "outputId": "957cdd87-2d6f-4236-ad8f-ed6bd5a2643b"
      },
      "source": [
        "top_marcas = df2.groupby(['marca'])[['prima_crc']].sum().sort_values(by='prima_crc', ascending=False)\n",
        "top_marcas"
      ],
      "execution_count": 100,
      "outputs": [
        {
          "output_type": "execute_result",
          "data": {
            "text/html": [
              "<div>\n",
              "<style scoped>\n",
              "    .dataframe tbody tr th:only-of-type {\n",
              "        vertical-align: middle;\n",
              "    }\n",
              "\n",
              "    .dataframe tbody tr th {\n",
              "        vertical-align: top;\n",
              "    }\n",
              "\n",
              "    .dataframe thead th {\n",
              "        text-align: right;\n",
              "    }\n",
              "</style>\n",
              "<table border=\"1\" class=\"dataframe\">\n",
              "  <thead>\n",
              "    <tr style=\"text-align: right;\">\n",
              "      <th></th>\n",
              "      <th>prima_crc</th>\n",
              "    </tr>\n",
              "    <tr>\n",
              "      <th>marca</th>\n",
              "      <th></th>\n",
              "    </tr>\n",
              "  </thead>\n",
              "  <tbody>\n",
              "    <tr>\n",
              "      <th>TOYOTA</th>\n",
              "      <td>51910647.0</td>\n",
              "    </tr>\n",
              "    <tr>\n",
              "      <th>NISSAN</th>\n",
              "      <td>39100668.3</td>\n",
              "    </tr>\n",
              "    <tr>\n",
              "      <th>HYUNDAI</th>\n",
              "      <td>32063082.6</td>\n",
              "    </tr>\n",
              "    <tr>\n",
              "      <th>SUZUKI</th>\n",
              "      <td>23539403.5</td>\n",
              "    </tr>\n",
              "    <tr>\n",
              "      <th>KIA</th>\n",
              "      <td>18666295.5</td>\n",
              "    </tr>\n",
              "    <tr>\n",
              "      <th>MITSUBISHI</th>\n",
              "      <td>11272221.5</td>\n",
              "    </tr>\n",
              "    <tr>\n",
              "      <th>HONDA</th>\n",
              "      <td>8167920.3</td>\n",
              "    </tr>\n",
              "    <tr>\n",
              "      <th>CHEVROLET</th>\n",
              "      <td>7757677.2</td>\n",
              "    </tr>\n",
              "    <tr>\n",
              "      <th>FORD</th>\n",
              "      <td>6575160.0</td>\n",
              "    </tr>\n",
              "    <tr>\n",
              "      <th>AUDI</th>\n",
              "      <td>6359146.5</td>\n",
              "    </tr>\n",
              "    <tr>\n",
              "      <th>ISUZU</th>\n",
              "      <td>5507962.6</td>\n",
              "    </tr>\n",
              "    <tr>\n",
              "      <th>BMW</th>\n",
              "      <td>4999453.7</td>\n",
              "    </tr>\n",
              "    <tr>\n",
              "      <th>MERCEDES BENZ</th>\n",
              "      <td>4952019.2</td>\n",
              "    </tr>\n",
              "    <tr>\n",
              "      <th>LAND ROVER</th>\n",
              "      <td>4600063.7</td>\n",
              "    </tr>\n",
              "    <tr>\n",
              "      <th>VOLKSWAGEN</th>\n",
              "      <td>4176068.2</td>\n",
              "    </tr>\n",
              "    <tr>\n",
              "      <th>MAZDA</th>\n",
              "      <td>3947423.2</td>\n",
              "    </tr>\n",
              "    <tr>\n",
              "      <th>DAIHATSU</th>\n",
              "      <td>3722345.6</td>\n",
              "    </tr>\n",
              "    <tr>\n",
              "      <th>MG</th>\n",
              "      <td>3557442.4</td>\n",
              "    </tr>\n",
              "    <tr>\n",
              "      <th>SUBARU</th>\n",
              "      <td>2974313.8</td>\n",
              "    </tr>\n",
              "    <tr>\n",
              "      <th>VOLVO</th>\n",
              "      <td>2913370.5</td>\n",
              "    </tr>\n",
              "    <tr>\n",
              "      <th>JEEP</th>\n",
              "      <td>2593304.6</td>\n",
              "    </tr>\n",
              "    <tr>\n",
              "      <th>CITROEN</th>\n",
              "      <td>1828220.5</td>\n",
              "    </tr>\n",
              "    <tr>\n",
              "      <th>MINI</th>\n",
              "      <td>1418878.4</td>\n",
              "    </tr>\n",
              "    <tr>\n",
              "      <th>DODGE</th>\n",
              "      <td>1225731.6</td>\n",
              "    </tr>\n",
              "    <tr>\n",
              "      <th>FIAT</th>\n",
              "      <td>780960.0</td>\n",
              "    </tr>\n",
              "    <tr>\n",
              "      <th>GEELY</th>\n",
              "      <td>733475.2</td>\n",
              "    </tr>\n",
              "    <tr>\n",
              "      <th>LEXUS</th>\n",
              "      <td>628950.2</td>\n",
              "    </tr>\n",
              "    <tr>\n",
              "      <th>RENAULT</th>\n",
              "      <td>481447.5</td>\n",
              "    </tr>\n",
              "    <tr>\n",
              "      <th>BAIC</th>\n",
              "      <td>336734.8</td>\n",
              "    </tr>\n",
              "    <tr>\n",
              "      <th>INFINITI</th>\n",
              "      <td>146525.8</td>\n",
              "    </tr>\n",
              "    <tr>\n",
              "      <th>CHANGAN</th>\n",
              "      <td>110778.6</td>\n",
              "    </tr>\n",
              "    <tr>\n",
              "      <th>SANGYONG</th>\n",
              "      <td>109443.7</td>\n",
              "    </tr>\n",
              "    <tr>\n",
              "      <th>RANGE</th>\n",
              "      <td>0.0</td>\n",
              "    </tr>\n",
              "  </tbody>\n",
              "</table>\n",
              "</div>"
            ],
            "text/plain": [
              "                prima_crc\n",
              "marca                    \n",
              "TOYOTA         51910647.0\n",
              "NISSAN         39100668.3\n",
              "HYUNDAI        32063082.6\n",
              "SUZUKI         23539403.5\n",
              "KIA            18666295.5\n",
              "MITSUBISHI     11272221.5\n",
              "HONDA           8167920.3\n",
              "CHEVROLET       7757677.2\n",
              "FORD            6575160.0\n",
              "AUDI            6359146.5\n",
              "ISUZU           5507962.6\n",
              "BMW             4999453.7\n",
              "MERCEDES BENZ   4952019.2\n",
              "LAND ROVER      4600063.7\n",
              "VOLKSWAGEN      4176068.2\n",
              "MAZDA           3947423.2\n",
              "DAIHATSU        3722345.6\n",
              "MG              3557442.4\n",
              "SUBARU          2974313.8\n",
              "VOLVO           2913370.5\n",
              "JEEP            2593304.6\n",
              "CITROEN         1828220.5\n",
              "MINI            1418878.4\n",
              "DODGE           1225731.6\n",
              "FIAT             780960.0\n",
              "GEELY            733475.2\n",
              "LEXUS            628950.2\n",
              "RENAULT          481447.5\n",
              "BAIC             336734.8\n",
              "INFINITI         146525.8\n",
              "CHANGAN          110778.6\n",
              "SANGYONG         109443.7\n",
              "RANGE                 0.0"
            ]
          },
          "metadata": {},
          "execution_count": 100
        }
      ]
    },
    {
      "cell_type": "code",
      "metadata": {
        "id": "n3T6XI6Wm4h0"
      },
      "source": [
        "top10_marcas = top_marcas.nlargest(10,'prima_crc').sort_values('prima_crc', ascending=True)"
      ],
      "execution_count": 101,
      "outputs": []
    },
    {
      "cell_type": "code",
      "metadata": {
        "colab": {
          "base_uri": "https://localhost:8080/",
          "height": 405
        },
        "id": "PLml8XQuXEag",
        "outputId": "2362f82e-01ad-43b1-d529-5bb3431f7c66"
      },
      "source": [
        "plt.style.use('seaborn')\n",
        "plot_top10 = top10_marcas.plot.barh(y='prima_crc', title='Prima por marca de vehículo',)\n",
        "# Reducir el tamaño del gráfico para guardarlo\n",
        "plt.tight_layout()"
      ],
      "execution_count": 102,
      "outputs": [
        {
          "output_type": "display_data",
          "data": {
            "image/png": "[encoded data removed]",
            "text/plain": [
              "<Figure size 576x396 with 1 Axes>"
            ]
          },
          "metadata": {}
        }
      ]
    },
    {
      "cell_type": "code",
      "metadata": {
        "colab": {
          "base_uri": "https://localhost:8080/",
          "height": 614
        },
        "id": "iQgLrYh_suTS",
        "outputId": "ad11c074-5e9a-4266-d84f-82450bf46bd9"
      },
      "source": [
        "anos = df2.groupby(['ano'])[['prima_crc']].sum()\n",
        "anos"
      ],
      "execution_count": 103,
      "outputs": [
        {
          "output_type": "execute_result",
          "data": {
            "text/html": [
              "<div>\n",
              "<style scoped>\n",
              "    .dataframe tbody tr th:only-of-type {\n",
              "        vertical-align: middle;\n",
              "    }\n",
              "\n",
              "    .dataframe tbody tr th {\n",
              "        vertical-align: top;\n",
              "    }\n",
              "\n",
              "    .dataframe thead th {\n",
              "        text-align: right;\n",
              "    }\n",
              "</style>\n",
              "<table border=\"1\" class=\"dataframe\">\n",
              "  <thead>\n",
              "    <tr style=\"text-align: right;\">\n",
              "      <th></th>\n",
              "      <th>prima_crc</th>\n",
              "    </tr>\n",
              "    <tr>\n",
              "      <th>ano</th>\n",
              "      <th></th>\n",
              "    </tr>\n",
              "  </thead>\n",
              "  <tbody>\n",
              "    <tr>\n",
              "      <th>2003</th>\n",
              "      <td>25707.7</td>\n",
              "    </tr>\n",
              "    <tr>\n",
              "      <th>2004</th>\n",
              "      <td>25628.1</td>\n",
              "    </tr>\n",
              "    <tr>\n",
              "      <th>2005</th>\n",
              "      <td>279499.8</td>\n",
              "    </tr>\n",
              "    <tr>\n",
              "      <th>2006</th>\n",
              "      <td>852329.2</td>\n",
              "    </tr>\n",
              "    <tr>\n",
              "      <th>2007</th>\n",
              "      <td>5800808.8</td>\n",
              "    </tr>\n",
              "    <tr>\n",
              "      <th>2008</th>\n",
              "      <td>15756888.6</td>\n",
              "    </tr>\n",
              "    <tr>\n",
              "      <th>2009</th>\n",
              "      <td>9712876.6</td>\n",
              "    </tr>\n",
              "    <tr>\n",
              "      <th>2010</th>\n",
              "      <td>9831972.6</td>\n",
              "    </tr>\n",
              "    <tr>\n",
              "      <th>2011</th>\n",
              "      <td>16672369.4</td>\n",
              "    </tr>\n",
              "    <tr>\n",
              "      <th>2012</th>\n",
              "      <td>28142846.0</td>\n",
              "    </tr>\n",
              "    <tr>\n",
              "      <th>2013</th>\n",
              "      <td>27195198.1</td>\n",
              "    </tr>\n",
              "    <tr>\n",
              "      <th>2014</th>\n",
              "      <td>20520995.5</td>\n",
              "    </tr>\n",
              "    <tr>\n",
              "      <th>2015</th>\n",
              "      <td>17954123.7</td>\n",
              "    </tr>\n",
              "    <tr>\n",
              "      <th>2016</th>\n",
              "      <td>25554092.0</td>\n",
              "    </tr>\n",
              "    <tr>\n",
              "      <th>2017</th>\n",
              "      <td>47153656.8</td>\n",
              "    </tr>\n",
              "    <tr>\n",
              "      <th>2018</th>\n",
              "      <td>28788963.8</td>\n",
              "    </tr>\n",
              "    <tr>\n",
              "      <th>2019</th>\n",
              "      <td>2889179.5</td>\n",
              "    </tr>\n",
              "  </tbody>\n",
              "</table>\n",
              "</div>"
            ],
            "text/plain": [
              "       prima_crc\n",
              "ano             \n",
              "2003     25707.7\n",
              "2004     25628.1\n",
              "2005    279499.8\n",
              "2006    852329.2\n",
              "2007   5800808.8\n",
              "2008  15756888.6\n",
              "2009   9712876.6\n",
              "2010   9831972.6\n",
              "2011  16672369.4\n",
              "2012  28142846.0\n",
              "2013  27195198.1\n",
              "2014  20520995.5\n",
              "2015  17954123.7\n",
              "2016  25554092.0\n",
              "2017  47153656.8\n",
              "2018  28788963.8\n",
              "2019   2889179.5"
            ]
          },
          "metadata": {},
          "execution_count": 103
        }
      ]
    },
    {
      "cell_type": "code",
      "metadata": {
        "colab": {
          "base_uri": "https://localhost:8080/",
          "height": 405
        },
        "id": "2JvSZfzXwDbw",
        "outputId": "61d90dbd-73b2-45d5-99c3-0c88a714ac86"
      },
      "source": [
        "plot_anos = anos.plot.bar(y='prima_crc', title='Prima por año del vehículo')\n",
        "# Reducir el tamaño del gráfico para guardarlo\n",
        "plt.tight_layout()"
      ],
      "execution_count": 104,
      "outputs": [
        {
          "output_type": "display_data",
          "data": {
            "image/png": "[encoded data removed]",
            "text/plain": [
              "<Figure size 576x396 with 1 Axes>"
            ]
          },
          "metadata": {}
        }
      ]
    },
    {
      "cell_type": "code",
      "metadata": {
        "colab": {
          "base_uri": "https://localhost:8080/",
          "height": 292
        },
        "id": "9iCVxLQ_81j9",
        "outputId": "4106a374-215d-41ae-8676-860db8b2744b"
      },
      "source": [
        "df2.head()"
      ],
      "execution_count": 105,
      "outputs": [
        {
          "output_type": "execute_result",
          "data": {
            "text/html": [
              "<div>\n",
              "<style scoped>\n",
              "    .dataframe tbody tr th:only-of-type {\n",
              "        vertical-align: middle;\n",
              "    }\n",
              "\n",
              "    .dataframe tbody tr th {\n",
              "        vertical-align: top;\n",
              "    }\n",
              "\n",
              "    .dataframe thead th {\n",
              "        text-align: right;\n",
              "    }\n",
              "</style>\n",
              "<table border=\"1\" class=\"dataframe\">\n",
              "  <thead>\n",
              "    <tr style=\"text-align: right;\">\n",
              "      <th></th>\n",
              "      <th>inicio</th>\n",
              "      <th>fin</th>\n",
              "      <th>marca</th>\n",
              "      <th>modelo</th>\n",
              "      <th>ano</th>\n",
              "      <th>uso</th>\n",
              "      <th>mon</th>\n",
              "      <th>tipo_veh</th>\n",
              "      <th>tipo_emi</th>\n",
              "      <th>prima_crc</th>\n",
              "      <th>anu</th>\n",
              "      <th>sa_crc</th>\n",
              "      <th>sini</th>\n",
              "      <th>monto_sin_crc</th>\n",
              "      <th>duracion</th>\n",
              "      <th>anual</th>\n",
              "    </tr>\n",
              "    <tr>\n",
              "      <th>poliza</th>\n",
              "      <th></th>\n",
              "      <th></th>\n",
              "      <th></th>\n",
              "      <th></th>\n",
              "      <th></th>\n",
              "      <th></th>\n",
              "      <th></th>\n",
              "      <th></th>\n",
              "      <th></th>\n",
              "      <th></th>\n",
              "      <th></th>\n",
              "      <th></th>\n",
              "      <th></th>\n",
              "      <th></th>\n",
              "      <th></th>\n",
              "      <th></th>\n",
              "    </tr>\n",
              "  </thead>\n",
              "  <tbody>\n",
              "    <tr>\n",
              "      <th>3021710100651</th>\n",
              "      <td>2017-04-18</td>\n",
              "      <td>2018-04-18</td>\n",
              "      <td>TOYOTA</td>\n",
              "      <td>LAND CRUISER</td>\n",
              "      <td>2008</td>\n",
              "      <td>PARTICULAR</td>\n",
              "      <td>1</td>\n",
              "      <td>PICK UP</td>\n",
              "      <td>RENOVADAS</td>\n",
              "      <td>0.0</td>\n",
              "      <td>0</td>\n",
              "      <td>17000000.0</td>\n",
              "      <td>0</td>\n",
              "      <td>0.0</td>\n",
              "      <td>365 days</td>\n",
              "      <td>1</td>\n",
              "    </tr>\n",
              "    <tr>\n",
              "      <th>3021710100652</th>\n",
              "      <td>2017-03-28</td>\n",
              "      <td>2018-03-28</td>\n",
              "      <td>JEEP</td>\n",
              "      <td>RENEGADE</td>\n",
              "      <td>2017</td>\n",
              "      <td>PARTICULAR</td>\n",
              "      <td>1</td>\n",
              "      <td>AUTOMOVIL</td>\n",
              "      <td>RENOVADAS</td>\n",
              "      <td>0.0</td>\n",
              "      <td>0</td>\n",
              "      <td>16000000.0</td>\n",
              "      <td>0</td>\n",
              "      <td>0.0</td>\n",
              "      <td>365 days</td>\n",
              "      <td>1</td>\n",
              "    </tr>\n",
              "    <tr>\n",
              "      <th>3021710100653</th>\n",
              "      <td>2017-07-11</td>\n",
              "      <td>2018-07-11</td>\n",
              "      <td>KIA</td>\n",
              "      <td>FORTE 1.6M/T</td>\n",
              "      <td>2017</td>\n",
              "      <td>PARTICULAR</td>\n",
              "      <td>1</td>\n",
              "      <td>AUTOMOVIL</td>\n",
              "      <td>RENOVADAS</td>\n",
              "      <td>0.0</td>\n",
              "      <td>0</td>\n",
              "      <td>13500000.0</td>\n",
              "      <td>0</td>\n",
              "      <td>0.0</td>\n",
              "      <td>365 days</td>\n",
              "      <td>1</td>\n",
              "    </tr>\n",
              "    <tr>\n",
              "      <th>3021710100654</th>\n",
              "      <td>2017-07-18</td>\n",
              "      <td>2018-07-18</td>\n",
              "      <td>CHEVROLET</td>\n",
              "      <td>SPARK</td>\n",
              "      <td>2008</td>\n",
              "      <td>PARTICULAR</td>\n",
              "      <td>1</td>\n",
              "      <td>AUTOMOVIL</td>\n",
              "      <td>RENOVADAS</td>\n",
              "      <td>0.0</td>\n",
              "      <td>0</td>\n",
              "      <td>3500000.0</td>\n",
              "      <td>0</td>\n",
              "      <td>0.0</td>\n",
              "      <td>365 days</td>\n",
              "      <td>1</td>\n",
              "    </tr>\n",
              "    <tr>\n",
              "      <th>3021710100655</th>\n",
              "      <td>2017-07-13</td>\n",
              "      <td>2018-07-13</td>\n",
              "      <td>HYUNDAI</td>\n",
              "      <td>ACCENT</td>\n",
              "      <td>2012</td>\n",
              "      <td>PARTICULAR</td>\n",
              "      <td>1</td>\n",
              "      <td>AUTOMOVIL</td>\n",
              "      <td>RENOVADAS</td>\n",
              "      <td>39872.3</td>\n",
              "      <td>0</td>\n",
              "      <td>8000000.0</td>\n",
              "      <td>0</td>\n",
              "      <td>0.0</td>\n",
              "      <td>365 days</td>\n",
              "      <td>1</td>\n",
              "    </tr>\n",
              "  </tbody>\n",
              "</table>\n",
              "</div>"
            ],
            "text/plain": [
              "                  inicio        fin      marca  ... monto_sin_crc  duracion anual\n",
              "poliza                                          ...                              \n",
              "3021710100651 2017-04-18 2018-04-18     TOYOTA  ...           0.0  365 days     1\n",
              "3021710100652 2017-03-28 2018-03-28       JEEP  ...           0.0  365 days     1\n",
              "3021710100653 2017-07-11 2018-07-11        KIA  ...           0.0  365 days     1\n",
              "3021710100654 2017-07-18 2018-07-18  CHEVROLET  ...           0.0  365 days     1\n",
              "3021710100655 2017-07-13 2018-07-13    HYUNDAI  ...           0.0  365 days     1\n",
              "\n",
              "[5 rows x 16 columns]"
            ]
          },
          "metadata": {},
          "execution_count": 105
        }
      ]
    },
    {
      "cell_type": "code",
      "metadata": {
        "colab": {
          "base_uri": "https://localhost:8080/",
          "height": 143
        },
        "id": "glg3TL3M_Gw4",
        "outputId": "bebaae5c-1e5c-4b51-bb9d-f65a9471de35"
      },
      "source": [
        "pd.crosstab(df2.anu, df2.uso, margins=True, normalize='columns')"
      ],
      "execution_count": 106,
      "outputs": [
        {
          "output_type": "execute_result",
          "data": {
            "text/html": [
              "<div>\n",
              "<style scoped>\n",
              "    .dataframe tbody tr th:only-of-type {\n",
              "        vertical-align: middle;\n",
              "    }\n",
              "\n",
              "    .dataframe tbody tr th {\n",
              "        vertical-align: top;\n",
              "    }\n",
              "\n",
              "    .dataframe thead th {\n",
              "        text-align: right;\n",
              "    }\n",
              "</style>\n",
              "<table border=\"1\" class=\"dataframe\">\n",
              "  <thead>\n",
              "    <tr style=\"text-align: right;\">\n",
              "      <th>uso</th>\n",
              "      <th>COMERCIAL</th>\n",
              "      <th>PARTICULAR</th>\n",
              "      <th>All</th>\n",
              "    </tr>\n",
              "    <tr>\n",
              "      <th>anu</th>\n",
              "      <th></th>\n",
              "      <th></th>\n",
              "      <th></th>\n",
              "    </tr>\n",
              "  </thead>\n",
              "  <tbody>\n",
              "    <tr>\n",
              "      <th>0</th>\n",
              "      <td>0.8</td>\n",
              "      <td>0.918314</td>\n",
              "      <td>0.917539</td>\n",
              "    </tr>\n",
              "    <tr>\n",
              "      <th>1</th>\n",
              "      <td>0.2</td>\n",
              "      <td>0.081686</td>\n",
              "      <td>0.082461</td>\n",
              "    </tr>\n",
              "  </tbody>\n",
              "</table>\n",
              "</div>"
            ],
            "text/plain": [
              "uso  COMERCIAL  PARTICULAR       All\n",
              "anu                                 \n",
              "0          0.8    0.918314  0.917539\n",
              "1          0.2    0.081686  0.082461"
            ]
          },
          "metadata": {},
          "execution_count": 106
        }
      ]
    },
    {
      "cell_type": "markdown",
      "metadata": {
        "id": "M_YQMOle9vHB"
      },
      "source": [
        "*   Uso 'comercial'  ---> 20.0% de anulaciones\n",
        "*   Uso 'particular' ---> 8.16% de anulaciones\n",
        "\n"
      ]
    },
    {
      "cell_type": "code",
      "metadata": {
        "colab": {
          "base_uri": "https://localhost:8080/",
          "height": 405
        },
        "id": "RKw7GaiNaoKz",
        "outputId": "ed94326c-07cd-452f-ff44-a7deac2c418f"
      },
      "source": [
        "plot_1 = pd.crosstab(df2.uso, df2.anu, normalize='index').plot(kind='bar', title='% Anulada vs Uso')\n",
        "# Reducir el tamaño del gráfico para guardarlo\n",
        "plt.tight_layout()"
      ],
      "execution_count": 107,
      "outputs": [
        {
          "output_type": "display_data",
          "data": {
            "image/png": "[encoded data removed]",
            "text/plain": [
              "<Figure size 576x396 with 1 Axes>"
            ]
          },
          "metadata": {}
        }
      ]
    },
    {
      "cell_type": "code",
      "metadata": {
        "colab": {
          "base_uri": "https://localhost:8080/",
          "height": 143
        },
        "id": "r5geGz_DDK7S",
        "outputId": "056bd8ad-604d-4d83-c551-e811fc6f84c3"
      },
      "source": [
        "pd.crosstab(df2.anu, df2.tipo_emi, margins=True, normalize='columns')"
      ],
      "execution_count": 108,
      "outputs": [
        {
          "output_type": "execute_result",
          "data": {
            "text/html": [
              "<div>\n",
              "<style scoped>\n",
              "    .dataframe tbody tr th:only-of-type {\n",
              "        vertical-align: middle;\n",
              "    }\n",
              "\n",
              "    .dataframe tbody tr th {\n",
              "        vertical-align: top;\n",
              "    }\n",
              "\n",
              "    .dataframe thead th {\n",
              "        text-align: right;\n",
              "    }\n",
              "</style>\n",
              "<table border=\"1\" class=\"dataframe\">\n",
              "  <thead>\n",
              "    <tr style=\"text-align: right;\">\n",
              "      <th>tipo_emi</th>\n",
              "      <th>NUEVAS</th>\n",
              "      <th>RENOVADAS</th>\n",
              "      <th>All</th>\n",
              "    </tr>\n",
              "    <tr>\n",
              "      <th>anu</th>\n",
              "      <th></th>\n",
              "      <th></th>\n",
              "      <th></th>\n",
              "    </tr>\n",
              "  </thead>\n",
              "  <tbody>\n",
              "    <tr>\n",
              "      <th>0</th>\n",
              "      <td>0.0</td>\n",
              "      <td>0.973611</td>\n",
              "      <td>0.917539</td>\n",
              "    </tr>\n",
              "    <tr>\n",
              "      <th>1</th>\n",
              "      <td>1.0</td>\n",
              "      <td>0.026389</td>\n",
              "      <td>0.082461</td>\n",
              "    </tr>\n",
              "  </tbody>\n",
              "</table>\n",
              "</div>"
            ],
            "text/plain": [
              "tipo_emi  NUEVAS  RENOVADAS       All\n",
              "anu                                  \n",
              "0            0.0   0.973611  0.917539\n",
              "1            1.0   0.026389  0.082461"
            ]
          },
          "metadata": {},
          "execution_count": 108
        }
      ]
    },
    {
      "cell_type": "code",
      "metadata": {
        "colab": {
          "base_uri": "https://localhost:8080/",
          "height": 175
        },
        "id": "I08F2WON-whS",
        "outputId": "72f51990-2fbb-454f-dbb9-8dc05817b006"
      },
      "source": [
        "pd.crosstab(df2.anu, df2.tipo_emi, margins=True, normalize='index')"
      ],
      "execution_count": 109,
      "outputs": [
        {
          "output_type": "execute_result",
          "data": {
            "text/html": [
              "<div>\n",
              "<style scoped>\n",
              "    .dataframe tbody tr th:only-of-type {\n",
              "        vertical-align: middle;\n",
              "    }\n",
              "\n",
              "    .dataframe tbody tr th {\n",
              "        vertical-align: top;\n",
              "    }\n",
              "\n",
              "    .dataframe thead th {\n",
              "        text-align: right;\n",
              "    }\n",
              "</style>\n",
              "<table border=\"1\" class=\"dataframe\">\n",
              "  <thead>\n",
              "    <tr style=\"text-align: right;\">\n",
              "      <th>tipo_emi</th>\n",
              "      <th>NUEVAS</th>\n",
              "      <th>RENOVADAS</th>\n",
              "    </tr>\n",
              "    <tr>\n",
              "      <th>anu</th>\n",
              "      <th></th>\n",
              "      <th></th>\n",
              "    </tr>\n",
              "  </thead>\n",
              "  <tbody>\n",
              "    <tr>\n",
              "      <th>0</th>\n",
              "      <td>0.000000</td>\n",
              "      <td>1.000000</td>\n",
              "    </tr>\n",
              "    <tr>\n",
              "      <th>1</th>\n",
              "      <td>0.698413</td>\n",
              "      <td>0.301587</td>\n",
              "    </tr>\n",
              "    <tr>\n",
              "      <th>All</th>\n",
              "      <td>0.057592</td>\n",
              "      <td>0.942408</td>\n",
              "    </tr>\n",
              "  </tbody>\n",
              "</table>\n",
              "</div>"
            ],
            "text/plain": [
              "tipo_emi    NUEVAS  RENOVADAS\n",
              "anu                          \n",
              "0         0.000000   1.000000\n",
              "1         0.698413   0.301587\n",
              "All       0.057592   0.942408"
            ]
          },
          "metadata": {},
          "execution_count": 109
        }
      ]
    },
    {
      "cell_type": "markdown",
      "metadata": {
        "id": "Cy18DuiLFKWa"
      },
      "source": [
        "De las tablas anteriores vemos varias cosas:\n",
        "\n",
        "*   Todas las pólizas 'nuevas' fueron anuladas\n",
        "*   De las pólizas 'renovadas' se anuló el 2.63%\n",
        "*   Las póizas nuevas representan el 5.75% de la cartera y casi el 70% (69.8%) de las anulaciones\n",
        "*   Las pólizas renovadas representan el 94.2% de la cartera y el 30.1% de las anulaciones\n",
        "\n",
        "\n",
        "\n"
      ]
    },
    {
      "cell_type": "code",
      "metadata": {
        "id": "BIjaP-2WEWL1",
        "colab": {
          "base_uri": "https://localhost:8080/",
          "height": 405
        },
        "outputId": "a3941433-b9ad-401a-b402-4ca67643111a"
      },
      "source": [
        "plot_2 = pd.crosstab(df2.tipo_emi, df2.anu, normalize='index').plot(kind='bar', title='% Anulada vs Tipo_emi')\n",
        "# Reducir el tamaño del gráfico para guardarlo\n",
        "plt.tight_layout()"
      ],
      "execution_count": 110,
      "outputs": [
        {
          "output_type": "display_data",
          "data": {
            "image/png": "[encoded data removed]",
            "text/plain": [
              "<Figure size 576x396 with 1 Axes>"
            ]
          },
          "metadata": {}
        }
      ]
    },
    {
      "cell_type": "markdown",
      "metadata": {
        "id": "T2_tQbdwb-cd"
      },
      "source": [
        "# Preparando el datatset\n"
      ]
    },
    {
      "cell_type": "markdown",
      "metadata": {
        "id": "ONUmSxtnchSp"
      },
      "source": [
        "Transformando las variables categóricas\n",
        "\n",
        "---\n",
        "\n",
        "Como tenemos variables categóricas debemos recodificarlas antes de modelar"
      ]
    },
    {
      "cell_type": "code",
      "metadata": {
        "id": "78SnscWDb4J2"
      },
      "source": [
        "# Usaremos 'Label Encoding' para etiquetar las variables categóricas con códigos numéricos.\n",
        "from sklearn.preprocessing import LabelEncoder\n",
        "gle = LabelEncoder()"
      ],
      "execution_count": 111,
      "outputs": []
    },
    {
      "cell_type": "code",
      "metadata": {
        "colab": {
          "base_uri": "https://localhost:8080/"
        },
        "id": "bZboBFmnczBH",
        "outputId": "c0c03195-8669-43fd-d155-761235f3db56"
      },
      "source": [
        "df2.info()"
      ],
      "execution_count": 112,
      "outputs": [
        {
          "output_type": "stream",
          "name": "stdout",
          "text": [
            "<class 'pandas.core.frame.DataFrame'>\n",
            "Int64Index: 764 entries, 3021710100651 to 3021910102693\n",
            "Data columns (total 16 columns):\n",
            " #   Column         Non-Null Count  Dtype          \n",
            "---  ------         --------------  -----          \n",
            " 0   inicio         764 non-null    datetime64[ns] \n",
            " 1   fin            764 non-null    datetime64[ns] \n",
            " 2   marca          764 non-null    object         \n",
            " 3   modelo         764 non-null    object         \n",
            " 4   ano            764 non-null    int64          \n",
            " 5   uso            764 non-null    object         \n",
            " 6   mon            764 non-null    int64          \n",
            " 7   tipo_veh       764 non-null    object         \n",
            " 8   tipo_emi       764 non-null    object         \n",
            " 9   prima_crc      764 non-null    float64        \n",
            " 10  anu            764 non-null    int64          \n",
            " 11  sa_crc         764 non-null    float64        \n",
            " 12  sini           764 non-null    int64          \n",
            " 13  monto_sin_crc  764 non-null    float64        \n",
            " 14  duracion       764 non-null    timedelta64[ns]\n",
            " 15  anual          764 non-null    int64          \n",
            "dtypes: datetime64[ns](2), float64(3), int64(5), object(5), timedelta64[ns](1)\n",
            "memory usage: 101.5+ KB\n"
          ]
        }
      ]
    },
    {
      "cell_type": "code",
      "metadata": {
        "colab": {
          "base_uri": "https://localhost:8080/"
        },
        "id": "EtdfJTAmcRH7",
        "outputId": "25d67c96-0193-4b21-e735-36dd17b1bb93"
      },
      "source": [
        "# Variable 'marca'\n",
        "marca_labels = gle.fit_transform(df2['marca'])\n",
        "marca_mappings = {index: label for index, label in \n",
        "                  enumerate(gle.classes_)}\n",
        "marca_mappings"
      ],
      "execution_count": 113,
      "outputs": [
        {
          "output_type": "execute_result",
          "data": {
            "text/plain": [
              "{0: 'AUDI',\n",
              " 1: 'BAIC',\n",
              " 2: 'BMW',\n",
              " 3: 'CHANGAN',\n",
              " 4: 'CHEVROLET',\n",
              " 5: 'CITROEN',\n",
              " 6: 'DAIHATSU',\n",
              " 7: 'DODGE',\n",
              " 8: 'FIAT',\n",
              " 9: 'FORD',\n",
              " 10: 'GEELY',\n",
              " 11: 'HONDA',\n",
              " 12: 'HYUNDAI',\n",
              " 13: 'INFINITI',\n",
              " 14: 'ISUZU',\n",
              " 15: 'JEEP',\n",
              " 16: 'KIA',\n",
              " 17: 'LAND ROVER',\n",
              " 18: 'LEXUS',\n",
              " 19: 'MAZDA',\n",
              " 20: 'MERCEDES BENZ',\n",
              " 21: 'MG',\n",
              " 22: 'MINI',\n",
              " 23: 'MITSUBISHI',\n",
              " 24: 'NISSAN',\n",
              " 25: 'RANGE',\n",
              " 26: 'RENAULT',\n",
              " 27: 'SANGYONG',\n",
              " 28: 'SUBARU',\n",
              " 29: 'SUZUKI',\n",
              " 30: 'TOYOTA',\n",
              " 31: 'VOLKSWAGEN',\n",
              " 32: 'VOLVO'}"
            ]
          },
          "metadata": {},
          "execution_count": 113
        }
      ]
    },
    {
      "cell_type": "code",
      "metadata": {
        "colab": {
          "base_uri": "https://localhost:8080/"
        },
        "id": "cwWeiJkIdBEa",
        "outputId": "61396d43-eb88-498d-ab5f-e4fbcb1796a1"
      },
      "source": [
        "# Variable 'modelo'\n",
        "\n",
        "# La variable 'modelo' es de tipo 'object' ya que tiene valores tipo 'int' y tipo 'str'\n",
        "# Esto debido a que hay vahículos cuyos nombres son números\n",
        "# Para usar 'label Encoder' la variable a transformar debe ser tipo 'str'\n",
        "# Por esto, es necesario transformar la variable 'modelo' a un tipo de dato 'str'\n",
        "\n",
        "# Cambiando la variable 'modelo' a tipo 'str'\n",
        "df2['modelo'] = df2['modelo'].astype(str)\n",
        "\n",
        "# Codificando\n",
        "modelo_labels = gle.fit_transform(df2['modelo'])\n",
        "modelo_mappings = {index: label for index, label in \n",
        "                  enumerate(gle.classes_)}\n",
        "modelo_mappings"
      ],
      "execution_count": 114,
      "outputs": [
        {
          "output_type": "execute_result",
          "data": {
            "text/plain": [
              "{0: '110',\n",
              " 1: '3',\n",
              " 2: '320',\n",
              " 3: '350Z',\n",
              " 4: '4RUNNER',\n",
              " 5: 'A1',\n",
              " 6: 'A3',\n",
              " 7: 'A6',\n",
              " 8: 'A7',\n",
              " 9: 'ACCENT',\n",
              " 10: 'ALMERA',\n",
              " 11: 'ALTO',\n",
              " 12: 'AMAROK',\n",
              " 13: 'ASX',\n",
              " 14: 'AVEO',\n",
              " 15: 'BALENO',\n",
              " 16: 'BERLINA',\n",
              " 17: 'BERLINGO',\n",
              " 18: 'BONGO',\n",
              " 19: 'C3',\n",
              " 20: 'CAPTIVA',\n",
              " 21: 'CELERIO',\n",
              " 22: 'CERATO',\n",
              " 23: 'CGI',\n",
              " 24: 'CHEROKEE',\n",
              " 25: 'CIAZ',\n",
              " 26: 'CITY',\n",
              " 27: 'CIVIC',\n",
              " 28: 'COLORADO',\n",
              " 29: 'COOPER',\n",
              " 30: 'COROLLA',\n",
              " 31: 'COUNTRYMAN S',\n",
              " 32: 'CR-V',\n",
              " 33: 'CRETA',\n",
              " 34: 'CRUZE',\n",
              " 35: 'CX-5',\n",
              " 36: 'CX-7',\n",
              " 37: 'DMAX',\n",
              " 38: 'DZIRE',\n",
              " 39: 'EDGE',\n",
              " 40: 'ELANTRA',\n",
              " 41: 'ERTIGA',\n",
              " 42: 'ESCAPE',\n",
              " 43: 'EVEREST',\n",
              " 44: 'EXPLORER',\n",
              " 45: 'F-150',\n",
              " 46: 'FORESTER',\n",
              " 47: 'FORTE 1.6M/T',\n",
              " 48: 'FORTUNER',\n",
              " 49: 'FRONTIER',\n",
              " 50: 'FUSION',\n",
              " 51: 'FX',\n",
              " 52: 'GC6',\n",
              " 53: 'GEELY',\n",
              " 54: 'GEELY_LC',\n",
              " 55: 'GENESIS',\n",
              " 56: 'GL',\n",
              " 57: 'GRAN MAX',\n",
              " 58: 'GRAND 110',\n",
              " 59: 'GRAND VITARA',\n",
              " 60: 'GRAND-CHEROKEE',\n",
              " 61: 'GS',\n",
              " 62: 'GV',\n",
              " 63: 'H1',\n",
              " 64: 'HILUX',\n",
              " 65: 'I-10',\n",
              " 66: 'I-20',\n",
              " 67: 'IGNIS',\n",
              " 68: 'IMPALA',\n",
              " 69: 'IMPREZA',\n",
              " 70: 'JETTA',\n",
              " 71: 'KICKS',\n",
              " 72: 'KORANDO',\n",
              " 73: 'L200',\n",
              " 74: 'LANCER',\n",
              " 75: 'LAND CRUISER',\n",
              " 76: 'LIMITED',\n",
              " 77: 'LINEA DYNAMIC',\n",
              " 78: 'LT',\n",
              " 79: 'MARCH',\n",
              " 80: 'MAZDA 2',\n",
              " 81: 'MAZDA 3',\n",
              " 82: 'MEGANE',\n",
              " 83: 'MG GS',\n",
              " 84: 'MG GT',\n",
              " 85: 'MONTERO',\n",
              " 86: 'MORNING',\n",
              " 87: 'MZ-40',\n",
              " 88: 'N300',\n",
              " 89: 'NATIVA',\n",
              " 90: 'NAVARA',\n",
              " 91: 'NAVARA SE',\n",
              " 92: 'ODYSSEY',\n",
              " 93: 'OUTBACK',\n",
              " 94: 'OUTLANDER',\n",
              " 95: 'PALIO',\n",
              " 96: 'PATHFINDER',\n",
              " 97: 'PICANTO',\n",
              " 98: 'PRADO',\n",
              " 99: 'PRIUS',\n",
              " 100: 'Q5',\n",
              " 101: 'Q7',\n",
              " 102: 'QASHQAI',\n",
              " 103: 'RAM',\n",
              " 104: 'RANGE-ROVER',\n",
              " 105: 'RANGER',\n",
              " 106: 'RAV4',\n",
              " 107: 'RENEGADE',\n",
              " 108: 'RIO',\n",
              " 109: 'ROVER',\n",
              " 110: 'RUNNER',\n",
              " 111: 'RUSH',\n",
              " 112: 'S CROSS',\n",
              " 113: 'SANDERO',\n",
              " 114: 'SANTA FE',\n",
              " 115: 'SENTRA',\n",
              " 116: 'SORENTO',\n",
              " 117: 'SOUL',\n",
              " 118: 'SPARK',\n",
              " 119: 'SPORTAGE',\n",
              " 120: 'STAR LIGHT',\n",
              " 121: 'STAREX',\n",
              " 122: 'SWIFT',\n",
              " 123: 'SX4',\n",
              " 124: 'TACOMA',\n",
              " 125: 'TERIOS',\n",
              " 126: 'TIGUAN',\n",
              " 127: 'TIIDA',\n",
              " 128: 'TIVOLI',\n",
              " 129: 'TRAX',\n",
              " 130: 'TUCKSON GL4X2',\n",
              " 131: 'TUCSON',\n",
              " 132: 'TUNDRA',\n",
              " 133: 'VELOSTER GLS',\n",
              " 134: 'VERSA',\n",
              " 135: 'VITARA',\n",
              " 136: 'X1',\n",
              " 137: 'X3',\n",
              " 138: 'X5',\n",
              " 139: 'X6',\n",
              " 140: 'XC',\n",
              " 141: 'XC60 D5',\n",
              " 142: 'XTRAIL',\n",
              " 143: 'YARIS',\n",
              " 144: 'Z4',\n",
              " 145: 'ZINGER',\n",
              " 146: 'ZS'}"
            ]
          },
          "metadata": {},
          "execution_count": 114
        }
      ]
    },
    {
      "cell_type": "code",
      "metadata": {
        "colab": {
          "base_uri": "https://localhost:8080/"
        },
        "id": "Wj_Qa6KAdQow",
        "outputId": "34c4ca95-fa8f-4dd0-857b-cf195d12016b"
      },
      "source": [
        "# Variable 'uso'\n",
        "uso_labels = gle.fit_transform(df2['uso'])\n",
        "uso_mappings = {index: label for index, label in \n",
        "                  enumerate(gle.classes_)}\n",
        "uso_mappings"
      ],
      "execution_count": 115,
      "outputs": [
        {
          "output_type": "execute_result",
          "data": {
            "text/plain": [
              "{0: 'COMERCIAL', 1: 'PARTICULAR'}"
            ]
          },
          "metadata": {},
          "execution_count": 115
        }
      ]
    },
    {
      "cell_type": "code",
      "metadata": {
        "colab": {
          "base_uri": "https://localhost:8080/"
        },
        "id": "r3Mp5YJVfFz_",
        "outputId": "01a7203e-c7ab-4c15-85e6-a3451c8dee0c"
      },
      "source": [
        "# Variable 'tipo_veh'_\n",
        "veh_labels = gle.fit_transform(df2['tipo_veh'])\n",
        "veh_mappings = {index: label for index, label in \n",
        "                  enumerate(gle.classes_)}\n",
        "veh_mappings"
      ],
      "execution_count": 116,
      "outputs": [
        {
          "output_type": "execute_result",
          "data": {
            "text/plain": [
              "{0: 'AUTOMOVIL', 1: 'CARGA LIVIANA', 2: 'PANEL', 3: 'PICK UP'}"
            ]
          },
          "metadata": {},
          "execution_count": 116
        }
      ]
    },
    {
      "cell_type": "code",
      "metadata": {
        "colab": {
          "base_uri": "https://localhost:8080/"
        },
        "id": "vjIiqzJrfRqb",
        "outputId": "168aec59-c070-4a95-e0aa-38cb046c4692"
      },
      "source": [
        "# Variable 'tipo_emi'\n",
        "emi_labels = gle.fit_transform(df2['tipo_emi'])\n",
        "emi_mappings = {index: label for index, label in \n",
        "                  enumerate(gle.classes_)}\n",
        "emi_mappings"
      ],
      "execution_count": 117,
      "outputs": [
        {
          "output_type": "execute_result",
          "data": {
            "text/plain": [
              "{0: 'NUEVAS', 1: 'RENOVADAS'}"
            ]
          },
          "metadata": {},
          "execution_count": 117
        }
      ]
    },
    {
      "cell_type": "code",
      "metadata": {
        "colab": {
          "base_uri": "https://localhost:8080/",
          "height": 475
        },
        "id": "85bffovrfZcJ",
        "outputId": "3c90c947-c199-4e9b-e48c-31792b698853"
      },
      "source": [
        "# Replicando el dataset para conservar el flujo de cambios\n",
        "df3 = df2\n",
        "\n",
        "# Agrgando las nuevas variables categóricas\n",
        "df3['MarcaLabel'] = marca_labels\n",
        "df3['ModeloLabel'] = modelo_labels\n",
        "df3['UsoLabel'] = uso_labels\n",
        "df3['VehLabel'] = veh_labels\n",
        "df3['EmiLabel'] = emi_labels\n",
        "\n",
        "# Eliminando las columnas anteriores\n",
        "df3.drop(columns={'marca','modelo','uso','tipo_veh','tipo_emi','duracion','inicio','fin'}, inplace=True)\n",
        "df3"
      ],
      "execution_count": 118,
      "outputs": [
        {
          "output_type": "execute_result",
          "data": {
            "text/html": [
              "<div>\n",
              "<style scoped>\n",
              "    .dataframe tbody tr th:only-of-type {\n",
              "        vertical-align: middle;\n",
              "    }\n",
              "\n",
              "    .dataframe tbody tr th {\n",
              "        vertical-align: top;\n",
              "    }\n",
              "\n",
              "    .dataframe thead th {\n",
              "        text-align: right;\n",
              "    }\n",
              "</style>\n",
              "<table border=\"1\" class=\"dataframe\">\n",
              "  <thead>\n",
              "    <tr style=\"text-align: right;\">\n",
              "      <th></th>\n",
              "      <th>ano</th>\n",
              "      <th>mon</th>\n",
              "      <th>prima_crc</th>\n",
              "      <th>anu</th>\n",
              "      <th>sa_crc</th>\n",
              "      <th>sini</th>\n",
              "      <th>monto_sin_crc</th>\n",
              "      <th>anual</th>\n",
              "      <th>MarcaLabel</th>\n",
              "      <th>ModeloLabel</th>\n",
              "      <th>UsoLabel</th>\n",
              "      <th>VehLabel</th>\n",
              "      <th>EmiLabel</th>\n",
              "    </tr>\n",
              "    <tr>\n",
              "      <th>poliza</th>\n",
              "      <th></th>\n",
              "      <th></th>\n",
              "      <th></th>\n",
              "      <th></th>\n",
              "      <th></th>\n",
              "      <th></th>\n",
              "      <th></th>\n",
              "      <th></th>\n",
              "      <th></th>\n",
              "      <th></th>\n",
              "      <th></th>\n",
              "      <th></th>\n",
              "      <th></th>\n",
              "    </tr>\n",
              "  </thead>\n",
              "  <tbody>\n",
              "    <tr>\n",
              "      <th>3021710100651</th>\n",
              "      <td>2008</td>\n",
              "      <td>1</td>\n",
              "      <td>0.0</td>\n",
              "      <td>0</td>\n",
              "      <td>17000000.0</td>\n",
              "      <td>0</td>\n",
              "      <td>0.0</td>\n",
              "      <td>1</td>\n",
              "      <td>30</td>\n",
              "      <td>75</td>\n",
              "      <td>1</td>\n",
              "      <td>3</td>\n",
              "      <td>1</td>\n",
              "    </tr>\n",
              "    <tr>\n",
              "      <th>3021710100652</th>\n",
              "      <td>2017</td>\n",
              "      <td>1</td>\n",
              "      <td>0.0</td>\n",
              "      <td>0</td>\n",
              "      <td>16000000.0</td>\n",
              "      <td>0</td>\n",
              "      <td>0.0</td>\n",
              "      <td>1</td>\n",
              "      <td>15</td>\n",
              "      <td>107</td>\n",
              "      <td>1</td>\n",
              "      <td>0</td>\n",
              "      <td>1</td>\n",
              "    </tr>\n",
              "    <tr>\n",
              "      <th>3021710100653</th>\n",
              "      <td>2017</td>\n",
              "      <td>1</td>\n",
              "      <td>0.0</td>\n",
              "      <td>0</td>\n",
              "      <td>13500000.0</td>\n",
              "      <td>0</td>\n",
              "      <td>0.0</td>\n",
              "      <td>1</td>\n",
              "      <td>16</td>\n",
              "      <td>47</td>\n",
              "      <td>1</td>\n",
              "      <td>0</td>\n",
              "      <td>1</td>\n",
              "    </tr>\n",
              "    <tr>\n",
              "      <th>3021710100654</th>\n",
              "      <td>2008</td>\n",
              "      <td>1</td>\n",
              "      <td>0.0</td>\n",
              "      <td>0</td>\n",
              "      <td>3500000.0</td>\n",
              "      <td>0</td>\n",
              "      <td>0.0</td>\n",
              "      <td>1</td>\n",
              "      <td>4</td>\n",
              "      <td>118</td>\n",
              "      <td>1</td>\n",
              "      <td>0</td>\n",
              "      <td>1</td>\n",
              "    </tr>\n",
              "    <tr>\n",
              "      <th>3021710100655</th>\n",
              "      <td>2012</td>\n",
              "      <td>1</td>\n",
              "      <td>39872.3</td>\n",
              "      <td>0</td>\n",
              "      <td>8000000.0</td>\n",
              "      <td>0</td>\n",
              "      <td>0.0</td>\n",
              "      <td>1</td>\n",
              "      <td>12</td>\n",
              "      <td>9</td>\n",
              "      <td>1</td>\n",
              "      <td>0</td>\n",
              "      <td>1</td>\n",
              "    </tr>\n",
              "    <tr>\n",
              "      <th>...</th>\n",
              "      <td>...</td>\n",
              "      <td>...</td>\n",
              "      <td>...</td>\n",
              "      <td>...</td>\n",
              "      <td>...</td>\n",
              "      <td>...</td>\n",
              "      <td>...</td>\n",
              "      <td>...</td>\n",
              "      <td>...</td>\n",
              "      <td>...</td>\n",
              "      <td>...</td>\n",
              "      <td>...</td>\n",
              "      <td>...</td>\n",
              "    </tr>\n",
              "    <tr>\n",
              "      <th>3021910102411</th>\n",
              "      <td>2007</td>\n",
              "      <td>1</td>\n",
              "      <td>-253258.1</td>\n",
              "      <td>1</td>\n",
              "      <td>4300000.0</td>\n",
              "      <td>0</td>\n",
              "      <td>0.0</td>\n",
              "      <td>1</td>\n",
              "      <td>30</td>\n",
              "      <td>143</td>\n",
              "      <td>1</td>\n",
              "      <td>0</td>\n",
              "      <td>0</td>\n",
              "    </tr>\n",
              "    <tr>\n",
              "      <th>3021910102413</th>\n",
              "      <td>2008</td>\n",
              "      <td>1</td>\n",
              "      <td>-257957.5</td>\n",
              "      <td>1</td>\n",
              "      <td>4000000.0</td>\n",
              "      <td>0</td>\n",
              "      <td>0.0</td>\n",
              "      <td>1</td>\n",
              "      <td>12</td>\n",
              "      <td>9</td>\n",
              "      <td>1</td>\n",
              "      <td>0</td>\n",
              "      <td>0</td>\n",
              "    </tr>\n",
              "    <tr>\n",
              "      <th>3021910102420</th>\n",
              "      <td>2013</td>\n",
              "      <td>1</td>\n",
              "      <td>-320195.3</td>\n",
              "      <td>1</td>\n",
              "      <td>8500000.0</td>\n",
              "      <td>0</td>\n",
              "      <td>0.0</td>\n",
              "      <td>1</td>\n",
              "      <td>4</td>\n",
              "      <td>20</td>\n",
              "      <td>1</td>\n",
              "      <td>0</td>\n",
              "      <td>0</td>\n",
              "    </tr>\n",
              "    <tr>\n",
              "      <th>3021910102519</th>\n",
              "      <td>2016</td>\n",
              "      <td>1</td>\n",
              "      <td>0.0</td>\n",
              "      <td>1</td>\n",
              "      <td>17000000.0</td>\n",
              "      <td>0</td>\n",
              "      <td>0.0</td>\n",
              "      <td>1</td>\n",
              "      <td>23</td>\n",
              "      <td>73</td>\n",
              "      <td>1</td>\n",
              "      <td>1</td>\n",
              "      <td>0</td>\n",
              "    </tr>\n",
              "    <tr>\n",
              "      <th>3021910102693</th>\n",
              "      <td>2016</td>\n",
              "      <td>1</td>\n",
              "      <td>0.0</td>\n",
              "      <td>1</td>\n",
              "      <td>8000000.0</td>\n",
              "      <td>0</td>\n",
              "      <td>0.0</td>\n",
              "      <td>0</td>\n",
              "      <td>12</td>\n",
              "      <td>131</td>\n",
              "      <td>1</td>\n",
              "      <td>0</td>\n",
              "      <td>0</td>\n",
              "    </tr>\n",
              "  </tbody>\n",
              "</table>\n",
              "<p>764 rows × 13 columns</p>\n",
              "</div>"
            ],
            "text/plain": [
              "                ano  mon  prima_crc  ...  UsoLabel  VehLabel  EmiLabel\n",
              "poliza                               ...                              \n",
              "3021710100651  2008    1        0.0  ...         1         3         1\n",
              "3021710100652  2017    1        0.0  ...         1         0         1\n",
              "3021710100653  2017    1        0.0  ...         1         0         1\n",
              "3021710100654  2008    1        0.0  ...         1         0         1\n",
              "3021710100655  2012    1    39872.3  ...         1         0         1\n",
              "...             ...  ...        ...  ...       ...       ...       ...\n",
              "3021910102411  2007    1  -253258.1  ...         1         0         0\n",
              "3021910102413  2008    1  -257957.5  ...         1         0         0\n",
              "3021910102420  2013    1  -320195.3  ...         1         0         0\n",
              "3021910102519  2016    1        0.0  ...         1         1         0\n",
              "3021910102693  2016    1        0.0  ...         1         0         0\n",
              "\n",
              "[764 rows x 13 columns]"
            ]
          },
          "metadata": {},
          "execution_count": 118
        }
      ]
    },
    {
      "cell_type": "markdown",
      "metadata": {
        "id": "9HDHcbc-htMf"
      },
      "source": [
        "# Dividiendo el dataset en 'trainning' y 'test'"
      ]
    },
    {
      "cell_type": "code",
      "metadata": {
        "id": "QWavrkeigaRj"
      },
      "source": [
        "# Organizar los datos en la matriz de características y el vector de destino\n",
        "X = df3.loc[:, df2.columns[(df2.columns != 'anu')]]\n",
        "y = df3.loc[:, 'anu'].values"
      ],
      "execution_count": 125,
      "outputs": []
    },
    {
      "cell_type": "code",
      "metadata": {
        "colab": {
          "base_uri": "https://localhost:8080/"
        },
        "id": "ARHAk4Phh-H2",
        "outputId": "40bdf0e1-992e-4967-955c-43e1455e3a1c"
      },
      "source": [
        "# Las clases no están equilibradas\n",
        "df3['anu'].value_counts(dropna = False)"
      ],
      "execution_count": 126,
      "outputs": [
        {
          "output_type": "execute_result",
          "data": {
            "text/plain": [
              "0    701\n",
              "1     63\n",
              "Name: anu, dtype: int64"
            ]
          },
          "metadata": {},
          "execution_count": 126
        }
      ]
    },
    {
      "cell_type": "markdown",
      "metadata": {
        "id": "dBKyLQpdiSrk"
      },
      "source": [
        "Podemos notar claramente que las clases la variable 'anu', la cual será nuestro vector objetivo 'y' no están equilibradas.\n",
        "\n",
        "Saber que las clases no están equilibradas es indispensable para determinar si debemos usar el método 'stratify=y' cuando hagamos la separación del dataset en 'trainning' y 'test'. Usar este método nos garantiza que tanto el set de 'trainning' como el set de 'test' tendrán la misma estructura que los datos originales."
      ]
    },
    {
      "cell_type": "code",
      "metadata": {
        "id": "lUvqqziFh1r5"
      },
      "source": [
        "# Dividir en conjuntos de prueba y entrenamiento\n",
        "# Ya que la variable 'Class' está bastante desbalanceada\n",
        "# Necesitamos indicar la variables 'Class' como argumento para estratificar\n",
        "# Y con ello asegurar que los conjuntos de entrenamiento y prueba tendrán las mismas proporciones que 'Class'\n",
        "X_train, X_test, y_train, y_test =train_test_split(X,\n",
        "                                                   y,\n",
        "                                                   test_size=0.3, \n",
        "                                                   random_state=0, \n",
        "                                                   stratify=y)"
      ],
      "execution_count": 206,
      "outputs": []
    },
    {
      "cell_type": "code",
      "metadata": {
        "colab": {
          "base_uri": "https://localhost:8080/",
          "height": 475
        },
        "id": "Gmd9_vJ-EkF2",
        "outputId": "b6bf1b50-8652-4ded-f5e7-98033622e3e4"
      },
      "source": [
        "X_train"
      ],
      "execution_count": 207,
      "outputs": [
        {
          "output_type": "execute_result",
          "data": {
            "text/html": [
              "<div>\n",
              "<style scoped>\n",
              "    .dataframe tbody tr th:only-of-type {\n",
              "        vertical-align: middle;\n",
              "    }\n",
              "\n",
              "    .dataframe tbody tr th {\n",
              "        vertical-align: top;\n",
              "    }\n",
              "\n",
              "    .dataframe thead th {\n",
              "        text-align: right;\n",
              "    }\n",
              "</style>\n",
              "<table border=\"1\" class=\"dataframe\">\n",
              "  <thead>\n",
              "    <tr style=\"text-align: right;\">\n",
              "      <th></th>\n",
              "      <th>ano</th>\n",
              "      <th>mon</th>\n",
              "      <th>prima_crc</th>\n",
              "      <th>sa_crc</th>\n",
              "      <th>sini</th>\n",
              "      <th>monto_sin_crc</th>\n",
              "      <th>anual</th>\n",
              "      <th>MarcaLabel</th>\n",
              "      <th>ModeloLabel</th>\n",
              "      <th>UsoLabel</th>\n",
              "      <th>VehLabel</th>\n",
              "      <th>EmiLabel</th>\n",
              "    </tr>\n",
              "    <tr>\n",
              "      <th>poliza</th>\n",
              "      <th></th>\n",
              "      <th></th>\n",
              "      <th></th>\n",
              "      <th></th>\n",
              "      <th></th>\n",
              "      <th></th>\n",
              "      <th></th>\n",
              "      <th></th>\n",
              "      <th></th>\n",
              "      <th></th>\n",
              "      <th></th>\n",
              "      <th></th>\n",
              "    </tr>\n",
              "  </thead>\n",
              "  <tbody>\n",
              "    <tr>\n",
              "      <th>3021810101549</th>\n",
              "      <td>2009</td>\n",
              "      <td>1</td>\n",
              "      <td>259045.7</td>\n",
              "      <td>3600000.0</td>\n",
              "      <td>0</td>\n",
              "      <td>0.0</td>\n",
              "      <td>1</td>\n",
              "      <td>4</td>\n",
              "      <td>14</td>\n",
              "      <td>1</td>\n",
              "      <td>0</td>\n",
              "      <td>1</td>\n",
              "    </tr>\n",
              "    <tr>\n",
              "      <th>3021810101838</th>\n",
              "      <td>2018</td>\n",
              "      <td>2</td>\n",
              "      <td>447931.8</td>\n",
              "      <td>14668502.7</td>\n",
              "      <td>0</td>\n",
              "      <td>0.0</td>\n",
              "      <td>1</td>\n",
              "      <td>30</td>\n",
              "      <td>111</td>\n",
              "      <td>1</td>\n",
              "      <td>0</td>\n",
              "      <td>1</td>\n",
              "    </tr>\n",
              "    <tr>\n",
              "      <th>3021810100955</th>\n",
              "      <td>2009</td>\n",
              "      <td>1</td>\n",
              "      <td>191661.1</td>\n",
              "      <td>4500000.0</td>\n",
              "      <td>0</td>\n",
              "      <td>0.0</td>\n",
              "      <td>1</td>\n",
              "      <td>19</td>\n",
              "      <td>80</td>\n",
              "      <td>1</td>\n",
              "      <td>0</td>\n",
              "      <td>1</td>\n",
              "    </tr>\n",
              "    <tr>\n",
              "      <th>3021810102186</th>\n",
              "      <td>2011</td>\n",
              "      <td>1</td>\n",
              "      <td>311558.2</td>\n",
              "      <td>4000000.0</td>\n",
              "      <td>0</td>\n",
              "      <td>0.0</td>\n",
              "      <td>1</td>\n",
              "      <td>24</td>\n",
              "      <td>142</td>\n",
              "      <td>1</td>\n",
              "      <td>0</td>\n",
              "      <td>1</td>\n",
              "    </tr>\n",
              "    <tr>\n",
              "      <th>3021710100822</th>\n",
              "      <td>2011</td>\n",
              "      <td>1</td>\n",
              "      <td>1063891.8</td>\n",
              "      <td>11000000.0</td>\n",
              "      <td>0</td>\n",
              "      <td>0.0</td>\n",
              "      <td>1</td>\n",
              "      <td>12</td>\n",
              "      <td>114</td>\n",
              "      <td>1</td>\n",
              "      <td>2</td>\n",
              "      <td>1</td>\n",
              "    </tr>\n",
              "    <tr>\n",
              "      <th>...</th>\n",
              "      <td>...</td>\n",
              "      <td>...</td>\n",
              "      <td>...</td>\n",
              "      <td>...</td>\n",
              "      <td>...</td>\n",
              "      <td>...</td>\n",
              "      <td>...</td>\n",
              "      <td>...</td>\n",
              "      <td>...</td>\n",
              "      <td>...</td>\n",
              "      <td>...</td>\n",
              "      <td>...</td>\n",
              "    </tr>\n",
              "    <tr>\n",
              "      <th>3021810102002</th>\n",
              "      <td>2012</td>\n",
              "      <td>1</td>\n",
              "      <td>307923.4</td>\n",
              "      <td>5500000.0</td>\n",
              "      <td>0</td>\n",
              "      <td>0.0</td>\n",
              "      <td>1</td>\n",
              "      <td>12</td>\n",
              "      <td>9</td>\n",
              "      <td>1</td>\n",
              "      <td>0</td>\n",
              "      <td>1</td>\n",
              "    </tr>\n",
              "    <tr>\n",
              "      <th>3021910102397</th>\n",
              "      <td>2008</td>\n",
              "      <td>1</td>\n",
              "      <td>681357.9</td>\n",
              "      <td>20000000.0</td>\n",
              "      <td>0</td>\n",
              "      <td>0.0</td>\n",
              "      <td>1</td>\n",
              "      <td>30</td>\n",
              "      <td>132</td>\n",
              "      <td>1</td>\n",
              "      <td>3</td>\n",
              "      <td>0</td>\n",
              "    </tr>\n",
              "    <tr>\n",
              "      <th>3021810101451</th>\n",
              "      <td>2017</td>\n",
              "      <td>1</td>\n",
              "      <td>489170.4</td>\n",
              "      <td>15000000.0</td>\n",
              "      <td>0</td>\n",
              "      <td>0.0</td>\n",
              "      <td>1</td>\n",
              "      <td>24</td>\n",
              "      <td>102</td>\n",
              "      <td>1</td>\n",
              "      <td>0</td>\n",
              "      <td>1</td>\n",
              "    </tr>\n",
              "    <tr>\n",
              "      <th>3021710100811</th>\n",
              "      <td>2018</td>\n",
              "      <td>1</td>\n",
              "      <td>836252.4</td>\n",
              "      <td>12000000.0</td>\n",
              "      <td>0</td>\n",
              "      <td>0.0</td>\n",
              "      <td>1</td>\n",
              "      <td>29</td>\n",
              "      <td>67</td>\n",
              "      <td>1</td>\n",
              "      <td>0</td>\n",
              "      <td>1</td>\n",
              "    </tr>\n",
              "    <tr>\n",
              "      <th>3021710100766</th>\n",
              "      <td>2017</td>\n",
              "      <td>2</td>\n",
              "      <td>811904.7</td>\n",
              "      <td>15947120.0</td>\n",
              "      <td>0</td>\n",
              "      <td>0.0</td>\n",
              "      <td>1</td>\n",
              "      <td>24</td>\n",
              "      <td>102</td>\n",
              "      <td>1</td>\n",
              "      <td>0</td>\n",
              "      <td>1</td>\n",
              "    </tr>\n",
              "  </tbody>\n",
              "</table>\n",
              "<p>534 rows × 12 columns</p>\n",
              "</div>"
            ],
            "text/plain": [
              "                ano  mon  prima_crc  ...  UsoLabel  VehLabel  EmiLabel\n",
              "poliza                               ...                              \n",
              "3021810101549  2009    1   259045.7  ...         1         0         1\n",
              "3021810101838  2018    2   447931.8  ...         1         0         1\n",
              "3021810100955  2009    1   191661.1  ...         1         0         1\n",
              "3021810102186  2011    1   311558.2  ...         1         0         1\n",
              "3021710100822  2011    1  1063891.8  ...         1         2         1\n",
              "...             ...  ...        ...  ...       ...       ...       ...\n",
              "3021810102002  2012    1   307923.4  ...         1         0         1\n",
              "3021910102397  2008    1   681357.9  ...         1         3         0\n",
              "3021810101451  2017    1   489170.4  ...         1         0         1\n",
              "3021710100811  2018    1   836252.4  ...         1         0         1\n",
              "3021710100766  2017    2   811904.7  ...         1         0         1\n",
              "\n",
              "[534 rows x 12 columns]"
            ]
          },
          "metadata": {},
          "execution_count": 207
        }
      ]
    },
    {
      "cell_type": "markdown",
      "metadata": {
        "id": "Rk0LkXhWjyzK"
      },
      "source": [
        "# Estandarizando los datos"
      ]
    },
    {
      "cell_type": "code",
      "metadata": {
        "id": "oUj0iLotja9e"
      },
      "source": [
        "# Estandarizar datos\n",
        "scaler = StandardScaler()\n",
        "# Ajustar solo al conjunto de entrenamiento\n",
        "scaler.fit(X_train)\n",
        "# Aplicar  transform tanto al conjunto de entrenamiento como al conjunto de prueba\n",
        "X_train = scaler.transform(X_train)\n",
        "X_test = scaler.transform(X_test)"
      ],
      "execution_count": 203,
      "outputs": []
    },
    {
      "cell_type": "markdown",
      "metadata": {
        "id": "pH0fTSO0j8SY"
      },
      "source": [
        "# 1) Regresión Logística\n",
        "\n",
        "---\n"
      ]
    },
    {
      "cell_type": "code",
      "metadata": {
        "colab": {
          "base_uri": "https://localhost:8080/"
        },
        "id": "HhIAEdpDj1is",
        "outputId": "fabcf6c2-ebb8-485d-a2ee-ea0a14139bc2"
      },
      "source": [
        "#1 Importando el modelo\n",
        "from sklearn.linear_model import LogisticRegression\n",
        "\n",
        "#2 Definiendo la instancia del modelo\n",
        "log_reg = LogisticRegression()\n",
        "\n",
        "#3 Entrenando el modelo con la Matriz 'X' y el vector 'y'\n",
        "log_reg.fit(X_train, y_train)"
      ],
      "execution_count": 129,
      "outputs": [
        {
          "output_type": "execute_result",
          "data": {
            "text/plain": [
              "LogisticRegression(C=1.0, class_weight=None, dual=False, fit_intercept=True,\n",
              "                   intercept_scaling=1, l1_ratio=None, max_iter=100,\n",
              "                   multi_class='auto', n_jobs=None, penalty='l2',\n",
              "                   random_state=None, solver='lbfgs', tol=0.0001, verbose=0,\n",
              "                   warm_start=False)"
            ]
          },
          "metadata": {},
          "execution_count": 129
        }
      ]
    },
    {
      "cell_type": "code",
      "metadata": {
        "colab": {
          "base_uri": "https://localhost:8080/"
        },
        "id": "1fx2VqI6kGmP",
        "outputId": "96d33d37-80f1-4bee-e01c-f3b36ab0cd91"
      },
      "source": [
        "#4 Evaluando el desempeño del modelo\n",
        "print('Test accuracy:', log_reg.score(X_test, y_test))\n",
        "print('Test accuracy:', log_reg.score(X_test, y_test))"
      ],
      "execution_count": 130,
      "outputs": [
        {
          "output_type": "stream",
          "name": "stdout",
          "text": [
            "Test accuracy: 0.9739130434782609\n",
            "Test accuracy: 0.9739130434782609\n"
          ]
        }
      ]
    },
    {
      "cell_type": "markdown",
      "metadata": {
        "id": "g4Ij6fPskNHM"
      },
      "source": [
        "# Definición de criterios para evluar el desempeño del modelo\n",
        "\n",
        "---\n",
        "\n",
        "Vemos que el 'accuracy' nos da un valor muy bueno, sin embargo el vector objetivo 'y' presenta 2 clases 0 y 1 las cuales ya vimos que están muy desbalanceadas, y sabemos que en casos como estos no se recomienda la medida de 'accuracy' para evaluar el modelo debido ya que resulta engañosa.\n",
        "\n",
        "Por lo tanto, nos basaremos en las métricas de 'recall', 'auc' y 'f1-score' para determinar si el modelo es un buen predictor."
      ]
    },
    {
      "cell_type": "code",
      "metadata": {
        "id": "dT8O-f1Ck3od"
      },
      "source": [
        "# Importando métricas de evaluación\n",
        "from sklearn.metrics import classification_report, confusion_matrix\n",
        "from sklearn.metrics import recall_score\n",
        "from sklearn.metrics import f1_score\n",
        "from sklearn.metrics import roc_auc_score"
      ],
      "execution_count": 131,
      "outputs": []
    },
    {
      "cell_type": "code",
      "metadata": {
        "colab": {
          "base_uri": "https://localhost:8080/"
        },
        "id": "1ygC6Ja6k4N_",
        "outputId": "6d37b816-7cf1-46c5-c4f7-60739ed87fa5"
      },
      "source": [
        "print('Test recall:', recall_score(y_test, log_reg.predict(X_test)))\n",
        "print('Test roc_auc:', roc_auc_score(y_test, log_reg.predict(X_test)))\n",
        "print('Test f1-score:', f1_score(y_test, log_reg.predict(X_test)))"
      ],
      "execution_count": 134,
      "outputs": [
        {
          "output_type": "stream",
          "name": "stdout",
          "text": [
            "Test recall: 0.6842105263157895\n",
            "Test roc_auc: 0.8421052631578947\n",
            "Test f1-score: 0.8125000000000001\n"
          ]
        }
      ]
    },
    {
      "cell_type": "markdown",
      "metadata": {
        "id": "SNkFO_8tlD0V"
      },
      "source": [
        "Mirando las métricas anteriores notamos que el modelo no es tan buen predictor como la métrica de accuracy nos hacía presumir. \n",
        "\n",
        "Veamos ahora la matriz de confusión para evaluar las predicciones puntualmente."
      ]
    },
    {
      "cell_type": "code",
      "metadata": {
        "colab": {
          "base_uri": "https://localhost:8080/"
        },
        "id": "iH1vljQdk7OP",
        "outputId": "2fcab0e8-2e9d-4d20-c204-daeef971f22e"
      },
      "source": [
        "lr_matrix = confusion_matrix(y_test, log_reg.predict(X_test))\n",
        "lr_matrix"
      ],
      "execution_count": 151,
      "outputs": [
        {
          "output_type": "execute_result",
          "data": {
            "text/plain": [
              "array([[211,   0],\n",
              "       [  6,  13]])"
            ]
          },
          "metadata": {},
          "execution_count": 151
        }
      ]
    },
    {
      "cell_type": "code",
      "metadata": {
        "colab": {
          "base_uri": "https://localhost:8080/"
        },
        "id": "Snv4sKYYljkJ",
        "outputId": "d12d1ec9-9ccc-42e5-dd84-e69df0c55d67"
      },
      "source": [
        "print(classification_report(y_test, log_reg.predict(X_test)))"
      ],
      "execution_count": 137,
      "outputs": [
        {
          "output_type": "stream",
          "name": "stdout",
          "text": [
            "              precision    recall  f1-score   support\n",
            "\n",
            "           0       0.97      1.00      0.99       211\n",
            "           1       1.00      0.68      0.81        19\n",
            "\n",
            "    accuracy                           0.97       230\n",
            "   macro avg       0.99      0.84      0.90       230\n",
            "weighted avg       0.97      0.97      0.97       230\n",
            "\n"
          ]
        }
      ]
    },
    {
      "cell_type": "markdown",
      "metadata": {
        "id": "RridYBN7lusx"
      },
      "source": [
        "Podemos ver en la matriz anterior que el modelo se equivoca en 6 casos (6+0) y acierta en 13 casos de los que nos interesa que son los fraudes. Además, vemos las métricas que evaluaremos:\n",
        "\n",
        "* recall = 0.68\n",
        "* f1-score = 0.81\n",
        "* roc_auc = 0.84\n",
        "\n",
        "Estos son valores muy deficientes para consideraese un buen predictor. Por lo tanto, probaremos con otros modelos para ver con cuál obtenemos mejores resultados.\n",
        "\n",
        "\n",
        "---\n",
        "\n",
        "IMPORTANTE:\n",
        "\n",
        "Recordar que estamos usando instancia que el modelo trae por defecto, por lo tanto deberíamos optimizar hiperparámetros a ver si obtenemos mejores resultados.\n",
        "\n",
        "No obstante, vamos a utilizar cada modelo con sus instancias por defecto y miraremos cuál arroja mejor resultado, y con ese modelo entonces realizaremos la optimización de hiperparámetros.\n",
        "\n",
        "\n",
        "---\n",
        "\n"
      ]
    },
    {
      "cell_type": "markdown",
      "metadata": {
        "id": "ZIUeqzGOtI9X"
      },
      "source": [
        "Creamos la matriz de confusión en un gráfico de calor para tener una imagen visual más clara de los resultados de las predicciones del modelo"
      ]
    },
    {
      "cell_type": "code",
      "metadata": {
        "colab": {
          "base_uri": "https://localhost:8080/",
          "height": 376
        },
        "id": "wedN7Yzzsn9S",
        "outputId": "3fe52d68-f614-41ef-9ac0-4402942fc397"
      },
      "source": [
        "# Confusion Matrix\n",
        "\n",
        "# Crea la matriz de confusión\n",
        "lr_matrix = confusion_matrix(y_test, log_reg.predict(X_test))\n",
        "\n",
        "# Crea el gráfico - mapa de calor (heatmap)\n",
        "ax = plt.subplot()\n",
        "sb.heatmap(lr_matrix, annot=True, ax = ax, fmt='0.4g', cmap='Blues'); #annot=True to annotate cells\n",
        "\n",
        "# Coloca tiítulos y etiquetas (labels, title and ticks)\n",
        "ax.set_title('Confusion Matrix - Logistic Regression');\n",
        "ax.set_xlabel('Predicted labels');ax.set_ylabel('True labels'); \n",
        "ax.xaxis.set_ticklabels(['No anu', 'Anulada']); ax.yaxis.set_ticklabels(['No anu', 'Anulada']);"
      ],
      "execution_count": 152,
      "outputs": [
        {
          "output_type": "display_data",
          "data": {
            "image/png": "[encoded data removed]",
            "text/plain": [
              "<Figure size 576x396 with 2 Axes>"
            ]
          },
          "metadata": {}
        }
      ]
    },
    {
      "cell_type": "markdown",
      "metadata": {
        "id": "vPr5VKq0t4T9"
      },
      "source": [
        "# 2) KNN Classifier\n",
        "\n",
        "---"
      ]
    },
    {
      "cell_type": "code",
      "metadata": {
        "colab": {
          "base_uri": "https://localhost:8080/"
        },
        "id": "hie2MQGTt75c",
        "outputId": "e26ecac0-321f-4928-8f71-f4c06407e45f"
      },
      "source": [
        "#1 Importando el modelo\n",
        "from sklearn.neighbors import KNeighborsClassifier\n",
        "\n",
        "#2 Definiendo la instancia del modelo\n",
        "knn = KNeighborsClassifier()\n",
        "\n",
        "#3 Entrenando el modelo\n",
        "knn.fit(X_train, y_train)"
      ],
      "execution_count": 159,
      "outputs": [
        {
          "output_type": "execute_result",
          "data": {
            "text/plain": [
              "KNeighborsClassifier(algorithm='auto', leaf_size=30, metric='minkowski',\n",
              "                     metric_params=None, n_jobs=None, n_neighbors=5, p=2,\n",
              "                     weights='uniform')"
            ]
          },
          "metadata": {},
          "execution_count": 159
        }
      ]
    },
    {
      "cell_type": "code",
      "metadata": {
        "colab": {
          "base_uri": "https://localhost:8080/"
        },
        "id": "HbK2Q4P1vPxa",
        "outputId": "db3ad69e-5c2a-4885-836d-50b9426eac1c"
      },
      "source": [
        "#4 Evaluando el desempeño del modelo\n",
        "print(classification_report(y_test, knn.predict(X_test)))"
      ],
      "execution_count": 162,
      "outputs": [
        {
          "output_type": "stream",
          "name": "stdout",
          "text": [
            "              precision    recall  f1-score   support\n",
            "\n",
            "           0       0.98      1.00      0.99       211\n",
            "           1       0.93      0.74      0.82        19\n",
            "\n",
            "    accuracy                           0.97       230\n",
            "   macro avg       0.96      0.87      0.90       230\n",
            "weighted avg       0.97      0.97      0.97       230\n",
            "\n"
          ]
        }
      ]
    },
    {
      "cell_type": "markdown",
      "metadata": {
        "id": "sl6QdBbdwK1C"
      },
      "source": [
        "\n",
        "\n",
        "---\n",
        "\n",
        "\n",
        "* recall = 0.74\n",
        "* f1-score = 0.82\n",
        "* roc_auc = 0.87\n",
        "\n",
        "Estos son valores mejoran un poco respecto al modelo con regresión logística, sin embargo siguen siendo niveles muy deficientes para consideraese un buen predictor."
      ]
    },
    {
      "cell_type": "code",
      "metadata": {
        "colab": {
          "base_uri": "https://localhost:8080/",
          "height": 376
        },
        "id": "NjTB27gauya1",
        "outputId": "8f9aac04-04ea-4fed-975f-c8510028d223"
      },
      "source": [
        "# Confusion Matrix\n",
        "\n",
        "# Crea la matriz de confusión\n",
        "knn_matrix = confusion_matrix(y_test, knn.predict(X_test))\n",
        "\n",
        "# Crea el gráfico - mapa de calor (heatmap)\n",
        "ax = plt.subplot()\n",
        "sb.heatmap(knn_matrix, annot=True, ax = ax, fmt='0.4g', cmap='Blues'); #annot=True to annotate cells\n",
        "\n",
        "# Coloca tiítulos y etiquetas (labels, title and ticks)\n",
        "ax.set_title('Confusion Matrix - KNN Classifier');\n",
        "ax.set_xlabel('Predicted labels');ax.set_ylabel('True labels'); \n",
        "ax.xaxis.set_ticklabels(['No anu', 'Anulada']); ax.yaxis.set_ticklabels(['No anu', 'Anulada']);"
      ],
      "execution_count": 160,
      "outputs": [
        {
          "output_type": "display_data",
          "data": {
            "image/png": "[encoded data removed]",
            "text/plain": [
              "<Figure size 576x396 with 2 Axes>"
            ]
          },
          "metadata": {}
        }
      ]
    },
    {
      "cell_type": "markdown",
      "metadata": {
        "id": "E7OXI6fovtLi"
      },
      "source": [
        "Podemos ver en la matriz anterior que el modelo acierta en 14 casos de los que nos interesa que son las pólizas anuladas, un caso más que el modelo anterior, lo cual es positivo.\n",
        "\n",
        "Sin embargo, a pesar de que se equivoca en 6 casos igual que el modelo anterior, este modelo genera más ruido en sus predicciones ya que se equivoca de 2 maneras:\n",
        "\n",
        "1.   No logra identificar 5 casos que son anulaciones reales.\n",
        "2.   Identifica un 1 caso como anulación que en realidad no lo es.\n",
        "\n",
        "El modelo anterior (regresión logística) se equivoca 6 casos pero comote 1 tipo de error.\n",
        "\n",
        "Este modelo (knn) se equivoca igual en 6 casos pero comte 2 tipos de errores."
      ]
    },
    {
      "cell_type": "markdown",
      "metadata": {
        "id": "1d0P1buczHBB"
      },
      "source": [
        "# 3) Random Forest\n",
        "\n",
        "---\n"
      ]
    },
    {
      "cell_type": "code",
      "metadata": {
        "colab": {
          "base_uri": "https://localhost:8080/"
        },
        "id": "N7aDBVLKwFQu",
        "outputId": "6daf0084-1bb7-456b-d89b-c10369de9bd7"
      },
      "source": [
        "#1 Importando el modelo\n",
        "from sklearn.ensemble import RandomForestClassifier\n",
        "\n",
        "#2 Definiendo la instancia del modelo\n",
        "clf = RandomForestClassifier(oob_score=True, random_state=1)\n",
        "\n",
        "#3 Entrenando el modelo\n",
        "clf.fit(X_train, y_train)"
      ],
      "execution_count": 163,
      "outputs": [
        {
          "output_type": "execute_result",
          "data": {
            "text/plain": [
              "RandomForestClassifier(bootstrap=True, ccp_alpha=0.0, class_weight=None,\n",
              "                       criterion='gini', max_depth=None, max_features='auto',\n",
              "                       max_leaf_nodes=None, max_samples=None,\n",
              "                       min_impurity_decrease=0.0, min_impurity_split=None,\n",
              "                       min_samples_leaf=1, min_samples_split=2,\n",
              "                       min_weight_fraction_leaf=0.0, n_estimators=100,\n",
              "                       n_jobs=None, oob_score=True, random_state=1, verbose=0,\n",
              "                       warm_start=False)"
            ]
          },
          "metadata": {},
          "execution_count": 163
        }
      ]
    },
    {
      "cell_type": "code",
      "metadata": {
        "colab": {
          "base_uri": "https://localhost:8080/"
        },
        "id": "dapRtljUzUAd",
        "outputId": "0d6e7b12-d2fa-42de-a932-b29943dc2e5c"
      },
      "source": [
        "#4 Evaluando el desempeño del modelo\n",
        "print(classification_report(y_test, clf.predict(X_test)))"
      ],
      "execution_count": 164,
      "outputs": [
        {
          "output_type": "stream",
          "name": "stdout",
          "text": [
            "              precision    recall  f1-score   support\n",
            "\n",
            "           0       0.99      1.00      0.99       211\n",
            "           1       1.00      0.84      0.91        19\n",
            "\n",
            "    accuracy                           0.99       230\n",
            "   macro avg       0.99      0.92      0.95       230\n",
            "weighted avg       0.99      0.99      0.99       230\n",
            "\n"
          ]
        }
      ]
    },
    {
      "cell_type": "markdown",
      "metadata": {
        "id": "wAAxdCYJzfGB"
      },
      "source": [
        "---\n",
        "* recall = 0.84\n",
        "* f1-score = 0.91\n",
        "* roc_auc = 0.92\n",
        "\n",
        "Estos valores muestran una mejoría notable con respecto a los modelos anteriores.\n",
        "\n",
        "Veamos las predcciones con la matriz de confusión."
      ]
    },
    {
      "cell_type": "code",
      "metadata": {
        "colab": {
          "base_uri": "https://localhost:8080/",
          "height": 376
        },
        "id": "AfaA1b91zbCH",
        "outputId": "41a1cb0b-3cb3-48e8-f4bc-8cba495f5446"
      },
      "source": [
        "# Confusion Matrix\n",
        "\n",
        "# Crea la matriz de confusión\n",
        "clf_matrix = confusion_matrix(y_test, clf.predict(X_test))\n",
        "\n",
        "# Crea el gráfico - mapa de calor (heatmap)\n",
        "ax = plt.subplot()\n",
        "sb.heatmap(clf_matrix, annot=True, ax = ax, fmt='0.4g', cmap='Blues'); #annot=True to annotate cells\n",
        "\n",
        "# Coloca tiítulos y etiquetas (labels, title and ticks)\n",
        "ax.set_title('Confusion Matrix - Random Forest');\n",
        "ax.set_xlabel('Predicted labels');ax.set_ylabel('True labels'); \n",
        "ax.xaxis.set_ticklabels(['No anu', 'Anulada']); ax.yaxis.set_ticklabels(['No anu', 'Anulada']);"
      ],
      "execution_count": 165,
      "outputs": [
        {
          "output_type": "display_data",
          "data": {
            "image/png": "[encoded data removed]",
            "text/plain": [
              "<Figure size 576x396 with 2 Axes>"
            ]
          },
          "metadata": {}
        }
      ]
    },
    {
      "cell_type": "markdown",
      "metadata": {
        "id": "ZqLA5cVxz8Sj"
      },
      "source": [
        "Podemos ver en la matriz anterior que el modelo acierta en 16 casos y se equivoca sólo en 3 casos que son anulaciones reales y no los logra identificar todavía.\n",
        "\n",
        "Hasta ahora es el modelo con mejor desempeño.\n",
        "Sigamos probando otros modelos."
      ]
    },
    {
      "cell_type": "markdown",
      "metadata": {
        "id": "zJJ1F8Oo0eQb"
      },
      "source": [
        "# 4) GBC (Gradient Boosting Classifier)\n",
        "\n",
        "---"
      ]
    },
    {
      "cell_type": "code",
      "metadata": {
        "colab": {
          "base_uri": "https://localhost:8080/"
        },
        "id": "4W8rZiQdz7B9",
        "outputId": "1361972c-8d0c-4d19-b1f6-569b6e1c89bf"
      },
      "source": [
        "#1 Importando el modelo\n",
        "from sklearn.ensemble import GradientBoostingClassifier\n",
        "\n",
        "#2 Definiendo la instancia del modelo\n",
        "gbc = GradientBoostingClassifier()\n",
        "\n",
        "#3 Entrenando el modelo\n",
        "gbc.fit(X_train, y_train)"
      ],
      "execution_count": 166,
      "outputs": [
        {
          "output_type": "execute_result",
          "data": {
            "text/plain": [
              "GradientBoostingClassifier(ccp_alpha=0.0, criterion='friedman_mse', init=None,\n",
              "                           learning_rate=0.1, loss='deviance', max_depth=3,\n",
              "                           max_features=None, max_leaf_nodes=None,\n",
              "                           min_impurity_decrease=0.0, min_impurity_split=None,\n",
              "                           min_samples_leaf=1, min_samples_split=2,\n",
              "                           min_weight_fraction_leaf=0.0, n_estimators=100,\n",
              "                           n_iter_no_change=None, presort='deprecated',\n",
              "                           random_state=None, subsample=1.0, tol=0.0001,\n",
              "                           validation_fraction=0.1, verbose=0,\n",
              "                           warm_start=False)"
            ]
          },
          "metadata": {},
          "execution_count": 166
        }
      ]
    },
    {
      "cell_type": "code",
      "metadata": {
        "colab": {
          "base_uri": "https://localhost:8080/"
        },
        "id": "UIXdZjGy0lta",
        "outputId": "15240534-a1c5-4230-e770-e6cd83217be1"
      },
      "source": [
        "#4 Evaluando el desempeño del modelo\n",
        "print(classification_report(y_test, gbc.predict(X_test)))"
      ],
      "execution_count": 167,
      "outputs": [
        {
          "output_type": "stream",
          "name": "stdout",
          "text": [
            "              precision    recall  f1-score   support\n",
            "\n",
            "           0       0.99      1.00      0.99       211\n",
            "           1       1.00      0.84      0.91        19\n",
            "\n",
            "    accuracy                           0.99       230\n",
            "   macro avg       0.99      0.92      0.95       230\n",
            "weighted avg       0.99      0.99      0.99       230\n",
            "\n"
          ]
        }
      ]
    },
    {
      "cell_type": "markdown",
      "metadata": {
        "id": "ERjShATa0yJG"
      },
      "source": [
        "---\n",
        "* recall = 0.84\n",
        "* f1-score = 0.91\n",
        "* roc_auc = 0.92\n",
        "\n",
        "Estos valores son similares a los obtenidos con 'Random Forest'.\n",
        "\n",
        "Veamos las predcciones con la matriz de confusión."
      ]
    },
    {
      "cell_type": "code",
      "metadata": {
        "colab": {
          "base_uri": "https://localhost:8080/",
          "height": 376
        },
        "id": "BAlWHTL90qY6",
        "outputId": "57389d60-81a0-472f-bf3a-eafe67d6dda9"
      },
      "source": [
        "# Confusion Matrix\n",
        "\n",
        "# Crea la matriz de confusión\n",
        "gbc_matrix = confusion_matrix(y_test, gbc.predict(X_test))\n",
        "\n",
        "# Crea el gráfico - mapa de calor (heatmap)\n",
        "ax = plt.subplot()\n",
        "sb.heatmap(gbc_matrix, annot=True, ax = ax, fmt='0.4g', cmap='Blues'); #annot=True to annotate cells\n",
        "\n",
        "# Coloca tiítulos y etiquetas (labels, title and ticks)\n",
        "ax.set_title('Confusion Matrix - Gradient Boosting');\n",
        "ax.set_xlabel('Predicted labels');ax.set_ylabel('True labels'); \n",
        "ax.xaxis.set_ticklabels(['No anu', 'Anulada']); ax.yaxis.set_ticklabels(['No anu', 'Anulada']);"
      ],
      "execution_count": 168,
      "outputs": [
        {
          "output_type": "display_data",
          "data": {
            "image/png": "[encoded data removed]",
            "text/plain": [
              "<Figure size 576x396 with 2 Axes>"
            ]
          },
          "metadata": {}
        }
      ]
    },
    {
      "cell_type": "markdown",
      "metadata": {
        "id": "lyPqaVFH1Itw"
      },
      "source": [
        "Podemos ver en la matriz anterior que el modelo acierta en 16 casos y se equivoca sólo en 3 casos que son anulaciones reales y no los logra identificar.\n",
        "\n",
        "El desempeño es similar al que obtuvimos usando 'Random Forest'.\n",
        "Sigamos probando otros modelos."
      ]
    },
    {
      "cell_type": "markdown",
      "metadata": {
        "id": "Hs0mSmfx1Xew"
      },
      "source": [
        "# 5) LightGBM (Light Gradient Boosting Machine)\n",
        "\n",
        "---"
      ]
    },
    {
      "cell_type": "code",
      "metadata": {
        "colab": {
          "base_uri": "https://localhost:8080/"
        },
        "id": "cSVxqku31FLL",
        "outputId": "df447221-de3e-4ad1-80b8-e61898c4c547"
      },
      "source": [
        "#1 Importando el modelo\n",
        "from lightgbm import LGBMClassifier\n",
        "\n",
        "#2 Definiendo la instancia del modelo\n",
        "lgbm = LGBMClassifier()\n",
        "\n",
        "#3 Entrenando el modelo\n",
        "lgbm.fit(X_train, y_train)"
      ],
      "execution_count": 169,
      "outputs": [
        {
          "output_type": "execute_result",
          "data": {
            "text/plain": [
              "LGBMClassifier(boosting_type='gbdt', class_weight=None, colsample_bytree=1.0,\n",
              "               importance_type='split', learning_rate=0.1, max_depth=-1,\n",
              "               min_child_samples=20, min_child_weight=0.001, min_split_gain=0.0,\n",
              "               n_estimators=100, n_jobs=-1, num_leaves=31, objective=None,\n",
              "               random_state=None, reg_alpha=0.0, reg_lambda=0.0, silent=True,\n",
              "               subsample=1.0, subsample_for_bin=200000, subsample_freq=0)"
            ]
          },
          "metadata": {},
          "execution_count": 169
        }
      ]
    },
    {
      "cell_type": "code",
      "metadata": {
        "colab": {
          "base_uri": "https://localhost:8080/"
        },
        "id": "RHsdsloX1eWd",
        "outputId": "ce8c61ec-10eb-4e4a-d8bb-a0d3229f1e43"
      },
      "source": [
        "#4 Evaluando el desempeño del modelo\n",
        "print(classification_report(y_test, lgbm.predict(X_test)))"
      ],
      "execution_count": 170,
      "outputs": [
        {
          "output_type": "stream",
          "name": "stdout",
          "text": [
            "              precision    recall  f1-score   support\n",
            "\n",
            "           0       0.99      1.00      1.00       211\n",
            "           1       1.00      0.89      0.94        19\n",
            "\n",
            "    accuracy                           0.99       230\n",
            "   macro avg       1.00      0.95      0.97       230\n",
            "weighted avg       0.99      0.99      0.99       230\n",
            "\n"
          ]
        }
      ]
    },
    {
      "cell_type": "markdown",
      "metadata": {
        "id": "W90gonjA1k2o"
      },
      "source": [
        "---\n",
        "* recall = 0.89\n",
        "* f1-score = 0.94\n",
        "* roc_auc = 0.95\n",
        "\n",
        "Estos valores son mejores que los obtenidos con 'Random Forest' y 'GBC'.\n",
        "\n",
        "Veamos las predcciones con la matriz de confusión."
      ]
    },
    {
      "cell_type": "code",
      "metadata": {
        "colab": {
          "base_uri": "https://localhost:8080/",
          "height": 376
        },
        "id": "VQs42W651jc9",
        "outputId": "e1947a39-9fc0-476d-9de8-ac1727a9549f"
      },
      "source": [
        "# Confusion Matrix\n",
        "\n",
        "# Crea la matriz de confusión\n",
        "lgbm_matrix = confusion_matrix(y_test, lgbm.predict(X_test))\n",
        "\n",
        "# Crea el gráfico - mapa de calor (heatmap)\n",
        "ax = plt.subplot()\n",
        "sb.heatmap(lgbm_matrix, annot=True, ax = ax, fmt='0.4g', cmap='Blues'); #annot=True to annotate cells\n",
        "\n",
        "# Coloca tiítulos y etiquetas (labels, title and ticks)\n",
        "ax.set_title('Confusion Matrix - Light GBM');\n",
        "ax.set_xlabel('Predicted labels');ax.set_ylabel('True labels'); \n",
        "ax.xaxis.set_ticklabels(['No anu', 'Anulada']); ax.yaxis.set_ticklabels(['No anu', 'Anulada']);"
      ],
      "execution_count": 171,
      "outputs": [
        {
          "output_type": "display_data",
          "data": {
            "image/png": "[encoded data removed]",
            "text/plain": [
              "<Figure size 576x396 with 2 Axes>"
            ]
          },
          "metadata": {}
        }
      ]
    },
    {
      "cell_type": "markdown",
      "metadata": {
        "id": "-_CMRfAV2FGN"
      },
      "source": [
        "Podemos ver en la matriz anterior que el modelo acierta en 17 casos y se equivoca sólo en 2 casos de anulaciones efectivas que no logra identificar.\n",
        "\n",
        "Es el mejor modelo de los probados hasta ahora.\n",
        "Sigamos probando otros modelos."
      ]
    },
    {
      "cell_type": "markdown",
      "metadata": {
        "id": "DqDr_qLU2WDI"
      },
      "source": [
        "# 6) XGBoost\n",
        "\n",
        "---"
      ]
    },
    {
      "cell_type": "code",
      "metadata": {
        "colab": {
          "base_uri": "https://localhost:8080/"
        },
        "id": "0b9_i1Ku1_gI",
        "outputId": "1f5f3e00-86bd-40fa-d410-c272318e6e35"
      },
      "source": [
        "#1 Importando el modelo\n",
        "from xgboost import XGBClassifier\n",
        "\n",
        "#2 Definiendo la instancia del modelo\n",
        "xgb = XGBClassifier()\n",
        "\n",
        "#3 Entrenando el modelo\n",
        "xgb.fit(X_train, y_train)"
      ],
      "execution_count": 172,
      "outputs": [
        {
          "output_type": "execute_result",
          "data": {
            "text/plain": [
              "XGBClassifier(base_score=0.5, booster='gbtree', colsample_bylevel=1,\n",
              "              colsample_bynode=1, colsample_bytree=1, gamma=0,\n",
              "              learning_rate=0.1, max_delta_step=0, max_depth=3,\n",
              "              min_child_weight=1, missing=None, n_estimators=100, n_jobs=1,\n",
              "              nthread=None, objective='binary:logistic', random_state=0,\n",
              "              reg_alpha=0, reg_lambda=1, scale_pos_weight=1, seed=None,\n",
              "              silent=None, subsample=1, verbosity=1)"
            ]
          },
          "metadata": {},
          "execution_count": 172
        }
      ]
    },
    {
      "cell_type": "code",
      "metadata": {
        "colab": {
          "base_uri": "https://localhost:8080/"
        },
        "id": "EsOME5sD2npx",
        "outputId": "6522607c-70c8-453d-c55a-170fee1a1e44"
      },
      "source": [
        "#4 Evaluando el desempeño del modelo\n",
        "print(classification_report(y_test, xgb.predict(X_test)))"
      ],
      "execution_count": 173,
      "outputs": [
        {
          "output_type": "stream",
          "name": "stdout",
          "text": [
            "              precision    recall  f1-score   support\n",
            "\n",
            "           0       0.98      1.00      0.99       211\n",
            "           1       1.00      0.74      0.85        19\n",
            "\n",
            "    accuracy                           0.98       230\n",
            "   macro avg       0.99      0.87      0.92       230\n",
            "weighted avg       0.98      0.98      0.98       230\n",
            "\n"
          ]
        }
      ]
    },
    {
      "cell_type": "markdown",
      "metadata": {
        "id": "s4ThnO072yeq"
      },
      "source": [
        "---\n",
        "* recall = 0.74\n",
        "* f1-score = 0.85\n",
        "* roc_auc = 0.87\n",
        "\n",
        "Estos valores desmejoran mucho con respecto al modelo con 'Light GBM'.\n",
        "\n",
        "Veamos las predcciones con la matriz de confusión."
      ]
    },
    {
      "cell_type": "code",
      "metadata": {
        "colab": {
          "base_uri": "https://localhost:8080/",
          "height": 376
        },
        "id": "lZtCCpYS2uQJ",
        "outputId": "d8be8df3-1b68-4ae6-a29b-ec93c9a6fd23"
      },
      "source": [
        "# Confusion Matrix\n",
        "\n",
        "# Crea la matriz de confusión\n",
        "xgb_matrix = confusion_matrix(y_test, xgb.predict(X_test))\n",
        "\n",
        "# Crea el gráfico - mapa de calor (heatmap)\n",
        "ax = plt.subplot()\n",
        "sb.heatmap(xgb_matrix, annot=True, ax = ax, fmt='0.4g', cmap='Blues'); #annot=True to annotate cells\n",
        "\n",
        "# Coloca tiítulos y etiquetas (labels, title and ticks)\n",
        "ax.set_title('Confusion Matrix - XGBoost');\n",
        "ax.set_xlabel('Predicted labels');ax.set_ylabel('True labels'); \n",
        "ax.xaxis.set_ticklabels(['No anu', 'Anulada']); ax.yaxis.set_ticklabels(['No anu', 'Anulada']);"
      ],
      "execution_count": 174,
      "outputs": [
        {
          "output_type": "display_data",
          "data": {
            "image/png": "[encoded data removed]",
            "text/plain": [
              "<Figure size 576x396 with 2 Axes>"
            ]
          },
          "metadata": {}
        }
      ]
    },
    {
      "cell_type": "markdown",
      "metadata": {
        "id": "r_AeNRCo3KeZ"
      },
      "source": [
        "Podemos ver en la matriz anterior que el modelo acierta en 14 casos y se equivoca en 5 casos de anulaciones efectivas que no logra identificar.\n",
        "\n",
        "El mejor modelo sigue siendo el modelo con 'LightGBM'."
      ]
    },
    {
      "cell_type": "markdown",
      "metadata": {
        "id": "6yMyE8By3jsH"
      },
      "source": [
        "# Selección de Modelos a optimizar\n",
        "\n",
        "---\n",
        "Luego de haber probado varios modelos, obtuvimos los siguientes resultados:\n",
        "\n",
        "* 1) LogisticRegression  -->  recall = 0.68 y errores = 6 casos\n",
        "* 2) KNN Classifier      -->  recall = 0.74 y errores = 6 casos\n",
        "* 3) Random Forest       -->  recall = 0.84 y errores = 3 casos\n",
        "* 4) Gradient Boosting   -->  recall = 0.84 y errores = 3 casos\n",
        "* 5) Light GBM           -->  recall = 0.89 y errores = 2 casos  <------- Modelo a optimizar\n",
        "* 6) XGBoost:            -->  recall = 0.74 y errores = 5 casos\n",
        "\n",
        "Dados estos resultados, nos quedaremos con el modelo 'LightGBM' y pasaremos a la fase de optimizar sus hiperparámetros para ver si mejora su capacidad predictiva."
      ]
    },
    {
      "cell_type": "markdown",
      "metadata": {
        "id": "_-yc4grO5yUN"
      },
      "source": [
        "# Optimización de Hiperparámetros (LightGBM)"
      ]
    },
    {
      "cell_type": "markdown",
      "metadata": {
        "id": "uX-JpLP46EuL"
      },
      "source": [
        "En el primer ejercicio con este modelo 'n_estimator'=5, ahora probaremos con una alternativa por encima y otra por debajo de este valor para evaluar cuál nos resulta mejor en este caso."
      ]
    },
    {
      "cell_type": "code",
      "metadata": {
        "id": "6teH25uq6rOI"
      },
      "source": [
        "# El siguiente código se obtuvo de la siguiente fuente mencionada a continuación:\n",
        "# y fue ajustado de acuerdo a las necesidades de este ejercicio:\n",
        "# https://www.cienciadedatos.net/"
      ],
      "execution_count": 177,
      "outputs": []
    },
    {
      "cell_type": "code",
      "metadata": {
        "id": "UtcNYbWr7NVh"
      },
      "source": [
        "# Importando librerías\n",
        "from sklearn.model_selection import cross_val_score\n",
        "from sklearn.model_selection import train_test_split\n",
        "from sklearn.model_selection import RepeatedKFold\n",
        "from sklearn.model_selection import KFold\n",
        "from sklearn.model_selection import GridSearchCV\n",
        "from sklearn.model_selection import ParameterGrid\n",
        "from sklearn.inspection import permutation_importance\n",
        "import multiprocessing"
      ],
      "execution_count": 178,
      "outputs": []
    },
    {
      "cell_type": "code",
      "metadata": {
        "id": "L99uhNt37qGU"
      },
      "source": [
        "X_train2 = pd.DataFrame(X_train)\n",
        "y_train2 = pd.DataFrame(y_train)"
      ],
      "execution_count": 179,
      "outputs": []
    },
    {
      "cell_type": "code",
      "metadata": {
        "id": "gaqhPDEl7o-E"
      },
      "source": [
        "# Crear conjunto de validación\n",
        "# ==============================================================================\n",
        "np.random.seed(123)\n",
        "idx_validacion = np.random.choice(\n",
        "                    X_train2.shape[0],\n",
        "                    size= int(X_train2.shape[0]*0.1),\n",
        "                    replace=False\n",
        "                 )\n",
        "\n",
        "X_val = X_train2.iloc[idx_validacion, :].copy()\n",
        "y_val = y_train2.iloc[idx_validacion].copy()\n",
        "\n",
        "X_train_grid = X_train2.reset_index(drop = True).drop(idx_validacion, axis = 0).copy()\n",
        "y_train_grid = y_train2.reset_index(drop = True).drop(idx_validacion, axis = 0).copy()"
      ],
      "execution_count": 180,
      "outputs": []
    },
    {
      "cell_type": "code",
      "metadata": {
        "colab": {
          "base_uri": "https://localhost:8080/"
        },
        "id": "tRiPYqhK3IUE",
        "outputId": "16ee937f-c167-40a3-92ab-b81c3189db53"
      },
      "source": [
        "# Grid de hiperparámetros evaluados\n",
        "# ==============================================================================\n",
        "param_grid = {'n_estimators'     : [100, 500, 1000, 5000],\n",
        "              'max_depth'        : [-1, 1, 3, 5, 10, 20],\n",
        "              'subsample'        : [0.5, 1],\n",
        "              'learning_rate'    : [0.001, 0.01, 0.1],\n",
        "              'boosting_type'    : ['gbdt']\n",
        "             }\n",
        "\n",
        "# Búsqueda por grid search con validación cruzada\n",
        "# ==============================================================================\n",
        "grid = GridSearchCV(\n",
        "        estimator  = LGBMClassifier(random_state=123),\n",
        "        param_grid = param_grid,\n",
        "        scoring    = 'recall',\n",
        "        n_jobs     = multiprocessing.cpu_count() - 1,\n",
        "        cv         = RepeatedKFold(n_splits=3, n_repeats=1, random_state=123), \n",
        "        refit      = True,\n",
        "        verbose    = 0,\n",
        "        return_train_score = True\n",
        "       )\n",
        "\n",
        "grid.fit(X = X_train_grid, y = y_train_grid)"
      ],
      "execution_count": 181,
      "outputs": [
        {
          "output_type": "stream",
          "name": "stderr",
          "text": [
            "/usr/local/lib/python3.7/dist-packages/sklearn/preprocessing/_label.py:235: DataConversionWarning: A column-vector y was passed when a 1d array was expected. Please change the shape of y to (n_samples, ), for example using ravel().\n",
            "  y = column_or_1d(y, warn=True)\n",
            "/usr/local/lib/python3.7/dist-packages/sklearn/preprocessing/_label.py:268: DataConversionWarning: A column-vector y was passed when a 1d array was expected. Please change the shape of y to (n_samples, ), for example using ravel().\n",
            "  y = column_or_1d(y, warn=True)\n"
          ]
        },
        {
          "output_type": "execute_result",
          "data": {
            "text/plain": [
              "GridSearchCV(cv=RepeatedKFold(n_repeats=1, n_splits=3, random_state=123),\n",
              "             error_score=nan,\n",
              "             estimator=LGBMClassifier(boosting_type='gbdt', class_weight=None,\n",
              "                                      colsample_bytree=1.0,\n",
              "                                      importance_type='split',\n",
              "                                      learning_rate=0.1, max_depth=-1,\n",
              "                                      min_child_samples=20,\n",
              "                                      min_child_weight=0.001,\n",
              "                                      min_split_gain=0.0, n_estimators=100,\n",
              "                                      n_jobs=-1, num_leaves=31, objective=None,\n",
              "                                      rand...\n",
              "                                      reg_lambda=0.0, silent=True,\n",
              "                                      subsample=1.0, subsample_for_bin=200000,\n",
              "                                      subsample_freq=0),\n",
              "             iid='deprecated', n_jobs=1,\n",
              "             param_grid={'boosting_type': ['gbdt'],\n",
              "                         'learning_rate': [0.001, 0.01, 0.1],\n",
              "                         'max_depth': [-1, 1, 3, 5, 10, 20],\n",
              "                         'n_estimators': [100, 500, 1000, 5000],\n",
              "                         'subsample': [0.5, 1]},\n",
              "             pre_dispatch='2*n_jobs', refit=True, return_train_score=True,\n",
              "             scoring='recall', verbose=0)"
            ]
          },
          "metadata": {},
          "execution_count": 181
        }
      ]
    },
    {
      "cell_type": "code",
      "metadata": {
        "colab": {
          "base_uri": "https://localhost:8080/"
        },
        "id": "uf1wKnXl8sBB",
        "outputId": "7b34837c-7c7a-4d48-8dae-65a75d6f983a"
      },
      "source": [
        "# Mejores hiperparámetros por validación cruzada\n",
        "# ==============================================================================\n",
        "print(\"----------------------------------------\")\n",
        "print(\"Mejores hiperparámetros encontrados (cv)\")\n",
        "print(\"----------------------------------------\")\n",
        "print(grid.best_params_, \":\", grid.best_score_, grid.scoring)"
      ],
      "execution_count": 182,
      "outputs": [
        {
          "output_type": "stream",
          "name": "stdout",
          "text": [
            "----------------------------------------\n",
            "Mejores hiperparámetros encontrados (cv)\n",
            "----------------------------------------\n",
            "{'boosting_type': 'gbdt', 'learning_rate': 0.01, 'max_depth': 5, 'n_estimators': 5000, 'subsample': 0.5} : 0.5702075702075703 recall\n"
          ]
        }
      ]
    },
    {
      "cell_type": "code",
      "metadata": {
        "id": "195zl1iJ8xKS"
      },
      "source": [
        "# Error de test del modelo final\n",
        "# ==============================================================================\n",
        "modelo_final = grid.best_estimator_\n",
        "predicciones = modelo_final.predict(X = X_test,)"
      ],
      "execution_count": 183,
      "outputs": []
    },
    {
      "cell_type": "code",
      "metadata": {
        "colab": {
          "base_uri": "https://localhost:8080/"
        },
        "id": "7AnPONQs86PA",
        "outputId": "40aad7aa-b412-469c-a60f-e2475b868f68"
      },
      "source": [
        "#4 Evaluando el desempeño del modelo\n",
        "print(classification_report(y_test, modelo_final.predict(X_test)))"
      ],
      "execution_count": 184,
      "outputs": [
        {
          "output_type": "stream",
          "name": "stdout",
          "text": [
            "              precision    recall  f1-score   support\n",
            "\n",
            "           0       1.00      1.00      1.00       211\n",
            "           1       1.00      1.00      1.00        19\n",
            "\n",
            "    accuracy                           1.00       230\n",
            "   macro avg       1.00      1.00      1.00       230\n",
            "weighted avg       1.00      1.00      1.00       230\n",
            "\n"
          ]
        }
      ]
    },
    {
      "cell_type": "markdown",
      "metadata": {
        "id": "DdsdFDzo9TPW"
      },
      "source": [
        "---\n",
        "* recall = 1.0\n",
        "* f1-score = 1.0\n",
        "* roc_auc = 1.0\n",
        "\n",
        "Estos valores muestran que el modelo con los hiperparámetros optimizados tiene un desempeño perfecto.\n",
        "\n",
        "Veamos las predcciones con la matriz de confusión."
      ]
    },
    {
      "cell_type": "code",
      "metadata": {
        "colab": {
          "base_uri": "https://localhost:8080/",
          "height": 376
        },
        "id": "-yuUhhGY9Nkg",
        "outputId": "58c2cfe3-f11b-4ee6-9f9b-fec9cd61591f"
      },
      "source": [
        "# Confusion Matrix\n",
        "\n",
        "# Crea la matriz de confusión\n",
        "matrix_final = confusion_matrix(y_test, modelo_final.predict(X_test))\n",
        "\n",
        "# Crea el gráfico - mapa de calor (heatmap)\n",
        "ax = plt.subplot()\n",
        "sb.heatmap(matrix_final, annot=True, ax = ax, fmt='0.4g', cmap='Blues'); #annot=True to annotate cells\n",
        "\n",
        "# Coloca tiítulos y etiquetas (labels, title and ticks)\n",
        "ax.set_title('Confusion Matrix - LightGBM (Optimizado)');\n",
        "ax.set_xlabel('Predicted labels');ax.set_ylabel('True labels'); \n",
        "ax.xaxis.set_ticklabels(['No anu', 'Anulada']); ax.yaxis.set_ticklabels(['No anu', 'Anulada']);"
      ],
      "execution_count": 185,
      "outputs": [
        {
          "output_type": "display_data",
          "data": {
            "image/png": "[encoded data removed]",
            "text/plain": [
              "<Figure size 576x396 with 2 Axes>"
            ]
          },
          "metadata": {}
        }
      ]
    },
    {
      "cell_type": "markdown",
      "metadata": {
        "id": "H5rKI5YY95j9"
      },
      "source": [
        "En la matriz anterior podemos ver que el modelo logra identificar correctamente todos los casos de anulaciones, por lo tanto tenemos un modelo con un poder predictivo perfecto."
      ]
    },
    {
      "cell_type": "markdown",
      "metadata": {
        "id": "zKBbbZbV-Rc2"
      },
      "source": [
        "# Importancia de los predictores"
      ]
    },
    {
      "cell_type": "code",
      "metadata": {
        "id": "00uoHDKv_hNw"
      },
      "source": [
        "# Generamos de nuevo la partición ya que trabajamos con la matriz 'X_train' escalada y ésta\n",
        "# No tiene los nombres de las columnas por ser un arreglo numpy.\n",
        "# Podemos generarla de nuevo con la misma sentencia y obtener los mismos resultados\n",
        "# manteniendo el mismo 'random_state'\n",
        "X_train, X_test, y_train, y_test =train_test_split(X,\n",
        "                                                   y,\n",
        "                                                   test_size=0.3, \n",
        "                                                   random_state=0, \n",
        "                                                   stratify=y)"
      ],
      "execution_count": 208,
      "outputs": []
    },
    {
      "cell_type": "code",
      "metadata": {
        "colab": {
          "base_uri": "https://localhost:8080/",
          "height": 463
        },
        "id": "wTnz2u6O9zJg",
        "outputId": "09e12d93-9beb-4489-9e17-92c626418914"
      },
      "source": [
        "importancia_predictores = pd.DataFrame(\n",
        "                            {'predictor': X_train.columns,\n",
        "                             'importancia': modelo_final.feature_importances_}\n",
        "                            )\n",
        "print(\"Importancia de los predictores en el modelo\")\n",
        "print(\"-------------------------------------------\")\n",
        "importancia_predictores.sort_values('importancia', ascending=False)"
      ],
      "execution_count": 210,
      "outputs": [
        {
          "output_type": "stream",
          "name": "stdout",
          "text": [
            "Importancia de los predictores en el modelo\n",
            "-------------------------------------------\n"
          ]
        },
        {
          "output_type": "execute_result",
          "data": {
            "text/html": [
              "<div>\n",
              "<style scoped>\n",
              "    .dataframe tbody tr th:only-of-type {\n",
              "        vertical-align: middle;\n",
              "    }\n",
              "\n",
              "    .dataframe tbody tr th {\n",
              "        vertical-align: top;\n",
              "    }\n",
              "\n",
              "    .dataframe thead th {\n",
              "        text-align: right;\n",
              "    }\n",
              "</style>\n",
              "<table border=\"1\" class=\"dataframe\">\n",
              "  <thead>\n",
              "    <tr style=\"text-align: right;\">\n",
              "      <th></th>\n",
              "      <th>predictor</th>\n",
              "      <th>importancia</th>\n",
              "    </tr>\n",
              "  </thead>\n",
              "  <tbody>\n",
              "    <tr>\n",
              "      <th>3</th>\n",
              "      <td>sa_crc</td>\n",
              "      <td>8817</td>\n",
              "    </tr>\n",
              "    <tr>\n",
              "      <th>8</th>\n",
              "      <td>ModeloLabel</td>\n",
              "      <td>7004</td>\n",
              "    </tr>\n",
              "    <tr>\n",
              "      <th>2</th>\n",
              "      <td>prima_crc</td>\n",
              "      <td>5033</td>\n",
              "    </tr>\n",
              "    <tr>\n",
              "      <th>0</th>\n",
              "      <td>ano</td>\n",
              "      <td>4126</td>\n",
              "    </tr>\n",
              "    <tr>\n",
              "      <th>7</th>\n",
              "      <td>MarcaLabel</td>\n",
              "      <td>2872</td>\n",
              "    </tr>\n",
              "    <tr>\n",
              "      <th>11</th>\n",
              "      <td>EmiLabel</td>\n",
              "      <td>1186</td>\n",
              "    </tr>\n",
              "    <tr>\n",
              "      <th>5</th>\n",
              "      <td>monto_sin_crc</td>\n",
              "      <td>998</td>\n",
              "    </tr>\n",
              "    <tr>\n",
              "      <th>1</th>\n",
              "      <td>mon</td>\n",
              "      <td>430</td>\n",
              "    </tr>\n",
              "    <tr>\n",
              "      <th>10</th>\n",
              "      <td>VehLabel</td>\n",
              "      <td>187</td>\n",
              "    </tr>\n",
              "    <tr>\n",
              "      <th>4</th>\n",
              "      <td>sini</td>\n",
              "      <td>41</td>\n",
              "    </tr>\n",
              "    <tr>\n",
              "      <th>6</th>\n",
              "      <td>anual</td>\n",
              "      <td>36</td>\n",
              "    </tr>\n",
              "    <tr>\n",
              "      <th>9</th>\n",
              "      <td>UsoLabel</td>\n",
              "      <td>0</td>\n",
              "    </tr>\n",
              "  </tbody>\n",
              "</table>\n",
              "</div>"
            ],
            "text/plain": [
              "        predictor  importancia\n",
              "3          sa_crc         8817\n",
              "8     ModeloLabel         7004\n",
              "2       prima_crc         5033\n",
              "0             ano         4126\n",
              "7      MarcaLabel         2872\n",
              "11       EmiLabel         1186\n",
              "5   monto_sin_crc          998\n",
              "1             mon          430\n",
              "10       VehLabel          187\n",
              "4            sini           41\n",
              "6           anual           36\n",
              "9        UsoLabel            0"
            ]
          },
          "metadata": {},
          "execution_count": 210
        }
      ]
    },
    {
      "cell_type": "markdown",
      "metadata": {
        "id": "8nn-x8vYGRHp"
      },
      "source": [
        "Acá observamos que los predictores más importantes en este algoritmo son: el monto del vehículo (sa_crc), el modelo (ModeloLabel) y la prima de la póliza (prima_crc). Además vemos que la variable que creamos 'anual' no tuvo mayor peso para el algoritmo, por lo tanto nuestra presunción de que la duración de la póliza podría influir en la anulación no era correcta."
      ]
    }
  ]
}