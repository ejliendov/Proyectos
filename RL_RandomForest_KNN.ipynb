{
  "nbformat": 4,
  "nbformat_minor": 0,
  "metadata": {
    "colab": {
      "name": "RL_RandomForest_KNN.ipynb",
      "provenance": [],
      "collapsed_sections": [],
      "toc_visible": true
    },
    "kernelspec": {
      "name": "python3",
      "display_name": "Python 3"
    },
    "language_info": {
      "name": "python"
    }
  },
  "cells": [
    {
      "cell_type": "markdown",
      "metadata": {
        "id": "R-it1GJHEMZc"
      },
      "source": [
        "# Importando librerías"
      ]
    },
    {
      "cell_type": "code",
      "metadata": {
        "id": "YRjYYBOhhz5R"
      },
      "source": [
        "import matplotlib.pyplot as plt\n",
        "import pandas as pd\n",
        "import numpy as np\n",
        "import seaborn as sb\n",
        "from sklearn.datasets import load_breast_cancer\n",
        "from sklearn.model_selection import train_test_split\n",
        "# Importar árboles de ensacado y clasificadores de bosques aleatorios\n",
        "from sklearn.ensemble import BaggingRegressor\n",
        "from sklearn.ensemble import RandomForestRegressor\n",
        "from sklearn.linear_model import LogisticRegression\n",
        "from sklearn.preprocessing import StandardScaler"
      ],
      "execution_count": 137,
      "outputs": []
    },
    {
      "cell_type": "markdown",
      "metadata": {
        "id": "6A0nJc5XERvU"
      },
      "source": [
        "# Cargando el dataset"
      ]
    },
    {
      "cell_type": "code",
      "metadata": {
        "id": "98pjSrprie1N"
      },
      "source": [
        "col_names = ['Class label', 'Alcohol', 'Malic acid', 'Ash', 'Alcalinity of ash', 'Magnesium', 'Total phenols',\n",
        "'Flavanoids', 'Nonflavanoid phenols', 'Proanthocyanins','Color intensity', 'Hue', 'OD280/OD315 of diluted wines',\n",
        "'Proline']"
      ],
      "execution_count": 138,
      "outputs": []
    },
    {
      "cell_type": "code",
      "metadata": {
        "colab": {
          "base_uri": "https://localhost:8080/",
          "height": 261
        },
        "id": "TPT5OQZagTQs",
        "outputId": "ba2c602c-dbc3-41d5-8330-75c7636fe927"
      },
      "source": [
        "# Otra forma de cargar los datos cuando están en un enlace público\n",
        "df = pd.read_csv('https://archive.ics.uci.edu/ml/machine-learning-databases/wine/wine.data', \n",
        "                  header = None, names = col_names)\n",
        "df.head()"
      ],
      "execution_count": 139,
      "outputs": [
        {
          "output_type": "execute_result",
          "data": {
            "text/html": [
              "<div>\n",
              "<style scoped>\n",
              "    .dataframe tbody tr th:only-of-type {\n",
              "        vertical-align: middle;\n",
              "    }\n",
              "\n",
              "    .dataframe tbody tr th {\n",
              "        vertical-align: top;\n",
              "    }\n",
              "\n",
              "    .dataframe thead th {\n",
              "        text-align: right;\n",
              "    }\n",
              "</style>\n",
              "<table border=\"1\" class=\"dataframe\">\n",
              "  <thead>\n",
              "    <tr style=\"text-align: right;\">\n",
              "      <th></th>\n",
              "      <th>Class label</th>\n",
              "      <th>Alcohol</th>\n",
              "      <th>Malic acid</th>\n",
              "      <th>Ash</th>\n",
              "      <th>Alcalinity of ash</th>\n",
              "      <th>Magnesium</th>\n",
              "      <th>Total phenols</th>\n",
              "      <th>Flavanoids</th>\n",
              "      <th>Nonflavanoid phenols</th>\n",
              "      <th>Proanthocyanins</th>\n",
              "      <th>Color intensity</th>\n",
              "      <th>Hue</th>\n",
              "      <th>OD280/OD315 of diluted wines</th>\n",
              "      <th>Proline</th>\n",
              "    </tr>\n",
              "  </thead>\n",
              "  <tbody>\n",
              "    <tr>\n",
              "      <th>0</th>\n",
              "      <td>1</td>\n",
              "      <td>14.23</td>\n",
              "      <td>1.71</td>\n",
              "      <td>2.43</td>\n",
              "      <td>15.6</td>\n",
              "      <td>127</td>\n",
              "      <td>2.80</td>\n",
              "      <td>3.06</td>\n",
              "      <td>0.28</td>\n",
              "      <td>2.29</td>\n",
              "      <td>5.64</td>\n",
              "      <td>1.04</td>\n",
              "      <td>3.92</td>\n",
              "      <td>1065</td>\n",
              "    </tr>\n",
              "    <tr>\n",
              "      <th>1</th>\n",
              "      <td>1</td>\n",
              "      <td>13.20</td>\n",
              "      <td>1.78</td>\n",
              "      <td>2.14</td>\n",
              "      <td>11.2</td>\n",
              "      <td>100</td>\n",
              "      <td>2.65</td>\n",
              "      <td>2.76</td>\n",
              "      <td>0.26</td>\n",
              "      <td>1.28</td>\n",
              "      <td>4.38</td>\n",
              "      <td>1.05</td>\n",
              "      <td>3.40</td>\n",
              "      <td>1050</td>\n",
              "    </tr>\n",
              "    <tr>\n",
              "      <th>2</th>\n",
              "      <td>1</td>\n",
              "      <td>13.16</td>\n",
              "      <td>2.36</td>\n",
              "      <td>2.67</td>\n",
              "      <td>18.6</td>\n",
              "      <td>101</td>\n",
              "      <td>2.80</td>\n",
              "      <td>3.24</td>\n",
              "      <td>0.30</td>\n",
              "      <td>2.81</td>\n",
              "      <td>5.68</td>\n",
              "      <td>1.03</td>\n",
              "      <td>3.17</td>\n",
              "      <td>1185</td>\n",
              "    </tr>\n",
              "    <tr>\n",
              "      <th>3</th>\n",
              "      <td>1</td>\n",
              "      <td>14.37</td>\n",
              "      <td>1.95</td>\n",
              "      <td>2.50</td>\n",
              "      <td>16.8</td>\n",
              "      <td>113</td>\n",
              "      <td>3.85</td>\n",
              "      <td>3.49</td>\n",
              "      <td>0.24</td>\n",
              "      <td>2.18</td>\n",
              "      <td>7.80</td>\n",
              "      <td>0.86</td>\n",
              "      <td>3.45</td>\n",
              "      <td>1480</td>\n",
              "    </tr>\n",
              "    <tr>\n",
              "      <th>4</th>\n",
              "      <td>1</td>\n",
              "      <td>13.24</td>\n",
              "      <td>2.59</td>\n",
              "      <td>2.87</td>\n",
              "      <td>21.0</td>\n",
              "      <td>118</td>\n",
              "      <td>2.80</td>\n",
              "      <td>2.69</td>\n",
              "      <td>0.39</td>\n",
              "      <td>1.82</td>\n",
              "      <td>4.32</td>\n",
              "      <td>1.04</td>\n",
              "      <td>2.93</td>\n",
              "      <td>735</td>\n",
              "    </tr>\n",
              "  </tbody>\n",
              "</table>\n",
              "</div>"
            ],
            "text/plain": [
              "   Class label  Alcohol  ...  OD280/OD315 of diluted wines  Proline\n",
              "0            1    14.23  ...                          3.92     1065\n",
              "1            1    13.20  ...                          3.40     1050\n",
              "2            1    13.16  ...                          3.17     1185\n",
              "3            1    14.37  ...                          3.45     1480\n",
              "4            1    13.24  ...                          2.93      735\n",
              "\n",
              "[5 rows x 14 columns]"
            ]
          },
          "metadata": {},
          "execution_count": 139
        }
      ]
    },
    {
      "cell_type": "markdown",
      "metadata": {
        "id": "8kgE5lA_XXGm"
      },
      "source": [
        "# Explorando el dataset"
      ]
    },
    {
      "cell_type": "code",
      "metadata": {
        "colab": {
          "base_uri": "https://localhost:8080/"
        },
        "id": "VONOpwmedYwi",
        "outputId": "52c34d1c-95f1-4e14-91e4-a33817707a19"
      },
      "source": [
        "# Imprimir cuántas clases\n",
        "print('Class labels', np.unique(df['Class label']))"
      ],
      "execution_count": 140,
      "outputs": [
        {
          "output_type": "stream",
          "name": "stdout",
          "text": [
            "Class labels [1 2 3]\n"
          ]
        }
      ]
    },
    {
      "cell_type": "code",
      "metadata": {
        "colab": {
          "base_uri": "https://localhost:8080/"
        },
        "id": "0C6rnJb-deV4",
        "outputId": "53742dce-423a-44f7-8278-541fba16b065"
      },
      "source": [
        "# Las clases no están equilibradas\n",
        "df['Class label'].value_counts(dropna = False)"
      ],
      "execution_count": 141,
      "outputs": [
        {
          "output_type": "execute_result",
          "data": {
            "text/plain": [
              "2    71\n",
              "1    59\n",
              "3    48\n",
              "Name: Class label, dtype: int64"
            ]
          },
          "metadata": {},
          "execution_count": 141
        }
      ]
    },
    {
      "cell_type": "markdown",
      "metadata": {
        "id": "dKeTnkmjXf6D"
      },
      "source": [
        "# Dividiendo el dataset en 'trainning' y 'test'"
      ]
    },
    {
      "cell_type": "code",
      "metadata": {
        "id": "ZQL4OsTFdmOQ"
      },
      "source": [
        "# Organizar los datos en la matriz de características y el vector de destino\n",
        "X = df.loc[:, df.columns[(df.columns != 'Class label')]]\n",
        "y = df.loc[:, 'Class label'].values"
      ],
      "execution_count": 142,
      "outputs": []
    },
    {
      "cell_type": "code",
      "metadata": {
        "id": "2OVhzlKfdvpR"
      },
      "source": [
        "# Dividir en conjuntos de prueba y entrenamiento\n",
        "# Proporcionar la matriz de etiquetas de clase y como argumento para estratificar asegura a ambos\n",
        "# el conjunto de entrenamiento y los conjuntos de datos de prueba tienen las mismas proporciones de clase que el\n",
        "# conjunto de datos original\n",
        "X_train, X_test, y_train, y_test =train_test_split(X,\n",
        "                                                   y,\n",
        "                                                   test_size=0.3, \n",
        "                                                   random_state=0, \n",
        "                                                   stratify=y)"
      ],
      "execution_count": 143,
      "outputs": []
    },
    {
      "cell_type": "code",
      "metadata": {
        "colab": {
          "base_uri": "https://localhost:8080/"
        },
        "id": "QZBcWSmkd3kM",
        "outputId": "35f084ce-c270-402a-9148-e790c35b16e9"
      },
      "source": [
        "unique, counts = np.unique(y_train, return_counts=True)\n",
        "dict(zip(unique, counts))"
      ],
      "execution_count": 144,
      "outputs": [
        {
          "output_type": "execute_result",
          "data": {
            "text/plain": [
              "{1: 41, 2: 50, 3: 33}"
            ]
          },
          "metadata": {},
          "execution_count": 144
        }
      ]
    },
    {
      "cell_type": "markdown",
      "metadata": {
        "id": "UYbZXOf_Xxni"
      },
      "source": [
        "# Estandarizando los datos"
      ]
    },
    {
      "cell_type": "code",
      "metadata": {
        "id": "Iu-bCu_4d56r"
      },
      "source": [
        "# Estandarizar datos\n",
        "scaler = StandardScaler()\n",
        "# Ajustar solo al conjunto de entrenamiento\n",
        "scaler.fit(X_train)\n",
        "# Aplicar  transform tanto al conjunto de entrenamiento como al conjunto de prueba\n",
        "X_train = scaler.transform(X_train)\n",
        "X_test = scaler.transform(X_test)"
      ],
      "execution_count": 145,
      "outputs": []
    },
    {
      "cell_type": "markdown",
      "metadata": {
        "id": "UHX_dHbhXTgR"
      },
      "source": [
        "# 1) Regresión Logística: One vs All"
      ]
    },
    {
      "cell_type": "code",
      "metadata": {
        "id": "KKudjNZfYo4j"
      },
      "source": [
        "from sklearn.multiclass import OneVsRestClassifier"
      ],
      "execution_count": 146,
      "outputs": []
    },
    {
      "cell_type": "markdown",
      "metadata": {
        "id": "aJkRd1U8o8d3"
      },
      "source": [
        "Definiendo el modelo para L1 y L2"
      ]
    },
    {
      "cell_type": "code",
      "metadata": {
        "id": "htFdhdafb2xe"
      },
      "source": [
        "# Definiendo el modelo para L1 y L2\n",
        "model_l1 = LogisticRegression(penalty='l1', C=1.0, solver='liblinear', random_state=1)\n",
        "model_l2 = LogisticRegression(penalty='l2', C=1.0, solver='liblinear', random_state=1)"
      ],
      "execution_count": 147,
      "outputs": []
    },
    {
      "cell_type": "code",
      "metadata": {
        "id": "qlFJe7ILceus"
      },
      "source": [
        "ovr_l1 = OneVsRestClassifier(model_l1)\n",
        "ovr_l2 = OneVsRestClassifier(model_l2)"
      ],
      "execution_count": 148,
      "outputs": []
    },
    {
      "cell_type": "markdown",
      "metadata": {
        "id": "hT2hNevfoyIy"
      },
      "source": [
        "Entrenando los modelos"
      ]
    },
    {
      "cell_type": "code",
      "metadata": {
        "colab": {
          "base_uri": "https://localhost:8080/"
        },
        "id": "gvyniumwc57Q",
        "outputId": "8c5cb154-285a-44ab-ac79-5dffa3f81528"
      },
      "source": [
        "# Entrenando los modelos\n",
        "ovr_l1.fit(X_train, y_train)\n",
        "print('Training accuracy:', ovr_l1.score(X_train, y_train))\n",
        "print('Test accuracy:', ovr_l1.score(X_test, y_test))"
      ],
      "execution_count": 149,
      "outputs": [
        {
          "output_type": "stream",
          "name": "stdout",
          "text": [
            "Training accuracy: 1.0\n",
            "Test accuracy: 1.0\n"
          ]
        }
      ]
    },
    {
      "cell_type": "code",
      "metadata": {
        "colab": {
          "base_uri": "https://localhost:8080/"
        },
        "id": "EqhGkMkGdAYV",
        "outputId": "ccca7641-8ef7-41c8-fad9-de6f7e9125e9"
      },
      "source": [
        "ovr_l2.fit(X_train, y_train)\n",
        "print('Training accuracy:', ovr_l2.score(X_train, y_train))\n",
        "print('Test accuracy:', ovr_l2.score(X_test, y_test))"
      ],
      "execution_count": 150,
      "outputs": [
        {
          "output_type": "stream",
          "name": "stdout",
          "text": [
            "Training accuracy: 0.9919354838709677\n",
            "Test accuracy: 1.0\n"
          ]
        }
      ]
    },
    {
      "cell_type": "markdown",
      "metadata": {
        "id": "B0gCJuvqpC8u"
      },
      "source": [
        "Podemos ver que se obtiene prácticamente el mismo resultado usando L1 o L2.\n",
        "\n",
        "---\n",
        "\n",
        "\n"
      ]
    },
    {
      "cell_type": "markdown",
      "metadata": {
        "id": "xrljndGBpAE3"
      },
      "source": [
        "Evaluando los modelos"
      ]
    },
    {
      "cell_type": "code",
      "metadata": {
        "id": "HKEd82TpdDF7"
      },
      "source": [
        "# EVALUANDO EL MODELO\n",
        "from sklearn.metrics import classification_report, confusion_matrix"
      ],
      "execution_count": 151,
      "outputs": []
    },
    {
      "cell_type": "code",
      "metadata": {
        "id": "oWlOS22KjFD_"
      },
      "source": [
        "matrix_ovr_l1 = confusion_matrix(y_test, ovr_l1.predict(X_test))\n",
        "matrix_ovr_l2 = confusion_matrix(y_test, ovr_l2.predict(X_test))"
      ],
      "execution_count": 152,
      "outputs": []
    },
    {
      "cell_type": "code",
      "metadata": {
        "colab": {
          "base_uri": "https://localhost:8080/",
          "height": 265
        },
        "id": "mepz8RW5kGZO",
        "outputId": "fd233396-28b3-4180-bd86-447e5c583042"
      },
      "source": [
        "plt_matrix_ovr_l1 = sb.heatmap(matrix_ovr_l1, cmap='Blues')\n",
        "plt_matrix_ovr_l2 = sb.heatmap(matrix_ovr_l2, cmap='Blues')"
      ],
      "execution_count": 153,
      "outputs": [
        {
          "output_type": "display_data",
          "data": {
            "image/png": "[encoded data removed]",
            "text/plain": [
              "<Figure size 432x288 with 3 Axes>"
            ]
          },
          "metadata": {
            "needs_background": "light"
          }
        }
      ]
    },
    {
      "cell_type": "code",
      "metadata": {
        "colab": {
          "base_uri": "https://localhost:8080/"
        },
        "id": "PcZ9hNIbsMIF",
        "outputId": "9dc0f58e-db39-491a-e876-85dba6c4d084"
      },
      "source": [
        "print(classification_report(y_test, ovr_l1.predict(X_test)))"
      ],
      "execution_count": 154,
      "outputs": [
        {
          "output_type": "stream",
          "name": "stdout",
          "text": [
            "              precision    recall  f1-score   support\n",
            "\n",
            "           1       1.00      1.00      1.00        18\n",
            "           2       1.00      1.00      1.00        21\n",
            "           3       1.00      1.00      1.00        15\n",
            "\n",
            "    accuracy                           1.00        54\n",
            "   macro avg       1.00      1.00      1.00        54\n",
            "weighted avg       1.00      1.00      1.00        54\n",
            "\n"
          ]
        }
      ]
    },
    {
      "cell_type": "code",
      "metadata": {
        "colab": {
          "base_uri": "https://localhost:8080/"
        },
        "id": "0-FoPka0sngA",
        "outputId": "5ef55997-72ff-4536-d8c9-d0912e72afb1"
      },
      "source": [
        "print(classification_report(y_test, ovr_l2.predict(X_test)))"
      ],
      "execution_count": 155,
      "outputs": [
        {
          "output_type": "stream",
          "name": "stdout",
          "text": [
            "              precision    recall  f1-score   support\n",
            "\n",
            "           1       1.00      1.00      1.00        18\n",
            "           2       1.00      1.00      1.00        21\n",
            "           3       1.00      1.00      1.00        15\n",
            "\n",
            "    accuracy                           1.00        54\n",
            "   macro avg       1.00      1.00      1.00        54\n",
            "weighted avg       1.00      1.00      1.00        54\n",
            "\n"
          ]
        }
      ]
    },
    {
      "cell_type": "markdown",
      "metadata": {
        "id": "IdrYl3srnsIZ"
      },
      "source": [
        "# 2) Regresión Logística: One vs One"
      ]
    },
    {
      "cell_type": "code",
      "metadata": {
        "id": "ek59zrgZnwp0"
      },
      "source": [
        "from sklearn.multiclass import OneVsOneClassifier"
      ],
      "execution_count": 156,
      "outputs": []
    },
    {
      "cell_type": "code",
      "metadata": {
        "id": "impJu4M1oJQc"
      },
      "source": [
        "ovo_l1 = OneVsOneClassifier(model_l1)\n",
        "ovo_l2 = OneVsOneClassifier(model_l2)"
      ],
      "execution_count": 157,
      "outputs": []
    },
    {
      "cell_type": "code",
      "metadata": {
        "colab": {
          "base_uri": "https://localhost:8080/"
        },
        "id": "A9qtHQuWqwVh",
        "outputId": "58a0d486-01a9-4d6a-ea48-d8bf47ec3a36"
      },
      "source": [
        "# Entrenando los modelos\n",
        "ovo_l1.fit(X_train, y_train)\n",
        "print('Training accuracy:', ovo_l1.score(X_train, y_train))\n",
        "print('Test accuracy:', ovo_l1.score(X_test, y_test))"
      ],
      "execution_count": 158,
      "outputs": [
        {
          "output_type": "stream",
          "name": "stdout",
          "text": [
            "Training accuracy: 0.9919354838709677\n",
            "Test accuracy: 1.0\n"
          ]
        }
      ]
    },
    {
      "cell_type": "code",
      "metadata": {
        "colab": {
          "base_uri": "https://localhost:8080/"
        },
        "id": "OYSOMNaZq3cv",
        "outputId": "8388af5a-21c0-4d2f-8d9a-8653c04379e2"
      },
      "source": [
        "ovo_l2.fit(X_train, y_train)\n",
        "print('Training accuracy:', ovo_l2.score(X_train, y_train))\n",
        "print('Test accuracy:', ovo_l2.score(X_test, y_test))"
      ],
      "execution_count": 159,
      "outputs": [
        {
          "output_type": "stream",
          "name": "stdout",
          "text": [
            "Training accuracy: 0.9919354838709677\n",
            "Test accuracy: 1.0\n"
          ]
        }
      ]
    },
    {
      "cell_type": "markdown",
      "metadata": {
        "id": "RylhDDKUrBpk"
      },
      "source": [
        "Al igual que con los modelos 'ovr' se obtienenn prácticamente los mismos resultados para L1 y L2\n",
        "\n",
        "---\n",
        "\n",
        "\n"
      ]
    },
    {
      "cell_type": "code",
      "metadata": {
        "id": "-B6fAL78q9ry"
      },
      "source": [
        "# Evaluando los modelos"
      ],
      "execution_count": 160,
      "outputs": []
    },
    {
      "cell_type": "code",
      "metadata": {
        "id": "uSNfQ4J5rQC9"
      },
      "source": [
        "matrix_ovo_l1 = confusion_matrix(y_test, ovo_l1.predict(X_test))\n",
        "matrix_ovo_l2 = confusion_matrix(y_test, ovo_l2.predict(X_test))"
      ],
      "execution_count": 161,
      "outputs": []
    },
    {
      "cell_type": "code",
      "metadata": {
        "colab": {
          "base_uri": "https://localhost:8080/",
          "height": 265
        },
        "id": "u-eelM9yrQ7-",
        "outputId": "7cb9622f-19f6-4b74-a6e8-b019035c8a48"
      },
      "source": [
        "plt_matrix_ovo_l1 = sb.heatmap(matrix_ovo_l1, cmap='Blues')\n",
        "plt_matrix_ovo_l2 = sb.heatmap(matrix_ovo_l2, cmap='Blues')"
      ],
      "execution_count": 162,
      "outputs": [
        {
          "output_type": "display_data",
          "data": {
            "image/png": "[encoded data removed]",
            "text/plain": [
              "<Figure size 432x288 with 3 Axes>"
            ]
          },
          "metadata": {
            "needs_background": "light"
          }
        }
      ]
    },
    {
      "cell_type": "markdown",
      "metadata": {
        "id": "nvmXJQECreur"
      },
      "source": [
        "# 3) KNN Classifier"
      ]
    },
    {
      "cell_type": "code",
      "metadata": {
        "id": "1zW4KciLraFq"
      },
      "source": [
        "#1 Importando el modelo (knn regresor)\n",
        "from sklearn.neighbors import KNeighborsClassifier"
      ],
      "execution_count": 163,
      "outputs": []
    },
    {
      "cell_type": "code",
      "metadata": {
        "id": "nuir9pJYrqjn"
      },
      "source": [
        "#2 Definiendo la instancia del modelo, es decir configurando y/o personalizando el modelo\n",
        "knn = KNeighborsClassifier()"
      ],
      "execution_count": 164,
      "outputs": []
    },
    {
      "cell_type": "code",
      "metadata": {
        "colab": {
          "base_uri": "https://localhost:8080/"
        },
        "id": "IyxIqqhoruss",
        "outputId": "0e1be7c7-c452-4be7-dd81-f5b2e0bab62c"
      },
      "source": [
        "#3 Entrenando el modelo con la Matriz 'X' y el vector 'y'\n",
        "knn.fit(X_train, y_train)"
      ],
      "execution_count": 165,
      "outputs": [
        {
          "output_type": "execute_result",
          "data": {
            "text/plain": [
              "KNeighborsClassifier(algorithm='auto', leaf_size=30, metric='minkowski',\n",
              "                     metric_params=None, n_jobs=None, n_neighbors=5, p=2,\n",
              "                     weights='uniform')"
            ]
          },
          "metadata": {},
          "execution_count": 165
        }
      ]
    },
    {
      "cell_type": "code",
      "metadata": {
        "colab": {
          "base_uri": "https://localhost:8080/"
        },
        "id": "OFK-cnMRr03J",
        "outputId": "83d38149-d7bb-488e-d42c-eb4cff758598"
      },
      "source": [
        "#4 Predecir los valores de los mismos datos de entrenamiento\n",
        "y_pred_knn = knn.predict(X_train)\n",
        "y_pred_knn"
      ],
      "execution_count": 166,
      "outputs": [
        {
          "output_type": "execute_result",
          "data": {
            "text/plain": [
              "array([3, 1, 1, 1, 3, 2, 2, 3, 2, 2, 2, 1, 3, 3, 1, 3, 2, 1, 3, 3, 2, 1,\n",
              "       2, 2, 2, 2, 3, 1, 1, 2, 1, 1, 3, 1, 2, 1, 1, 2, 3, 3, 1, 3, 3, 3,\n",
              "       1, 2, 3, 3, 2, 3, 2, 2, 2, 1, 2, 2, 3, 3, 2, 1, 1, 2, 3, 3, 2, 1,\n",
              "       2, 2, 2, 1, 1, 1, 1, 1, 3, 1, 1, 3, 2, 2, 3, 1, 2, 1, 2, 2, 3, 1,\n",
              "       1, 1, 1, 3, 2, 1, 1, 2, 2, 3, 3, 2, 1, 1, 2, 2, 3, 1, 3, 1, 2, 2,\n",
              "       2, 2, 1, 3, 1, 1, 1, 1, 2, 2, 3, 3, 2, 2])"
            ]
          },
          "metadata": {},
          "execution_count": 166
        }
      ]
    },
    {
      "cell_type": "code",
      "metadata": {
        "colab": {
          "base_uri": "https://localhost:8080/"
        },
        "id": "qyiPVchRr5sg",
        "outputId": "cd1f5225-b1e7-4750-defc-9291a893eeed"
      },
      "source": [
        "#5 Calcular R2\n",
        "score_knn = knn.score(X_train,y_train)\n",
        "score_knn"
      ],
      "execution_count": 167,
      "outputs": [
        {
          "output_type": "execute_result",
          "data": {
            "text/plain": [
              "0.967741935483871"
            ]
          },
          "metadata": {},
          "execution_count": 167
        }
      ]
    },
    {
      "cell_type": "code",
      "metadata": {
        "colab": {
          "base_uri": "https://localhost:8080/"
        },
        "id": "CePnudQnr8Ss",
        "outputId": "b5c548b8-185d-448f-afe2-9044f2812231"
      },
      "source": [
        "matrix_knn = confusion_matrix(y_test, knn.predict(X_test))\n",
        "matrix_knn"
      ],
      "execution_count": 168,
      "outputs": [
        {
          "output_type": "execute_result",
          "data": {
            "text/plain": [
              "array([[18,  0,  0],\n",
              "       [ 1, 19,  1],\n",
              "       [ 0,  0, 15]])"
            ]
          },
          "metadata": {},
          "execution_count": 168
        }
      ]
    },
    {
      "cell_type": "code",
      "metadata": {
        "colab": {
          "base_uri": "https://localhost:8080/",
          "height": 265
        },
        "id": "QUJSrqVVtE-L",
        "outputId": "0613e4c3-1f48-4401-f967-903c7a107dd2"
      },
      "source": [
        "plt_matrix_knn = sb.heatmap(matrix_knn, cmap='Blues')"
      ],
      "execution_count": 169,
      "outputs": [
        {
          "output_type": "display_data",
          "data": {
            "image/png": "[encoded data removed]",
            "text/plain": [
              "<Figure size 432x288 with 2 Axes>"
            ]
          },
          "metadata": {
            "needs_background": "light"
          }
        }
      ]
    },
    {
      "cell_type": "markdown",
      "metadata": {
        "id": "C0CobfGEtXVo"
      },
      "source": [
        "# 4) Random Forest"
      ]
    },
    {
      "cell_type": "code",
      "metadata": {
        "id": "T0v-E5LEtaQr"
      },
      "source": [
        "# Importando la librería\n",
        "from sklearn.ensemble import RandomForestClassifier"
      ],
      "execution_count": 170,
      "outputs": []
    },
    {
      "cell_type": "code",
      "metadata": {
        "id": "yQj8oAmzt4xr"
      },
      "source": [
        "clf = RandomForestClassifier()"
      ],
      "execution_count": 171,
      "outputs": []
    },
    {
      "cell_type": "code",
      "metadata": {
        "colab": {
          "base_uri": "https://localhost:8080/"
        },
        "id": "TA1E9q1juCVX",
        "outputId": "659b5026-b027-408a-b413-e038ca16d139"
      },
      "source": [
        "clf.fit(X_train, y_train)"
      ],
      "execution_count": 172,
      "outputs": [
        {
          "output_type": "execute_result",
          "data": {
            "text/plain": [
              "RandomForestClassifier(bootstrap=True, ccp_alpha=0.0, class_weight=None,\n",
              "                       criterion='gini', max_depth=None, max_features='auto',\n",
              "                       max_leaf_nodes=None, max_samples=None,\n",
              "                       min_impurity_decrease=0.0, min_impurity_split=None,\n",
              "                       min_samples_leaf=1, min_samples_split=2,\n",
              "                       min_weight_fraction_leaf=0.0, n_estimators=100,\n",
              "                       n_jobs=None, oob_score=False, random_state=None,\n",
              "                       verbose=0, warm_start=False)"
            ]
          },
          "metadata": {},
          "execution_count": 172
        }
      ]
    },
    {
      "cell_type": "code",
      "metadata": {
        "colab": {
          "base_uri": "https://localhost:8080/"
        },
        "id": "L8ANHvi6uFjX",
        "outputId": "c6c39171-1004-44be-a9d6-4a378aa72a19"
      },
      "source": [
        "#4 Predecir los valores de los mismos datos de entrenamiento\n",
        "y_pred_clf = clf.predict(X_train)\n",
        "y_pred_clf"
      ],
      "execution_count": 173,
      "outputs": [
        {
          "output_type": "execute_result",
          "data": {
            "text/plain": [
              "array([3, 1, 1, 1, 3, 2, 2, 3, 2, 2, 2, 1, 2, 3, 1, 3, 2, 1, 3, 3, 2, 1,\n",
              "       2, 2, 2, 2, 3, 1, 2, 2, 1, 1, 3, 1, 2, 1, 1, 2, 3, 3, 1, 3, 3, 3,\n",
              "       1, 2, 3, 3, 2, 3, 2, 2, 2, 1, 2, 2, 3, 3, 2, 1, 1, 2, 3, 3, 2, 1,\n",
              "       2, 2, 2, 1, 1, 1, 1, 1, 3, 1, 2, 3, 2, 2, 3, 1, 2, 1, 2, 2, 3, 2,\n",
              "       1, 1, 1, 3, 2, 1, 1, 2, 2, 3, 3, 2, 1, 1, 2, 2, 3, 1, 3, 1, 2, 2,\n",
              "       2, 2, 1, 3, 1, 1, 1, 1, 2, 2, 3, 3, 2, 2])"
            ]
          },
          "metadata": {},
          "execution_count": 173
        }
      ]
    },
    {
      "cell_type": "code",
      "metadata": {
        "colab": {
          "base_uri": "https://localhost:8080/"
        },
        "id": "TEor3fRRuZ4h",
        "outputId": "7b2bf331-b318-4bf0-b7d8-d6f7c979585c"
      },
      "source": [
        "# calcular la precisión de clasificación\n",
        "score_clf = clf.score(X_test, y_test)\n",
        "score_clf"
      ],
      "execution_count": 174,
      "outputs": [
        {
          "output_type": "execute_result",
          "data": {
            "text/plain": [
              "1.0"
            ]
          },
          "metadata": {},
          "execution_count": 174
        }
      ]
    },
    {
      "cell_type": "code",
      "metadata": {
        "colab": {
          "base_uri": "https://localhost:8080/"
        },
        "id": "Zp-yX-tuuhBJ",
        "outputId": "18d4ac5f-15ae-4cfd-e932-1458dd8858bc"
      },
      "source": [
        "clf.feature_importances_"
      ],
      "execution_count": 175,
      "outputs": [
        {
          "output_type": "execute_result",
          "data": {
            "text/plain": [
              "array([0.1012301 , 0.02974683, 0.0073909 , 0.02176814, 0.02784444,\n",
              "       0.05871135, 0.15892931, 0.01246628, 0.01878553, 0.1972084 ,\n",
              "       0.07126589, 0.1029373 , 0.19171552])"
            ]
          },
          "metadata": {},
          "execution_count": 175
        }
      ]
    },
    {
      "cell_type": "code",
      "metadata": {
        "colab": {
          "base_uri": "https://localhost:8080/",
          "height": 457
        },
        "id": "i5GabM6ayD2W",
        "outputId": "6bb7f31c-11bc-4146-d112-743a835c96db"
      },
      "source": [
        "importancia_clf = pd.DataFrame(\n",
        "                            {'predictor': df.drop(columns = \"Class label\").columns,\n",
        "                             'importancia': clf.feature_importances_}\n",
        "                            )\n",
        "importancia_clf.sort_values('importancia', ascending=False)"
      ],
      "execution_count": 176,
      "outputs": [
        {
          "output_type": "execute_result",
          "data": {
            "text/html": [
              "<div>\n",
              "<style scoped>\n",
              "    .dataframe tbody tr th:only-of-type {\n",
              "        vertical-align: middle;\n",
              "    }\n",
              "\n",
              "    .dataframe tbody tr th {\n",
              "        vertical-align: top;\n",
              "    }\n",
              "\n",
              "    .dataframe thead th {\n",
              "        text-align: right;\n",
              "    }\n",
              "</style>\n",
              "<table border=\"1\" class=\"dataframe\">\n",
              "  <thead>\n",
              "    <tr style=\"text-align: right;\">\n",
              "      <th></th>\n",
              "      <th>predictor</th>\n",
              "      <th>importancia</th>\n",
              "    </tr>\n",
              "  </thead>\n",
              "  <tbody>\n",
              "    <tr>\n",
              "      <th>9</th>\n",
              "      <td>Color intensity</td>\n",
              "      <td>0.197208</td>\n",
              "    </tr>\n",
              "    <tr>\n",
              "      <th>12</th>\n",
              "      <td>Proline</td>\n",
              "      <td>0.191716</td>\n",
              "    </tr>\n",
              "    <tr>\n",
              "      <th>6</th>\n",
              "      <td>Flavanoids</td>\n",
              "      <td>0.158929</td>\n",
              "    </tr>\n",
              "    <tr>\n",
              "      <th>11</th>\n",
              "      <td>OD280/OD315 of diluted wines</td>\n",
              "      <td>0.102937</td>\n",
              "    </tr>\n",
              "    <tr>\n",
              "      <th>0</th>\n",
              "      <td>Alcohol</td>\n",
              "      <td>0.101230</td>\n",
              "    </tr>\n",
              "    <tr>\n",
              "      <th>10</th>\n",
              "      <td>Hue</td>\n",
              "      <td>0.071266</td>\n",
              "    </tr>\n",
              "    <tr>\n",
              "      <th>5</th>\n",
              "      <td>Total phenols</td>\n",
              "      <td>0.058711</td>\n",
              "    </tr>\n",
              "    <tr>\n",
              "      <th>1</th>\n",
              "      <td>Malic acid</td>\n",
              "      <td>0.029747</td>\n",
              "    </tr>\n",
              "    <tr>\n",
              "      <th>4</th>\n",
              "      <td>Magnesium</td>\n",
              "      <td>0.027844</td>\n",
              "    </tr>\n",
              "    <tr>\n",
              "      <th>3</th>\n",
              "      <td>Alcalinity of ash</td>\n",
              "      <td>0.021768</td>\n",
              "    </tr>\n",
              "    <tr>\n",
              "      <th>8</th>\n",
              "      <td>Proanthocyanins</td>\n",
              "      <td>0.018786</td>\n",
              "    </tr>\n",
              "    <tr>\n",
              "      <th>7</th>\n",
              "      <td>Nonflavanoid phenols</td>\n",
              "      <td>0.012466</td>\n",
              "    </tr>\n",
              "    <tr>\n",
              "      <th>2</th>\n",
              "      <td>Ash</td>\n",
              "      <td>0.007391</td>\n",
              "    </tr>\n",
              "  </tbody>\n",
              "</table>\n",
              "</div>"
            ],
            "text/plain": [
              "                       predictor  importancia\n",
              "9                Color intensity     0.197208\n",
              "12                       Proline     0.191716\n",
              "6                     Flavanoids     0.158929\n",
              "11  OD280/OD315 of diluted wines     0.102937\n",
              "0                        Alcohol     0.101230\n",
              "10                           Hue     0.071266\n",
              "5                  Total phenols     0.058711\n",
              "1                     Malic acid     0.029747\n",
              "4                      Magnesium     0.027844\n",
              "3              Alcalinity of ash     0.021768\n",
              "8                Proanthocyanins     0.018786\n",
              "7           Nonflavanoid phenols     0.012466\n",
              "2                            Ash     0.007391"
            ]
          },
          "metadata": {},
          "execution_count": 176
        }
      ]
    },
    {
      "cell_type": "markdown",
      "metadata": {
        "id": "coGSJOLA0xkd"
      },
      "source": [
        "# Conclusiones\n",
        "\n",
        "---\n",
        "Extrañamente todos los modelos me dieron prácticamente los mismos resultados, a excepción del 'knn' que fue el \"peor\" con R2=0.96.\n",
        "Pero en particular me gusta más 'Random Forest' porque puedo evaluar fácilmente la importancia de las variables.\n"
      ]
    }
  ]
}